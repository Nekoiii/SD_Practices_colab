{
  "nbformat": 4,
  "nbformat_minor": 0,
  "metadata": {
    "colab": {
      "provenance": [],
      "machine_shape": "hm",
      "gpuType": "A100",
      "mount_file_id": "1hxbA6FLNJAhlw9erlnK9oXiSOK4968rh",
      "authorship_tag": "ABX9TyORV15CPzapf0Cbc67nXGXH",
      "include_colab_link": true
    },
    "kernelspec": {
      "name": "python3",
      "display_name": "Python 3"
    },
    "language_info": {
      "name": "python"
    },
    "accelerator": "GPU"
  },
  "cells": [
    {
      "cell_type": "markdown",
      "metadata": {
        "id": "view-in-github",
        "colab_type": "text"
      },
      "source": [
        "<a href=\"https://colab.research.google.com/github/Nekoiii/ML_Practices_colab/blob/main/porcess_imgs.ipynb\" target=\"_parent\"><img src=\"https://colab.research.google.com/assets/colab-badge.svg\" alt=\"Open In Colab\"/></a>"
      ]
    },
    {
      "cell_type": "code",
      "execution_count": null,
      "metadata": {
        "id": "2D--9m88pT6U"
      },
      "outputs": [],
      "source": [
        "#@title Resize Images\n",
        "import cv2\n",
        "import os\n",
        "import shutil\n",
        "\n",
        "\n",
        "def resize_imgs(input_folder,output_folder,target_height,target_width):\n",
        "\n",
        "  if os.path.exists(output_folder):\n",
        "    shutil.rmtree(output_folder)\n",
        "  os.makedirs(output_folder)\n",
        "  \n",
        "  for filename in os.listdir(input_folder):\n",
        "    if filename.endswith(('.jpg', '.jpeg', '.png')): \n",
        "      img_path = os.path.join(input_folder, filename)\n",
        "      output_path = os.path.join(output_folder, filename)\n",
        "      \n",
        "      img = cv2.imread(img_path)\n",
        "      height, width = img.shape[:2]\n",
        "\n",
        "      if height < width:\n",
        "        scale = target_height / height\n",
        "      else:\n",
        "        scale = target_width / width\n",
        "\n",
        "      if scale < 1:\n",
        "          img = cv2.resize(img, None, fx=scale, fy=scale, interpolation=cv2.INTER_AREA)\n",
        "      elif scale > 1:\n",
        "          img = cv2.resize(img, None, fx=scale, fy=scale, interpolation=cv2.INTER_CUBIC)\n",
        "      \n",
        "      new_height, new_width = img.shape[:2]\n",
        "      start_x = (new_width - target_width) // 2\n",
        "      start_y = (new_height - target_height) // 4\n",
        "      end_x = start_x + target_width\n",
        "      end_y = start_y + target_height\n",
        "      cropped_img = img[start_y:end_y, start_x:end_x]\n",
        "      \n",
        "      cv2.imwrite(output_path, cropped_img)\n",
        "      print(f\"Resized and cropped image: {filename}\")\n",
        "  \n",
        "  print(\"Image resizing completed.\")\n",
        "\n",
        "\n",
        "target_height=512\n",
        "target_width=512\n",
        "input_folder='/content/drive/MyDrive/ML_Practices/Lora_test_1/instance_imgs_2'\n",
        "output_folder='/content/drive/MyDrive/ML_Practices/Lora_test_1/resized_sample_data_3'\n",
        "resize_imgs(input_folder,output_folder,target_height,target_width)\n"
      ]
    },
    {
      "cell_type": "code",
      "source": [],
      "metadata": {
        "id": "onrlaRrQBzJw"
      },
      "execution_count": null,
      "outputs": []
    }
  ]
}