{
  "nbformat": 4,
  "nbformat_minor": 0,
  "metadata": {
    "colab": {
      "provenance": [],
      "machine_shape": "hm",
      "gpuType": "A100",
      "authorship_tag": "ABX9TyM/sZanUEI3WzvXr/oZoBBo",
      "include_colab_link": true
    },
    "kernelspec": {
      "name": "python3",
      "display_name": "Python 3"
    },
    "language_info": {
      "name": "python"
    },
    "accelerator": "GPU"
  },
  "cells": [
    {
      "cell_type": "markdown",
      "metadata": {
        "id": "view-in-github",
        "colab_type": "text"
      },
      "source": [
        "<a href=\"https://colab.research.google.com/github/Nekoiii/ML_Practices_colab/blob/main/StableDiffusion_test_1.ipynb\" target=\"_parent\"><img src=\"https://colab.research.google.com/assets/colab-badge.svg\" alt=\"Open In Colab\"/></a>"
      ]
    },
    {
      "cell_type": "markdown",
      "source": [
        "Referenced article: https://torch.classcat.com/2023/04/06/blog-pytorch-2-0-colab-sd-webui-intro/"
      ],
      "metadata": {
        "id": "6lnsrmJOJLA-"
      }
    },
    {
      "cell_type": "code",
      "execution_count": null,
      "metadata": {
        "id": "2Z6KmX2Kwhcf"
      },
      "outputs": [],
      "source": [
        "%%script false --no-raise-error\n",
        "# Check NVIDIA GPU information\n",
        "!nvidia-smi\n",
        "# Check system memory usage\n",
        "!free -h"
      ]
    },
    {
      "cell_type": "code",
      "source": [
        "%%script false --no-raise-error\n",
        "# List installed Python packages and search for 'torch'\n",
        "!pip list | grep -y torch"
      ],
      "metadata": {
        "id": "3RY6J7ecGWhP"
      },
      "execution_count": null,
      "outputs": []
    },
    {
      "cell_type": "code",
      "source": [
        "!pip install xformers\n",
        "!pip install  -U --pre triton"
      ],
      "metadata": {
        "colab": {
          "base_uri": "https://localhost:8080/"
        },
        "id": "7sYcvPMHHQ5W",
        "outputId": "b4fb4fa1-d598-4c21-f7f5-fc27081b14a5"
      },
      "execution_count": 7,
      "outputs": [
        {
          "output_type": "stream",
          "name": "stdout",
          "text": [
            "Looking in indexes: https://pypi.org/simple, https://us-python.pkg.dev/colab-wheels/public/simple/\n",
            "Collecting xformers\n",
            "  Downloading xformers-0.0.20-cp310-cp310-manylinux2014_x86_64.whl (109.1 MB)\n",
            "\u001b[2K     \u001b[90m━━━━━━━━━━━━━━━━━━━━━━━━━━━━━━━━━━━━━━\u001b[0m \u001b[32m109.1/109.1 MB\u001b[0m \u001b[31m16.7 MB/s\u001b[0m eta \u001b[36m0:00:00\u001b[0m\n",
            "\u001b[?25hRequirement already satisfied: numpy in /usr/local/lib/python3.10/dist-packages (from xformers) (1.22.4)\n",
            "Collecting pyre-extensions==0.0.29 (from xformers)\n",
            "  Downloading pyre_extensions-0.0.29-py3-none-any.whl (12 kB)\n",
            "Requirement already satisfied: torch==2.0.1 in /usr/local/lib/python3.10/dist-packages (from xformers) (2.0.1+cu118)\n",
            "Collecting typing-inspect (from pyre-extensions==0.0.29->xformers)\n",
            "  Downloading typing_inspect-0.9.0-py3-none-any.whl (8.8 kB)\n",
            "Requirement already satisfied: typing-extensions in /usr/local/lib/python3.10/dist-packages (from pyre-extensions==0.0.29->xformers) (4.5.0)\n",
            "Requirement already satisfied: filelock in /usr/local/lib/python3.10/dist-packages (from torch==2.0.1->xformers) (3.12.0)\n",
            "Requirement already satisfied: sympy in /usr/local/lib/python3.10/dist-packages (from torch==2.0.1->xformers) (1.11.1)\n",
            "Requirement already satisfied: networkx in /usr/local/lib/python3.10/dist-packages (from torch==2.0.1->xformers) (3.1)\n",
            "Requirement already satisfied: jinja2 in /usr/local/lib/python3.10/dist-packages (from torch==2.0.1->xformers) (3.1.2)\n",
            "Requirement already satisfied: triton==2.0.0 in /usr/local/lib/python3.10/dist-packages (from torch==2.0.1->xformers) (2.0.0)\n",
            "Requirement already satisfied: cmake in /usr/local/lib/python3.10/dist-packages (from triton==2.0.0->torch==2.0.1->xformers) (3.25.2)\n",
            "Requirement already satisfied: lit in /usr/local/lib/python3.10/dist-packages (from triton==2.0.0->torch==2.0.1->xformers) (16.0.5)\n",
            "Requirement already satisfied: MarkupSafe>=2.0 in /usr/local/lib/python3.10/dist-packages (from jinja2->torch==2.0.1->xformers) (2.1.2)\n",
            "Requirement already satisfied: mpmath>=0.19 in /usr/local/lib/python3.10/dist-packages (from sympy->torch==2.0.1->xformers) (1.3.0)\n",
            "Collecting mypy-extensions>=0.3.0 (from typing-inspect->pyre-extensions==0.0.29->xformers)\n",
            "  Downloading mypy_extensions-1.0.0-py3-none-any.whl (4.7 kB)\n",
            "Installing collected packages: mypy-extensions, typing-inspect, pyre-extensions, xformers\n",
            "Successfully installed mypy-extensions-1.0.0 pyre-extensions-0.0.29 typing-inspect-0.9.0 xformers-0.0.20\n",
            "Looking in indexes: https://pypi.org/simple, https://us-python.pkg.dev/colab-wheels/public/simple/\n",
            "Requirement already satisfied: triton in /usr/local/lib/python3.10/dist-packages (2.0.0)\n",
            "Collecting triton\n",
            "  Downloading triton-2.0.0.post1-cp310-cp310-manylinux_2_17_x86_64.manylinux2014_x86_64.whl (63.3 MB)\n",
            "\u001b[2K     \u001b[90m━━━━━━━━━━━━━━━━━━━━━━━━━━━━━━━━━━━━━━━━\u001b[0m \u001b[32m63.3/63.3 MB\u001b[0m \u001b[31m27.5 MB/s\u001b[0m eta \u001b[36m0:00:00\u001b[0m\n",
            "\u001b[?25hRequirement already satisfied: cmake in /usr/local/lib/python3.10/dist-packages (from triton) (3.25.2)\n",
            "Requirement already satisfied: filelock in /usr/local/lib/python3.10/dist-packages (from triton) (3.12.0)\n",
            "Requirement already satisfied: torch in /usr/local/lib/python3.10/dist-packages (from triton) (2.0.1+cu118)\n",
            "Requirement already satisfied: lit in /usr/local/lib/python3.10/dist-packages (from triton) (16.0.5)\n",
            "Requirement already satisfied: typing-extensions in /usr/local/lib/python3.10/dist-packages (from torch->triton) (4.5.0)\n",
            "Requirement already satisfied: sympy in /usr/local/lib/python3.10/dist-packages (from torch->triton) (1.11.1)\n",
            "Requirement already satisfied: networkx in /usr/local/lib/python3.10/dist-packages (from torch->triton) (3.1)\n",
            "Requirement already satisfied: jinja2 in /usr/local/lib/python3.10/dist-packages (from torch->triton) (3.1.2)\n",
            "Requirement already satisfied: MarkupSafe>=2.0 in /usr/local/lib/python3.10/dist-packages (from jinja2->torch->triton) (2.1.2)\n",
            "Requirement already satisfied: mpmath>=0.19 in /usr/local/lib/python3.10/dist-packages (from sympy->torch->triton) (1.3.0)\n"
          ]
        }
      ]
    },
    {
      "cell_type": "code",
      "source": [
        "!git clone https://github.com/AUTOMATIC1111/stable-diffusion-webui /content/stable-diffusion-webui"
      ],
      "metadata": {
        "colab": {
          "base_uri": "https://localhost:8080/"
        },
        "id": "ogbZ9BHOHQ9G",
        "outputId": "84bd2611-8dbc-4ca1-ab0f-ba7ac86ca111"
      },
      "execution_count": 9,
      "outputs": [
        {
          "output_type": "stream",
          "name": "stdout",
          "text": [
            "Cloning into '/content/stable-diffusion-webui'...\n",
            "remote: Enumerating objects: 22147, done.\u001b[K\n",
            "remote: Counting objects: 100% (293/293), done.\u001b[K\n",
            "remote: Compressing objects: 100% (175/175), done.\u001b[K\n",
            "remote: Total 22147 (delta 163), reused 205 (delta 105), pack-reused 21854\u001b[K\n",
            "Receiving objects: 100% (22147/22147), 30.27 MiB | 11.26 MiB/s, done.\n",
            "Resolving deltas: 100% (15490/15490), done.\n"
          ]
        }
      ]
    },
    {
      "cell_type": "markdown",
      "source": [],
      "metadata": {
        "id": "Y4Yra5_xHRCQ"
      }
    },
    {
      "cell_type": "code",
      "source": [
        "!wget https://huggingface.co/runwayml/stable-diffusion-v1-5/resolve/main/v1-5-pruned-emaonly.safetensors -O /content/stable-diffusion-webui/models/Stable-diffusion/v1-5-pruned-emaonly.safetensors"
      ],
      "metadata": {
        "colab": {
          "base_uri": "https://localhost:8080/"
        },
        "id": "hyb3TQuJHRNu",
        "outputId": "9759a1fa-65b6-47b2-f715-91ee47c5ac1d"
      },
      "execution_count": 11,
      "outputs": [
        {
          "output_type": "stream",
          "name": "stdout",
          "text": [
            "--2023-06-05 02:51:36--  https://huggingface.co/runwayml/stable-diffusion-v1-5/resolve/main/v1-5-pruned-emaonly.safetensors\n",
            "Resolving huggingface.co (huggingface.co)... 18.155.68.38, 18.155.68.44, 18.155.68.116, ...\n",
            "Connecting to huggingface.co (huggingface.co)|18.155.68.38|:443... connected.\n",
            "HTTP request sent, awaiting response... 302 Found\n",
            "Location: https://cdn-lfs.huggingface.co/repos/6b/20/6b201da5f0f5c60524535ebb7deac2eef68605655d3bbacfee9cce0087f3b3f5/6ce0161689b3853acaa03779ec93eafe75a02f4ced659bee03f50797806fa2fa?response-content-disposition=attachment%3B+filename*%3DUTF-8%27%27v1-5-pruned-emaonly.safetensors%3B+filename%3D%22v1-5-pruned-emaonly.safetensors%22%3B&Expires=1686190375&Policy=eyJTdGF0ZW1lbnQiOlt7IlJlc291cmNlIjoiaHR0cHM6Ly9jZG4tbGZzLmh1Z2dpbmdmYWNlLmNvL3JlcG9zLzZiLzIwLzZiMjAxZGE1ZjBmNWM2MDUyNDUzNWViYjdkZWFjMmVlZjY4NjA1NjU1ZDNiYmFjZmVlOWNjZTAwODdmM2IzZjUvNmNlMDE2MTY4OWIzODUzYWNhYTAzNzc5ZWM5M2VhZmU3NWEwMmY0Y2VkNjU5YmVlMDNmNTA3OTc4MDZmYTJmYT9yZXNwb25zZS1jb250ZW50LWRpc3Bvc2l0aW9uPSoiLCJDb25kaXRpb24iOnsiRGF0ZUxlc3NUaGFuIjp7IkFXUzpFcG9jaFRpbWUiOjE2ODYxOTAzNzV9fX1dfQ__&Signature=g%7Ew5rkb100%7EKbcveWj5Q3u6UV38lRGLr8FSbkdswKZuncZoSNTDkwH05zmBo4bRwsvVeFqhj88SR6yA8q-2LRA0rRvYbAj9T44lBCWbpVZ0AzQUrXG-eDLkPkwRpNXBkRb-lXbLREts07OGIcZAH7CBszW-D-U-a7O2xOKtveEmfdT%7EzsxSPuy-hARIrWI9Wwmjxa7lfPrYAkEdJhjX-ovOfpDA%7EZK67ShQm8GM15x5jCoXj4d8dy1-joz7HQOlYLLJQkMRTE-aIdXyEs9A6lj7Q9Kj60ua2DrCD2EWQCh%7En8TuC7MrVvmeC3FiBuXRZZ-Qev-y6jOhR%7EWJf8KtTeA__&Key-Pair-Id=KVTP0A1DKRTAX [following]\n",
            "--2023-06-05 02:51:36--  https://cdn-lfs.huggingface.co/repos/6b/20/6b201da5f0f5c60524535ebb7deac2eef68605655d3bbacfee9cce0087f3b3f5/6ce0161689b3853acaa03779ec93eafe75a02f4ced659bee03f50797806fa2fa?response-content-disposition=attachment%3B+filename*%3DUTF-8%27%27v1-5-pruned-emaonly.safetensors%3B+filename%3D%22v1-5-pruned-emaonly.safetensors%22%3B&Expires=1686190375&Policy=eyJTdGF0ZW1lbnQiOlt7IlJlc291cmNlIjoiaHR0cHM6Ly9jZG4tbGZzLmh1Z2dpbmdmYWNlLmNvL3JlcG9zLzZiLzIwLzZiMjAxZGE1ZjBmNWM2MDUyNDUzNWViYjdkZWFjMmVlZjY4NjA1NjU1ZDNiYmFjZmVlOWNjZTAwODdmM2IzZjUvNmNlMDE2MTY4OWIzODUzYWNhYTAzNzc5ZWM5M2VhZmU3NWEwMmY0Y2VkNjU5YmVlMDNmNTA3OTc4MDZmYTJmYT9yZXNwb25zZS1jb250ZW50LWRpc3Bvc2l0aW9uPSoiLCJDb25kaXRpb24iOnsiRGF0ZUxlc3NUaGFuIjp7IkFXUzpFcG9jaFRpbWUiOjE2ODYxOTAzNzV9fX1dfQ__&Signature=g%7Ew5rkb100%7EKbcveWj5Q3u6UV38lRGLr8FSbkdswKZuncZoSNTDkwH05zmBo4bRwsvVeFqhj88SR6yA8q-2LRA0rRvYbAj9T44lBCWbpVZ0AzQUrXG-eDLkPkwRpNXBkRb-lXbLREts07OGIcZAH7CBszW-D-U-a7O2xOKtveEmfdT%7EzsxSPuy-hARIrWI9Wwmjxa7lfPrYAkEdJhjX-ovOfpDA%7EZK67ShQm8GM15x5jCoXj4d8dy1-joz7HQOlYLLJQkMRTE-aIdXyEs9A6lj7Q9Kj60ua2DrCD2EWQCh%7En8TuC7MrVvmeC3FiBuXRZZ-Qev-y6jOhR%7EWJf8KtTeA__&Key-Pair-Id=KVTP0A1DKRTAX\n",
            "Resolving cdn-lfs.huggingface.co (cdn-lfs.huggingface.co)... 18.155.68.94, 18.155.68.128, 18.155.68.98, ...\n",
            "Connecting to cdn-lfs.huggingface.co (cdn-lfs.huggingface.co)|18.155.68.94|:443... connected.\n",
            "HTTP request sent, awaiting response... 200 OK\n",
            "Length: 4265146304 (4.0G) [binary/octet-stream]\n",
            "Saving to: ‘/content/stable-diffusion-webui/models/Stable-diffusion/v1-5-pruned-emaonly.safetensors’\n",
            "\n",
            "/content/stable-dif 100%[===================>]   3.97G   314MB/s    in 11s     \n",
            "\n",
            "2023-06-05 02:51:47 (387 MB/s) - ‘/content/stable-diffusion-webui/models/Stable-diffusion/v1-5-pruned-emaonly.safetensors’ saved [4265146304/4265146304]\n",
            "\n"
          ]
        }
      ]
    },
    {
      "cell_type": "code",
      "source": [
        "%cd /content/stable-diffusion-webui\n",
        "# --exit :to pre-install only the dependencies.（Since the dependency installation phase is lengthy.You can start it abruptly）\n",
        "!python launch.py --exit"
      ],
      "metadata": {
        "colab": {
          "base_uri": "https://localhost:8080/"
        },
        "id": "PUWok_UWHRSr",
        "outputId": "6cc1d8a7-df88-4fdc-bd29-ad3cd15dc204"
      },
      "execution_count": 10,
      "outputs": [
        {
          "output_type": "stream",
          "name": "stdout",
          "text": [
            "/content/stable-diffusion-webui\n",
            "Python 3.10.11 (main, Apr  5 2023, 14:15:10) [GCC 9.4.0]\n",
            "Version: v1.3.1\n",
            "Commit hash: b6af0a3809ea869fb180633f9affcae4b199ffcf\n",
            "Installing gfpgan\n",
            "Installing clip\n",
            "Installing open_clip\n",
            "Cloning Stable Diffusion into /content/stable-diffusion-webui/repositories/stable-diffusion-stability-ai...\n",
            "Cloning Taming Transformers into /content/stable-diffusion-webui/repositories/taming-transformers...\n",
            "Cloning K-diffusion into /content/stable-diffusion-webui/repositories/k-diffusion...\n",
            "Cloning CodeFormer into /content/stable-diffusion-webui/repositories/CodeFormer...\n",
            "Cloning BLIP into /content/stable-diffusion-webui/repositories/BLIP...\n",
            "Installing requirements for CodeFormer\n",
            "Installing requirements\n",
            "Exiting because of --exit argument\n"
          ]
        }
      ]
    },
    {
      "cell_type": "code",
      "source": [
        "#@title Mount Google Drive\n",
        "from google.colab import drive\n",
        "drive.mount('/content/gdrive')"
      ],
      "metadata": {
        "colab": {
          "base_uri": "https://localhost:8080/"
        },
        "id": "w7o5FiR6MOU3",
        "outputId": "dbbf8b93-81fd-42c4-d6a0-ac0819b7afbf"
      },
      "execution_count": 3,
      "outputs": [
        {
          "output_type": "stream",
          "name": "stdout",
          "text": [
            "Mounted at /content/gdrive\n"
          ]
        }
      ]
    },
    {
      "cell_type": "code",
      "source": [
        "%%script false --no-raise-error\n",
        "#@title Download Model way-1\n",
        "save_pth=''\n",
        "%cd save_pth\n",
        "\n",
        "MODEL_LINK=''\n",
        "safetensors = False \n",
        "if not safetensors:\n",
        "  modelname=\"xxx.ckpt\"\n",
        "else:\n",
        "  modelname=\"xxx.safetensors\"\n",
        "\n",
        "!gdown --fuzzy -O $modelname \"$MODEL_LINK\"\n",
        "\n",
        "if os.path.exists(f'{save_pth}/{modelname}') and os.path.getsize(f'{save_pth}/{modelname}') > 1810671599:    \n",
        "    model=f'{save_pth}/{modelname}'\n",
        "    clear_output()\n",
        "    inf('\\u2714 Model downloaded, using the trained model.','success', '350px')\n",
        "else:\n",
        "  if Use_temp_storage:\n",
        "    !rm $pth/$modelname\n",
        "  else:\n",
        "    rmv()\n",
        "  inf('\\u2718 Wrong link, check that the link is valid','danger', \"300px\")\n"
      ],
      "metadata": {
        "id": "vR3gFWB2QFkX"
      },
      "execution_count": null,
      "outputs": []
    },
    {
      "cell_type": "code",
      "source": [
        "%%script false --no-raise-error\n",
        "#@title Download Model way-2\n",
        "%cd '/content/gdrive/MyDrive/StableDifussion/models'\n",
        "!wget https://huggingface.co/prompthero/openjourney/resolve/main/mdjrny-v4.safetensors -O /content/gdrive/MyDrive/StableDifussion/models/mdjrny-v4.safetensors"
      ],
      "metadata": {
        "colab": {
          "base_uri": "https://localhost:8080/"
        },
        "id": "KezMr9LIap1-",
        "outputId": "3712bc22-264c-492c-b585-d5908f40c45c"
      },
      "execution_count": 6,
      "outputs": [
        {
          "output_type": "stream",
          "name": "stdout",
          "text": [
            "/content/gdrive/MyDrive/StableDifussion/models\n",
            "--2023-06-05 02:46:36--  https://huggingface.co/prompthero/openjourney/resolve/main/mdjrny-v4.safetensors\n",
            "Resolving huggingface.co (huggingface.co)... 18.155.68.38, 18.155.68.121, 18.155.68.116, ...\n",
            "Connecting to huggingface.co (huggingface.co)|18.155.68.38|:443... connected.\n",
            "HTTP request sent, awaiting response... 302 Found\n",
            "Location: https://cdn-lfs.huggingface.co/repos/4d/83/4d83f69eb5da51a018f2377118e4217dd6c7c348d5baed06fedd2eb3f2992ed3/aba96b389d00943360a82d4b955c85a44baefec493a96bbd9d521258e6e467a0?response-content-disposition=attachment%3B+filename*%3DUTF-8%27%27mdjrny-v4.safetensors%3B+filename%3D%22mdjrny-v4.safetensors%22%3B&Expires=1686185909&Policy=eyJTdGF0ZW1lbnQiOlt7IlJlc291cmNlIjoiaHR0cHM6Ly9jZG4tbGZzLmh1Z2dpbmdmYWNlLmNvL3JlcG9zLzRkLzgzLzRkODNmNjllYjVkYTUxYTAxOGYyMzc3MTE4ZTQyMTdkZDZjN2MzNDhkNWJhZWQwNmZlZGQyZWIzZjI5OTJlZDMvYWJhOTZiMzg5ZDAwOTQzMzYwYTgyZDRiOTU1Yzg1YTQ0YmFlZmVjNDkzYTk2YmJkOWQ1MjEyNThlNmU0NjdhMD9yZXNwb25zZS1jb250ZW50LWRpc3Bvc2l0aW9uPSoiLCJDb25kaXRpb24iOnsiRGF0ZUxlc3NUaGFuIjp7IkFXUzpFcG9jaFRpbWUiOjE2ODYxODU5MDl9fX1dfQ__&Signature=NC5KLwneOjCFWAYBovf5AHuLuWsohuCtMOQt7TOyVFslw%7ELYGpWAd6tSb8qthO-ggwXgcyNFANtsp5azxJv8uC3umVLyTcD%7ErEwdMFCJ2UO8VS5qi9AqNLUac-6vGm6kSD1Em648OW3VPTtxREAcM7O1G1cKheSFALV0z17hD1wVRu5td-MUgujV5TqDkRT40uJWkfWA76REWM0IQ5JEQ4%7Eds1LEw-RkwGZwHDg8jJQyTLu23o4BVP3u4crnF2TBT-cm0%7EIj4q20Fjx5tI2iZgXSwQDRJCvtJvqob4IAW3ueXU5ehfzvZOG1Zd3bFhDE%7EYFNMyOiE-aQDTCIbK7rTQ__&Key-Pair-Id=KVTP0A1DKRTAX [following]\n",
            "--2023-06-05 02:46:36--  https://cdn-lfs.huggingface.co/repos/4d/83/4d83f69eb5da51a018f2377118e4217dd6c7c348d5baed06fedd2eb3f2992ed3/aba96b389d00943360a82d4b955c85a44baefec493a96bbd9d521258e6e467a0?response-content-disposition=attachment%3B+filename*%3DUTF-8%27%27mdjrny-v4.safetensors%3B+filename%3D%22mdjrny-v4.safetensors%22%3B&Expires=1686185909&Policy=eyJTdGF0ZW1lbnQiOlt7IlJlc291cmNlIjoiaHR0cHM6Ly9jZG4tbGZzLmh1Z2dpbmdmYWNlLmNvL3JlcG9zLzRkLzgzLzRkODNmNjllYjVkYTUxYTAxOGYyMzc3MTE4ZTQyMTdkZDZjN2MzNDhkNWJhZWQwNmZlZGQyZWIzZjI5OTJlZDMvYWJhOTZiMzg5ZDAwOTQzMzYwYTgyZDRiOTU1Yzg1YTQ0YmFlZmVjNDkzYTk2YmJkOWQ1MjEyNThlNmU0NjdhMD9yZXNwb25zZS1jb250ZW50LWRpc3Bvc2l0aW9uPSoiLCJDb25kaXRpb24iOnsiRGF0ZUxlc3NUaGFuIjp7IkFXUzpFcG9jaFRpbWUiOjE2ODYxODU5MDl9fX1dfQ__&Signature=NC5KLwneOjCFWAYBovf5AHuLuWsohuCtMOQt7TOyVFslw%7ELYGpWAd6tSb8qthO-ggwXgcyNFANtsp5azxJv8uC3umVLyTcD%7ErEwdMFCJ2UO8VS5qi9AqNLUac-6vGm6kSD1Em648OW3VPTtxREAcM7O1G1cKheSFALV0z17hD1wVRu5td-MUgujV5TqDkRT40uJWkfWA76REWM0IQ5JEQ4%7Eds1LEw-RkwGZwHDg8jJQyTLu23o4BVP3u4crnF2TBT-cm0%7EIj4q20Fjx5tI2iZgXSwQDRJCvtJvqob4IAW3ueXU5ehfzvZOG1Zd3bFhDE%7EYFNMyOiE-aQDTCIbK7rTQ__&Key-Pair-Id=KVTP0A1DKRTAX\n",
            "Resolving cdn-lfs.huggingface.co (cdn-lfs.huggingface.co)... 18.155.68.98, 18.155.68.128, 18.155.68.94, ...\n",
            "Connecting to cdn-lfs.huggingface.co (cdn-lfs.huggingface.co)|18.155.68.98|:443... connected.\n",
            "HTTP request sent, awaiting response... 200 OK\n",
            "Length: 2132625462 (2.0G) [binary/octet-stream]\n",
            "Saving to: ‘/content/gdrive/MyDrive/StableDifussion/models/mdjrny-v4.safetensors’\n",
            "\n",
            "/content/gdrive/MyD 100%[===================>]   1.99G  88.1MB/s    in 24s     \n",
            "\n",
            "2023-06-05 02:47:00 (84.6 MB/s) - ‘/content/gdrive/MyDrive/StableDifussion/models/mdjrny-v4.safetensors’ saved [2132625462/2132625462]\n",
            "\n"
          ]
        }
      ]
    },
    {
      "cell_type": "code",
      "source": [
        "#@title Load Model \n",
        "Path_to_MODEL = \"/content/gdrive/MyDrive/StableDifussion/models\""
      ],
      "metadata": {
        "id": "X0LqG2PdM1yD"
      },
      "execution_count": 12,
      "outputs": []
    },
    {
      "cell_type": "code",
      "source": [
        "#@title Launch Stable Diffusion\n",
        "!python launch.py --xformers --opt-sdp-attention --opt-sdp-no-mem-attention --share --gradio-debug"
      ],
      "metadata": {
        "colab": {
          "base_uri": "https://localhost:8080/"
        },
        "id": "Y38gWvXSHRXW",
        "outputId": "100f77ad-64bf-4c60-ebad-6ce8d51676e7"
      },
      "execution_count": null,
      "outputs": [
        {
          "metadata": {
            "tags": null
          },
          "name": "stdout",
          "output_type": "stream",
          "text": [
            "Python 3.10.11 (main, Apr  5 2023, 14:15:10) [GCC 9.4.0]\n",
            "Version: v1.3.1\n",
            "Commit hash: b6af0a3809ea869fb180633f9affcae4b199ffcf\n",
            "Installing requirements\n",
            "Launching Web UI with arguments: --xformers --opt-sdp-attention --opt-sdp-no-mem-attention --share --gradio-debug\n",
            "2023-06-05 02:51:57.570282: I tensorflow/core/util/port.cc:110] oneDNN custom operations are on. You may see slightly different numerical results due to floating-point round-off errors from different computation orders. To turn them off, set the environment variable `TF_ENABLE_ONEDNN_OPTS=0`.\n",
            "2023-06-05 02:51:57.623464: I tensorflow/core/platform/cpu_feature_guard.cc:182] This TensorFlow binary is optimized to use available CPU instructions in performance-critical operations.\n",
            "To enable the following instructions: AVX2 AVX512F AVX512_VNNI FMA, in other operations, rebuild TensorFlow with the appropriate compiler flags.\n",
            "2023-06-05 02:51:58.584937: W tensorflow/compiler/tf2tensorrt/utils/py_utils.cc:38] TF-TRT Warning: Could not find TensorRT\n",
            "Calculating sha256 for /content/stable-diffusion-webui/models/Stable-diffusion/v1-5-pruned-emaonly.safetensors: Running on local URL:  http://127.0.0.1:7860\n",
            "6ce0161689b3853acaa03779ec93eafe75a02f4ced659bee03f50797806fa2fa\n",
            "Loading weights [6ce0161689] from /content/stable-diffusion-webui/models/Stable-diffusion/v1-5-pruned-emaonly.safetensors\n",
            "Running on public URL: https://545f77d2b19749a3ef.gradio.live\n",
            "\n",
            "This share link expires in 72 hours. For free permanent hosting and GPU upgrades (NEW!), check out Spaces: https://huggingface.co/spaces\n",
            "Creating model from config: /content/stable-diffusion-webui/configs/v1-inference.yaml\n",
            "LatentDiffusion: Running in eps-prediction mode\n",
            "DiffusionWrapper has 859.52 M params.\n",
            "Downloading (…)olve/main/vocab.json: 100% 961k/961k [00:00<00:00, 1.12MB/s]\n",
            "Downloading (…)olve/main/merges.txt: 100% 525k/525k [00:00<00:00, 847kB/s]\n",
            "Downloading (…)cial_tokens_map.json: 100% 389/389 [00:00<00:00, 2.47MB/s]\n",
            "Downloading (…)okenizer_config.json: 100% 905/905 [00:00<00:00, 5.99MB/s]\n",
            "Downloading (…)lve/main/config.json: 100% 4.52k/4.52k [00:00<00:00, 22.0MB/s]\n",
            "Applying optimization: xformers... done.\n",
            "Textual inversion embeddings loaded(0): \n",
            "Model loaded in 18.8s (calculate hash: 12.4s, load weights from disk: 0.3s, create model: 4.6s, apply weights to model: 0.4s, apply half(): 0.3s, move model to device: 0.6s).\n"
          ]
        }
      ]
    },
    {
      "cell_type": "code",
      "source": [],
      "metadata": {
        "id": "gFmZR9ObHRcg"
      },
      "execution_count": null,
      "outputs": []
    }
  ]
}