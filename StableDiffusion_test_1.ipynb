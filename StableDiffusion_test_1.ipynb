{
  "nbformat": 4,
  "nbformat_minor": 0,
  "metadata": {
    "colab": {
      "provenance": [],
      "machine_shape": "hm",
      "gpuType": "A100",
      "authorship_tag": "ABX9TyPilap+EnSbAE8nuD8x/Luo",
      "include_colab_link": true
    },
    "kernelspec": {
      "name": "python3",
      "display_name": "Python 3"
    },
    "language_info": {
      "name": "python"
    },
    "accelerator": "GPU"
  },
  "cells": [
    {
      "cell_type": "markdown",
      "metadata": {
        "id": "view-in-github",
        "colab_type": "text"
      },
      "source": [
        "<a href=\"https://colab.research.google.com/github/Nekoiii/ML_Practices_colab/blob/main/StableDiffusion_test_1.ipynb\" target=\"_parent\"><img src=\"https://colab.research.google.com/assets/colab-badge.svg\" alt=\"Open In Colab\"/></a>"
      ]
    },
    {
      "cell_type": "markdown",
      "source": [
        "Referenced article: https://torch.classcat.com/2023/04/06/blog-pytorch-2-0-colab-sd-webui-intro/"
      ],
      "metadata": {
        "id": "6lnsrmJOJLA-"
      }
    },
    {
      "cell_type": "code",
      "execution_count": null,
      "metadata": {
        "id": "2Z6KmX2Kwhcf"
      },
      "outputs": [],
      "source": [
        "%%script false --no-raise-error\n",
        "# Check NVIDIA GPU information\n",
        "!nvidia-smi\n",
        "# Check system memory usage\n",
        "!free -h"
      ]
    },
    {
      "cell_type": "code",
      "source": [
        "#  List installed Python packages and search for 'torch'\n",
        "#!pip list | grep -y torch"
      ],
      "metadata": {
        "id": "3RY6J7ecGWhP"
      },
      "execution_count": null,
      "outputs": []
    },
    {
      "cell_type": "code",
      "source": [
        "!pip install xformers\n",
        "!pip install  -U --pre triton"
      ],
      "metadata": {
        "id": "7sYcvPMHHQ5W"
      },
      "execution_count": null,
      "outputs": []
    },
    {
      "cell_type": "code",
      "source": [
        "!git clone https://github.com/AUTOMATIC1111/stable-diffusion-webui /content/stable-diffusion-webui"
      ],
      "metadata": {
        "id": "ogbZ9BHOHQ9G"
      },
      "execution_count": null,
      "outputs": []
    },
    {
      "cell_type": "markdown",
      "source": [],
      "metadata": {
        "id": "Y4Yra5_xHRCQ"
      }
    },
    {
      "cell_type": "code",
      "source": [
        "!wget https://huggingface.co/runwayml/stable-diffusion-v1-5/resolve/main/v1-5-pruned-emaonly.safetensors -O /content/stable-diffusion-webui/models/Stable-diffusion/v1-5-pruned-emaonly.safetensors"
      ],
      "metadata": {
        "id": "hyb3TQuJHRNu"
      },
      "execution_count": null,
      "outputs": []
    },
    {
      "cell_type": "code",
      "source": [
        "%cd /content/stable-diffusion-webui\n",
        "# --exit :to pre-install only the dependencies.（Since the dependency installation phase is lengthy.You can start it abruptly）\n",
        "!python launch.py --exit"
      ],
      "metadata": {
        "id": "PUWok_UWHRSr"
      },
      "execution_count": null,
      "outputs": []
    },
    {
      "cell_type": "code",
      "source": [
        "#@title Mount Google Drive\n",
        "from google.colab import drive\n",
        "drive.mount('/content/gdrive')"
      ],
      "metadata": {
        "colab": {
          "base_uri": "https://localhost:8080/"
        },
        "id": "w7o5FiR6MOU3",
        "outputId": "dbbf8b93-81fd-42c4-d6a0-ac0819b7afbf"
      },
      "execution_count": 3,
      "outputs": [
        {
          "output_type": "stream",
          "name": "stdout",
          "text": [
            "Mounted at /content/gdrive\n"
          ]
        }
      ]
    },
    {
      "cell_type": "code",
      "source": [
        "%%script false --no-raise-error\n",
        "#@title Download Model way-1\n",
        "save_pth=''\n",
        "%cd save_pth\n",
        "\n",
        "MODEL_LINK=''\n",
        "safetensors = False \n",
        "if not safetensors:\n",
        "  modelname=\"xxx.ckpt\"\n",
        "else:\n",
        "  modelname=\"xxx.safetensors\"\n",
        "\n",
        "!gdown --fuzzy -O $modelname \"$MODEL_LINK\"\n",
        "\n",
        "if os.path.exists(f'{save_pth}/{modelname}') and os.path.getsize(f'{save_pth}/{modelname}') > 1810671599:    \n",
        "    model=f'{save_pth}/{modelname}'\n",
        "    clear_output()\n",
        "    inf('\\u2714 Model downloaded, using the trained model.','success', '350px')\n",
        "else:\n",
        "  if Use_temp_storage:\n",
        "    !rm $pth/$modelname\n",
        "  else:\n",
        "    rmv()\n",
        "  inf('\\u2718 Wrong link, check that the link is valid','danger', \"300px\")\n"
      ],
      "metadata": {
        "id": "vR3gFWB2QFkX"
      },
      "execution_count": null,
      "outputs": []
    },
    {
      "cell_type": "code",
      "source": [
        "\n",
        "#@title Download Model way-2\n",
        "%cd '/content/gdrive/MyDrive/StableDifussion/models'\n",
        "!wget https://huggingface.co/prompthero/openjourney/resolve/main/mdjrny-v4.safetensors -O /content/stable-diffusion-webui/models/Stable-diffusion/mdjrny-v4.safetensors"
      ],
      "metadata": {
        "colab": {
          "base_uri": "https://localhost:8080/"
        },
        "id": "KezMr9LIap1-",
        "outputId": "d2e7981c-8bfd-4ad0-8c17-e136ef133e7a"
      },
      "execution_count": 2,
      "outputs": [
        {
          "output_type": "stream",
          "name": "stdout",
          "text": [
            "[Errno 2] No such file or directory: '/content/gdrive/MyDrive/StableDifussion/models'\n",
            "/content\n",
            "/content/stable-diffusion-webui/models/Stable-diffusion/mdjrny-v4.safetensors: No such file or directory\n"
          ]
        }
      ]
    },
    {
      "cell_type": "code",
      "source": [
        "#@title Load Model \n",
        "Path_to_MODEL = \"/content/gdrive/MyDrive/StableDifussion/models\""
      ],
      "metadata": {
        "id": "X0LqG2PdM1yD"
      },
      "execution_count": null,
      "outputs": []
    },
    {
      "cell_type": "code",
      "source": [
        "#@title Launch Stable Diffusion\n",
        "!python launch.py --xformers --opt-sdp-attention --opt-sdp-no-mem-attention --share --gradio-debug"
      ],
      "metadata": {
        "id": "Y38gWvXSHRXW"
      },
      "execution_count": null,
      "outputs": []
    },
    {
      "cell_type": "code",
      "source": [],
      "metadata": {
        "id": "gFmZR9ObHRcg"
      },
      "execution_count": null,
      "outputs": []
    }
  ]
}