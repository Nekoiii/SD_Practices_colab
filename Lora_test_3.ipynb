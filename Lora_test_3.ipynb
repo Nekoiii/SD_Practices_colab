{
  "nbformat": 4,
  "nbformat_minor": 0,
  "metadata": {
    "colab": {
      "provenance": [],
      "machine_shape": "hm",
      "gpuType": "A100",
      "mount_file_id": "1BoQ1rAiYHmM2ieQYTfWbxW25Mb-OipJX",
      "authorship_tag": "ABX9TyMPhRY07CwLQGljja7ZKzAF",
      "include_colab_link": true
    },
    "kernelspec": {
      "name": "python3",
      "display_name": "Python 3"
    },
    "language_info": {
      "name": "python"
    },
    "accelerator": "GPU"
  },
  "cells": [
    {
      "cell_type": "markdown",
      "metadata": {
        "id": "view-in-github",
        "colab_type": "text"
      },
      "source": [
        "<a href=\"https://colab.research.google.com/github/Nekoiii/ML_Practices_colab/blob/main/Lora_test_3.ipynb\" target=\"_parent\"><img src=\"https://colab.research.google.com/assets/colab-badge.svg\" alt=\"Open In Colab\"/></a>"
      ]
    },
    {
      "cell_type": "markdown",
      "source": [
        "https://self-development.info/【stable-diffusion】loraによる追加学習/"
      ],
      "metadata": {
        "id": "UZ-_aJY0G7ZG"
      }
    },
    {
      "cell_type": "code",
      "execution_count": 3,
      "metadata": {
        "colab": {
          "base_uri": "https://localhost:8080/"
        },
        "id": "_i81fbEqBLnk",
        "outputId": "f27595fd-e9e8-4f7a-a399-51bbd0f2fac8"
      },
      "outputs": [
        {
          "output_type": "stream",
          "name": "stdout",
          "text": [
            "/content/drive/MyDrive/ML_Practices/Lora_test_3\n"
          ]
        }
      ],
      "source": [
        "%cd /content/drive/MyDrive/ML_Practices/Lora_test_3"
      ]
    },
    {
      "cell_type": "code",
      "source": [
        "%%script false --no-raise-error\n",
        "!git clone https://github.com/cloneofsimo/lora.git"
      ],
      "metadata": {
        "id": "Clx0vyM8DryY"
      },
      "execution_count": 4,
      "outputs": []
    },
    {
      "cell_type": "code",
      "source": [
        "%cd lora\n",
        "!cat requirements.txt"
      ],
      "metadata": {
        "colab": {
          "base_uri": "https://localhost:8080/"
        },
        "id": "IHrdwlMYDrwP",
        "outputId": "d937d34a-90c8-4b69-d1cb-3a9269b0f049"
      },
      "execution_count": 5,
      "outputs": [
        {
          "output_type": "stream",
          "name": "stdout",
          "text": [
            "/content/drive/MyDrive/ML_Practices/Lora_test_3/lora\n",
            "diffusers>=0.11.0\n",
            "transformers>=4.25.1\n",
            "scipy\n",
            "ftfy\n",
            "fire\n",
            "wandb\n",
            "safetensors\n",
            "opencv-python\n",
            "torchvision\n",
            "mediapipe\n"
          ]
        }
      ]
    },
    {
      "cell_type": "code",
      "source": [
        "!pip install -r requirements.txt"
      ],
      "metadata": {
        "id": "YoCfRrVNDrtv"
      },
      "execution_count": null,
      "outputs": []
    },
    {
      "cell_type": "code",
      "source": [
        "#【****accelerate==0.19.0不然会报错！！！！https://stable-diffusion-art.com/dreambooth/】\n",
        "!pip install accelerate==0.19.0"
      ],
      "metadata": {
        "id": "KTGblkcHQwWV"
      },
      "execution_count": null,
      "outputs": []
    },
    {
      "cell_type": "code",
      "source": [
        "!pwd"
      ],
      "metadata": {
        "colab": {
          "base_uri": "https://localhost:8080/"
        },
        "id": "JHndqyLgTInd",
        "outputId": "50c9279a-c21b-401b-d008-56e627e66384"
      },
      "execution_count": 39,
      "outputs": [
        {
          "output_type": "stream",
          "name": "stdout",
          "text": [
            "/content/drive/MyDrive/ML_Practices/Lora_test_3/lora\n"
          ]
        }
      ]
    },
    {
      "cell_type": "code",
      "source": [
        "!accelerate launch ./training_scripts/train_lora_dreambooth.py \\\n",
        "  --pretrained_model_name_or_path=\"stabilityai/stable-diffusion-2-1-base\"  \\\n",
        "  --instance_data_dir=\"/content/drive/MyDrive/ML_Practices/Lora_test_1/resized_sample_data_3\" \\\n",
        "  --output_dir=\"../output_model\" \\\n",
        "  --projecta_dir='../'\\\n",
        "  --instance_prompt=\"shs\" \\\n",
        "  --train_text_encoder \\\n",
        "  --resolution=512 \\\n",
        "  --color_jitter \\\n",
        "  --train_batch_size=1 \\\n",
        "  --gradient_accumulation_steps=1 \\\n",
        "  --learning_rate=1e-4 \\\n",
        "  --learning_rate_text=5e-5 \\\n",
        "  --lr_scheduler=\"constant\" \\\n",
        "  --lr_warmup_steps=0 \\\n",
        "  --max_train_steps=1000\\\n",
        "   2>&1 > debug.log  #write err msg into debug.log file"
      ],
      "metadata": {
        "id": "fH1uiGLgDrrd"
      },
      "execution_count": null,
      "outputs": []
    },
    {
      "cell_type": "code",
      "source": [],
      "metadata": {
        "id": "RT8d2rzSWn1P"
      },
      "execution_count": null,
      "outputs": []
    }
  ]
}