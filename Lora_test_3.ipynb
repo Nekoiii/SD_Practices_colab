{
  "nbformat": 4,
  "nbformat_minor": 0,
  "metadata": {
    "colab": {
      "provenance": [],
      "machine_shape": "hm",
      "gpuType": "A100",
      "mount_file_id": "1BoQ1rAiYHmM2ieQYTfWbxW25Mb-OipJX",
      "authorship_tag": "ABX9TyPrntdo+mgzOkPTkh4OlQS6",
      "include_colab_link": true
    },
    "kernelspec": {
      "name": "python3",
      "display_name": "Python 3"
    },
    "language_info": {
      "name": "python"
    },
    "accelerator": "GPU"
  },
  "cells": [
    {
      "cell_type": "markdown",
      "metadata": {
        "id": "view-in-github",
        "colab_type": "text"
      },
      "source": [
        "<a href=\"https://colab.research.google.com/github/Nekoiii/ML_Practices_colab/blob/main/Lora_test_3.ipynb\" target=\"_parent\"><img src=\"https://colab.research.google.com/assets/colab-badge.svg\" alt=\"Open In Colab\"/></a>"
      ]
    },
    {
      "cell_type": "markdown",
      "source": [
        "https://self-development.info/【stable-diffusion】loraによる追加学習/"
      ],
      "metadata": {
        "id": "UZ-_aJY0G7ZG"
      }
    },
    {
      "cell_type": "code",
      "execution_count": 3,
      "metadata": {
        "colab": {
          "base_uri": "https://localhost:8080/"
        },
        "id": "_i81fbEqBLnk",
        "outputId": "f27595fd-e9e8-4f7a-a399-51bbd0f2fac8"
      },
      "outputs": [
        {
          "output_type": "stream",
          "name": "stdout",
          "text": [
            "/content/drive/MyDrive/ML_Practices/Lora_test_3\n"
          ]
        }
      ],
      "source": [
        "%cd /content/drive/MyDrive/ML_Practices/Lora_test_3"
      ]
    },
    {
      "cell_type": "code",
      "source": [
        "%%script false --no-raise-error\n",
        "!git clone https://github.com/cloneofsimo/lora.git"
      ],
      "metadata": {
        "id": "Clx0vyM8DryY"
      },
      "execution_count": 4,
      "outputs": []
    },
    {
      "cell_type": "code",
      "source": [
        "%cd lora\n",
        "!cat requirements.txt"
      ],
      "metadata": {
        "colab": {
          "base_uri": "https://localhost:8080/"
        },
        "id": "IHrdwlMYDrwP",
        "outputId": "d937d34a-90c8-4b69-d1cb-3a9269b0f049"
      },
      "execution_count": 5,
      "outputs": [
        {
          "output_type": "stream",
          "name": "stdout",
          "text": [
            "/content/drive/MyDrive/ML_Practices/Lora_test_3/lora\n",
            "diffusers>=0.11.0\n",
            "transformers>=4.25.1\n",
            "scipy\n",
            "ftfy\n",
            "fire\n",
            "wandb\n",
            "safetensors\n",
            "opencv-python\n",
            "torchvision\n",
            "mediapipe\n"
          ]
        }
      ]
    },
    {
      "cell_type": "code",
      "source": [
        "!pip install -r requirements.txt"
      ],
      "metadata": {
        "id": "YoCfRrVNDrtv"
      },
      "execution_count": null,
      "outputs": []
    },
    {
      "cell_type": "code",
      "source": [
        "#【****accelerate==0.19.0不然会报错！！！！https://stable-diffusion-art.com/dreambooth/】\n",
        "!pip install accelerate==0.19.0"
      ],
      "metadata": {
        "id": "KTGblkcHQwWV"
      },
      "execution_count": null,
      "outputs": []
    },
    {
      "cell_type": "code",
      "source": [
        "!accelerate launch ./training_scripts/train_lora_dreambooth.py \\\n",
        "  --pretrained_model_name_or_path=\"stabilityai/stable-diffusion-2-1-base\"  \\\n",
        "  --instance_data_dir=\"/content/drive/MyDrive/ML_Practices/Lora_test_1/resized_sample_data_3\" \\\n",
        "  --output_dir=\"/output_model\" \\\n",
        "  --logging_dir='/logging_file'\\\n",
        "  --instance_prompt=\"lora_irasutoya\" \\\n",
        "  --train_text_encoder \\\n",
        "  --resolution=512 \\\n",
        "  --color_jitter \\\n",
        "  --train_batch_size=1 \\\n",
        "  --gradient_accumulation_steps=1 \\\n",
        "  --learning_rate=1e-4 \\\n",
        "  --learning_rate_text=5e-5 \\\n",
        "  --lr_scheduler=\"constant\" \\\n",
        "  --lr_warmup_steps=0 \\\n",
        "  --max_train_steps=500\\\n",
        "   2>&1 > debug.log  #write err msg into debug.log file"
      ],
      "metadata": {
        "colab": {
          "base_uri": "https://localhost:8080/"
        },
        "id": "fH1uiGLgDrrd",
        "outputId": "d0c2f8d3-e1ad-4e34-a38b-0ae9dc6caeaa"
      },
      "execution_count": null,
      "outputs": [
        {
          "output_type": "stream",
          "name": "stdout",
          "text": [
            "2023-06-09 17:45:32.450736: W tensorflow/compiler/tf2tensorrt/utils/py_utils.cc:38] TF-TRT Warning: Could not find TensorRT\n",
            "2023-06-09 17:45:37.646206: W tensorflow/compiler/tf2tensorrt/utils/py_utils.cc:38] TF-TRT Warning: Could not find TensorRT\n",
            "/usr/local/lib/python3.10/dist-packages/accelerate/accelerator.py:258: FutureWarning: `logging_dir` is deprecated and will be removed in version 0.18.0 of 🤗 Accelerate. Use `project_dir` instead.\n",
            "  warnings.warn(\n",
            "Downloading (…)tokenizer/vocab.json: 100% 1.06M/1.06M [00:00<00:00, 10.1MB/s]\n",
            "Downloading (…)tokenizer/merges.txt: 100% 525k/525k [00:00<00:00, 11.9MB/s]\n",
            "Downloading (…)cial_tokens_map.json: 100% 460/460 [00:00<00:00, 3.53MB/s]\n",
            "Downloading (…)okenizer_config.json: 100% 807/807 [00:00<00:00, 6.00MB/s]\n",
            "Downloading (…)_encoder/config.json: 100% 613/613 [00:00<00:00, 4.62MB/s]\n",
            "Downloading model.safetensors: 100% 1.36G/1.36G [00:05<00:00, 239MB/s]\n",
            "Downloading (…)main/vae/config.json: 100% 553/553 [00:00<00:00, 4.01MB/s]\n",
            "Downloading (…)ch_model.safetensors: 100% 335M/335M [00:01<00:00, 218MB/s]\n",
            "Downloading (…)ain/unet/config.json: 100% 911/911 [00:00<00:00, 7.05MB/s]\n",
            "Downloading (…)ch_model.safetensors: 100% 3.46G/3.46G [00:17<00:00, 197MB/s]\n",
            "/usr/local/lib/python3.10/dist-packages/diffusers/configuration_utils.py:219: FutureWarning: It is deprecated to pass a pretrained model name or path to `from_config`.If you were trying to load a scheduler, please use <class 'diffusers.schedulers.scheduling_ddpm.DDPMScheduler'>.from_pretrained(...) instead. Otherwise, please make sure to pass a configuration dictionary instead. This functionality will be removed in v1.0.0.\n",
            "  deprecate(\"config-passed-as-path\", \"1.0.0\", deprecation_message, standard_warn=False)\n",
            "Downloading (…)cheduler_config.json: 100% 346/346 [00:00<00:00, 1.80MB/s]\n",
            "Steps:  24% 119/500 [01:18<03:43,  1.70it/s, loss=0.0679, lr=0.0001]"
          ]
        }
      ]
    },
    {
      "cell_type": "code",
      "source": [],
      "metadata": {
        "id": "foULrjS-Drms"
      },
      "execution_count": 8,
      "outputs": []
    },
    {
      "cell_type": "code",
      "source": [],
      "metadata": {
        "id": "zJcpx8XXDrjl"
      },
      "execution_count": 8,
      "outputs": []
    },
    {
      "cell_type": "code",
      "source": [],
      "metadata": {
        "id": "Ijq0OfeEDrhQ"
      },
      "execution_count": 8,
      "outputs": []
    }
  ]
}