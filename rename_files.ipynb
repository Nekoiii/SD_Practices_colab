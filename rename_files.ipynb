{
  "nbformat": 4,
  "nbformat_minor": 0,
  "metadata": {
    "colab": {
      "provenance": [],
      "mount_file_id": "1H5s10BptUmuS700RZhKWLy4A3ZVyfeIz",
      "authorship_tag": "ABX9TyMkojoWsrIZPSdh9pANz0I/",
      "include_colab_link": true
    },
    "kernelspec": {
      "name": "python3",
      "display_name": "Python 3"
    },
    "language_info": {
      "name": "python"
    }
  },
  "cells": [
    {
      "cell_type": "markdown",
      "metadata": {
        "id": "view-in-github",
        "colab_type": "text"
      },
      "source": [
        "<a href=\"https://colab.research.google.com/github/Nekoiii/ML_Practices_colab/blob/main/rename_files.ipynb\" target=\"_parent\"><img src=\"https://colab.research.google.com/assets/colab-badge.svg\" alt=\"Open In Colab\"/></a>"
      ]
    },
    {
      "cell_type": "code",
      "execution_count": 3,
      "metadata": {
        "id": "LiCXbMebf3GM"
      },
      "outputs": [],
      "source": [
        "import os\n",
        "import shutil\n",
        "\n",
        "folder_path = '/content/drive/MyDrive/datasets/imgs/resized_canbright_imgs_1'  \n",
        "prefix = 'cbmanga_'  \n",
        " \n",
        "file_list = os.listdir(folder_path)\n",
        "file_list.sort() "
      ]
    },
    {
      "cell_type": "code",
      "source": [
        "!pip install natsort"
      ],
      "metadata": {
        "colab": {
          "base_uri": "https://localhost:8080/"
        },
        "id": "N0CucVnSmP5F",
        "outputId": "2ddac28c-bb0a-4b44-a752-5d973943118d"
      },
      "execution_count": 4,
      "outputs": [
        {
          "output_type": "stream",
          "name": "stdout",
          "text": [
            "Looking in indexes: https://pypi.org/simple, https://us-python.pkg.dev/colab-wheels/public/simple/\n",
            "Requirement already satisfied: natsort in /usr/local/lib/python3.10/dist-packages (8.3.1)\n"
          ]
        }
      ]
    },
    {
      "cell_type": "code",
      "source": [
        "from natsort import natsorted\n",
        "\n",
        "sorted_file_list = natsorted(file_list)"
      ],
      "metadata": {
        "id": "24VXTY4KmQzP"
      },
      "execution_count": 5,
      "outputs": []
    },
    {
      "cell_type": "code",
      "source": [
        "for index, filename in enumerate(file_list):\n",
        "    file_path = os.path.join(folder_path, filename)\n",
        "    if os.path.isfile(file_path):\n",
        "        new_filename = prefix + str(index + 1) + os.path.splitext(filename)[1]\n",
        "        new_file_path = os.path.join(folder_path, new_filename)\n",
        "        shutil.move(file_path, new_file_path)"
      ],
      "metadata": {
        "id": "H16iK9UOgUcQ"
      },
      "execution_count": 6,
      "outputs": []
    },
    {
      "cell_type": "code",
      "source": [],
      "metadata": {
        "id": "u6S4d7UdgKPU"
      },
      "execution_count": 6,
      "outputs": []
    }
  ]
}