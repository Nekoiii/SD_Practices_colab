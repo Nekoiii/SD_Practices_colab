{
  "nbformat": 4,
  "nbformat_minor": 0,
  "metadata": {
    "colab": {
      "provenance": [],
      "mount_file_id": "1H5s10BptUmuS700RZhKWLy4A3ZVyfeIz",
      "authorship_tag": "ABX9TyN1SW286EGR3VCXoDDrqVzc",
      "include_colab_link": true
    },
    "kernelspec": {
      "name": "python3",
      "display_name": "Python 3"
    },
    "language_info": {
      "name": "python"
    }
  },
  "cells": [
    {
      "cell_type": "markdown",
      "metadata": {
        "id": "view-in-github",
        "colab_type": "text"
      },
      "source": [
        "<a href=\"https://colab.research.google.com/github/Nekoiii/ML_Practices_colab/blob/main/rename_files.ipynb\" target=\"_parent\"><img src=\"https://colab.research.google.com/assets/colab-badge.svg\" alt=\"Open In Colab\"/></a>"
      ]
    },
    {
      "cell_type": "code",
      "execution_count": 1,
      "metadata": {
        "id": "LiCXbMebf3GM"
      },
      "outputs": [],
      "source": [
        "import os\n",
        "import shutil\n",
        "\n",
        "folder_path = '/content/drive/MyDrive/datasets/imgs/resized_canbright_imgs_1'  \n",
        "prefix = 'cbmanga_'  \n",
        " \n",
        "file_list = os.listdir(folder_path)\n",
        "file_list.sort() "
      ]
    },
    {
      "cell_type": "code",
      "source": [
        "for index, filename in enumerate(file_list):\n",
        "    file_path = os.path.join(folder_path, filename)\n",
        "    if os.path.isfile(file_path):\n",
        "        new_filename = prefix + str(index + 1) + os.path.splitext(filename)[1]\n",
        "        new_file_path = os.path.join(folder_path, new_filename)\n",
        "        shutil.move(file_path, new_file_path)"
      ],
      "metadata": {
        "id": "H16iK9UOgUcQ"
      },
      "execution_count": 2,
      "outputs": []
    },
    {
      "cell_type": "code",
      "source": [],
      "metadata": {
        "id": "u6S4d7UdgKPU"
      },
      "execution_count": 2,
      "outputs": []
    }
  ]
}