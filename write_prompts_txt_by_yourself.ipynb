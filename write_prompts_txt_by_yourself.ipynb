{
  "nbformat": 4,
  "nbformat_minor": 0,
  "metadata": {
    "colab": {
      "provenance": [],
      "mount_file_id": "1UvtgtfjzkSS6iWKKbKWdCCq6z-tcbBSL",
      "authorship_tag": "ABX9TyNmb4LALBCiW2qIJY+9aIbc",
      "include_colab_link": true
    },
    "kernelspec": {
      "name": "python3",
      "display_name": "Python 3"
    },
    "language_info": {
      "name": "python"
    }
  },
  "cells": [
    {
      "cell_type": "markdown",
      "metadata": {
        "id": "view-in-github",
        "colab_type": "text"
      },
      "source": [
        "<a href=\"https://colab.research.google.com/github/Nekoiii/ML_Practices_colab/blob/main/write_prompts_txt_by_yourself.ipynb\" target=\"_parent\"><img src=\"https://colab.research.google.com/assets/colab-badge.svg\" alt=\"Open In Colab\"/></a>"
      ]
    },
    {
      "cell_type": "code",
      "execution_count": null,
      "metadata": {
        "id": "lSPMuLjk7mWK"
      },
      "outputs": [],
      "source": [
        "import os\n",
        "from PIL import Image\n",
        "\n",
        "folder_path = \"/content/drive/MyDrive/datasets/imgs/with_txt_resized_canbright_imgs_1_partial/\" \n",
        "\n",
        "files = [f for f in os.listdir(folder_path) if f.endswith(('.jpg', '.png', '.jpeg'))] if os.path.exists(folder_path) else []\n",
        "\n",
        "for file in files:\n",
        "  file_name=os.path.splitext(file)[0] + '.txt'\n",
        "  file_path=folder_path + file_name\n",
        "\n",
        "  prompt=input('请输入')\n",
        "  print(prompt)\n",
        " \n",
        "  with open(file_path, 'w', encoding='utf-8') as file:\n",
        "    file.write(prompt)\n",
        "    print('File '+ file_name +'has been created.')  "
      ]
    },
    {
      "cell_type": "code",
      "source": [],
      "metadata": {
        "id": "-lj0b8Cg8GZs"
      },
      "execution_count": null,
      "outputs": []
    }
  ]
}