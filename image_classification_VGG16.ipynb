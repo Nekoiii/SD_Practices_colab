{
  "cells": [
    {
      "cell_type": "markdown",
      "metadata": {
        "id": "view-in-github",
        "colab_type": "text"
      },
      "source": [
        "<a href=\"https://colab.research.google.com/github/Nekoiii/ML_Practices_colab/blob/main/image_classification_VGG16.ipynb\" target=\"_parent\"><img src=\"https://colab.research.google.com/assets/colab-badge.svg\" alt=\"Open In Colab\"/></a>"
      ]
    },
    {
      "cell_type": "code",
      "execution_count": 26,
      "metadata": {
        "colab": {
          "base_uri": "https://localhost:8080/"
        },
        "id": "YCH4pcznLMh0",
        "outputId": "28e5536f-0f20-4e28-ee79-30f6cc479c04"
      },
      "outputs": [
        {
          "output_type": "stream",
          "name": "stdout",
          "text": [
            "Drive already mounted at /content/gdrive; to attempt to forcibly remount, call drive.mount(\"/content/gdrive\", force_remount=True).\n"
          ]
        }
      ],
      "source": [
        "#connect to google drive\n",
        "from google.colab import drive\n",
        "drive.mount('/content/gdrive')"
      ]
    },
    {
      "cell_type": "code",
      "execution_count": 27,
      "metadata": {
        "colab": {
          "base_uri": "https://localhost:8080/"
        },
        "id": "N-yubovRMdOa",
        "outputId": "7d642bae-a861-4cdd-a784-d9a2f40f34bc"
      },
      "outputs": [
        {
          "output_type": "stream",
          "name": "stdout",
          "text": [
            "/content/gdrive/MyDrive/datasets/imgs/powerLines_classification\n"
          ]
        }
      ],
      "source": [
        "#jump into the dataset folder\n",
        "%cd '/content/gdrive/MyDrive/datasets/imgs/powerLines_classification'"
      ]
    },
    {
      "cell_type": "code",
      "execution_count": 28,
      "metadata": {
        "colab": {
          "base_uri": "https://localhost:8080/"
        },
        "id": "Ywj17XmSM6Vh",
        "outputId": "80284138-f931-40ed-ef70-d88d4c3f6929"
      },
      "outputs": [
        {
          "output_type": "stream",
          "name": "stdout",
          "text": [
            "['with_powerlines', 'without_powerlines'] 2\n"
          ]
        }
      ],
      "source": [
        "import os\n",
        "import cv2\n",
        "import numpy as np\n",
        "import glob as glob #glob module is used to search for files that match a specific file pattern or name. It can be used to search CSV files and for text in files. \n",
        "from sklearn.model_selection import train_test_split\n",
        "from keras.utils import np_utils\n",
        "\n",
        "#Use the folder name as the class name.\n",
        "path='./'\n",
        "folders=os.listdir(path)\n",
        "classes= [f for f in folders if (os.path.isdir(os.path.join(path,f)) and not f.startswith('.'))]\n",
        "n_classes=len(classes)\n",
        "\n",
        "print(classes,n_classes)"
      ]
    },
    {
      "cell_type": "code",
      "execution_count": 29,
      "metadata": {
        "colab": {
          "base_uri": "https://localhost:8080/"
        },
        "id": "UFOpREbHmolx",
        "outputId": "3b58e286-8255-4aa3-e6d6-dcda4549255f"
      },
      "outputs": [
        {
          "output_type": "stream",
          "name": "stdout",
          "text": [
            "/content/gdrive/MyDrive/datasets/imgs/powerLines_classification\n"
          ]
        }
      ],
      "source": [
        "import os\n",
        "current_path = os.getcwd()\n",
        "print(current_path)"
      ]
    },
    {
      "cell_type": "code",
      "execution_count": null,
      "metadata": {
        "id": "yPdZO7fLxts-"
      },
      "outputs": [],
      "source": [
        "img=cv2.imread(image_path)\n",
        "img=cv2.resize(img,dsize=(224,224))\n",
        "\n",
        "#img"
      ]
    },
    {
      "cell_type": "code",
      "execution_count": null,
      "metadata": {
        "id": "iP8AzHNjfdlT"
      },
      "outputs": [],
      "source": [
        "X=[]\n",
        "y=[]\n",
        "\n",
        "\n",
        "lens=[]\n",
        "for class_name in classes:\n",
        "    lens.append( len(glob.glob(class_name + '/*.jpg')) )\n",
        "min_samples = min(lens)\n",
        "\n",
        "\n",
        "for label,class_name in enumerate(classes):\n",
        "  files=glob.glob(class_name+'/*.jpg')\n",
        "  #limit sample size (balance the number of samples for each classe)\n",
        "  files = files[:min_samples] \n",
        "\n",
        "  for file in files: \n",
        "    #print(file)\n",
        "    img=cv2.imread(file)\n",
        "    if img is None:\n",
        "      print('Failed to read the image: ',file)\n",
        "    try: \n",
        "      img=cv2.resize(img,dsize=(224,224))\n",
        "    except Exception as e:\n",
        "      print(\"Error occurred while resizing the image:\", e)\n",
        "    \n",
        "    X.append((img))\n",
        "    y.append(label)\n",
        "    \n",
        "  print(X[0])\n",
        "    "
      ]
    },
    {
      "cell_type": "code",
      "execution_count": 33,
      "metadata": {
        "id": "JMq616Ksfg27",
        "colab": {
          "base_uri": "https://localhost:8080/"
        },
        "outputId": "a7149ce8-0814-40a6-f75e-7ac5f21f84d9"
      },
      "outputs": [
        {
          "output_type": "execute_result",
          "data": {
            "text/plain": [
              "array([[[0.99215686, 0.99215686, 0.98039216],\n",
              "        [0.96862745, 0.9882353 , 0.99215686],\n",
              "        [0.9529412 , 0.9882353 , 1.        ],\n",
              "        ...,\n",
              "        [0.98039216, 0.99215686, 0.99607843],\n",
              "        [0.9882353 , 0.9843137 , 0.99215686],\n",
              "        [0.9882353 , 0.9882353 , 0.9882353 ]],\n",
              "\n",
              "       [[0.99215686, 0.99215686, 0.98039216],\n",
              "        [0.96862745, 0.9882353 , 0.99215686],\n",
              "        [0.9529412 , 0.9882353 , 1.        ],\n",
              "        ...,\n",
              "        [0.98039216, 0.99215686, 0.99607843],\n",
              "        [0.9882353 , 0.9843137 , 0.99215686],\n",
              "        [0.9882353 , 0.9882353 , 0.9882353 ]],\n",
              "\n",
              "       [[0.99215686, 0.99215686, 0.98039216],\n",
              "        [0.96862745, 0.9882353 , 0.99215686],\n",
              "        [0.9529412 , 0.9882353 , 1.        ],\n",
              "        ...,\n",
              "        [0.98039216, 0.99215686, 0.99607843],\n",
              "        [0.9882353 , 0.9843137 , 0.99215686],\n",
              "        [0.9882353 , 0.9882353 , 0.9882353 ]],\n",
              "\n",
              "       ...,\n",
              "\n",
              "       [[1.        , 0.9882353 , 0.98039216],\n",
              "        [0.9764706 , 0.9843137 , 0.99607843],\n",
              "        [0.95686275, 0.9843137 , 1.        ],\n",
              "        ...,\n",
              "        [0.9843137 , 0.9882353 , 0.98039216],\n",
              "        [0.9882353 , 0.9882353 , 0.9882353 ],\n",
              "        [0.9882353 , 0.9882353 , 0.9882353 ]],\n",
              "\n",
              "       [[0.99607843, 0.9882353 , 0.98039216],\n",
              "        [0.972549  , 0.9843137 , 0.99607843],\n",
              "        [0.96862745, 0.98039216, 1.        ],\n",
              "        ...,\n",
              "        [0.9764706 , 0.9843137 , 0.9843137 ],\n",
              "        [0.98039216, 0.9882353 , 0.9882353 ],\n",
              "        [0.98039216, 0.9882353 , 0.9882353 ]],\n",
              "\n",
              "       [[0.99607843, 0.9882353 , 0.98039216],\n",
              "        [0.9764706 , 0.9843137 , 0.99607843],\n",
              "        [0.96862745, 0.98039216, 1.        ],\n",
              "        ...,\n",
              "        [0.9764706 , 0.9843137 , 0.9843137 ],\n",
              "        [0.98039216, 0.9882353 , 0.9882353 ],\n",
              "        [0.98039216, 0.9882353 , 0.9882353 ]]], dtype=float32)"
            ]
          },
          "metadata": {},
          "execution_count": 33
        }
      ],
      "source": [
        "X=np.array(X)\n",
        "X=X.astype('float32')\n",
        "X /= 255\n",
        "X[0]"
      ]
    },
    {
      "cell_type": "code",
      "source": [
        "unique_elements = set(y) \n",
        "counts = {element: y.count(element) for element in unique_elements}\n",
        "print(counts)"
      ],
      "metadata": {
        "colab": {
          "base_uri": "https://localhost:8080/"
        },
        "id": "tm9d-7O5cI9v",
        "outputId": "de23fbd1-00f0-4cb3-d008-9dc555510aff"
      },
      "execution_count": 34,
      "outputs": [
        {
          "output_type": "stream",
          "name": "stdout",
          "text": [
            "{0: 368, 1: 368}\n"
          ]
        }
      ]
    },
    {
      "cell_type": "code",
      "source": [
        "y-np.array(y)\n",
        "y=np_utils.to_categorical(y,n_classes)\n",
        "y[:5]"
      ],
      "metadata": {
        "colab": {
          "base_uri": "https://localhost:8080/"
        },
        "id": "RWyz_fKyc_ch",
        "outputId": "4936bc39-4f17-425f-ac15-e154fdc2ceb2"
      },
      "execution_count": 35,
      "outputs": [
        {
          "output_type": "execute_result",
          "data": {
            "text/plain": [
              "array([[1., 0.],\n",
              "       [1., 0.],\n",
              "       [1., 0.],\n",
              "       [1., 0.],\n",
              "       [1., 0.]], dtype=float32)"
            ]
          },
          "metadata": {},
          "execution_count": 35
        }
      ]
    },
    {
      "cell_type": "code",
      "source": [
        "X_train,X_test,y_train,y_test=train_test_split(X,y,test_size=0.2)\n",
        "print(X_train.shape,X_test.shape,y_train.shape,y_test.shape)"
      ],
      "metadata": {
        "colab": {
          "base_uri": "https://localhost:8080/"
        },
        "id": "xNQb37xLgSU1",
        "outputId": "070380b6-2f99-467e-a1d3-9ad0377b2443"
      },
      "execution_count": 36,
      "outputs": [
        {
          "output_type": "stream",
          "name": "stdout",
          "text": [
            "(588, 224, 224, 3) (148, 224, 224, 3) (588, 2) (148, 2)\n"
          ]
        }
      ]
    },
    {
      "cell_type": "code",
      "source": [
        "# VGG16: a convolution neural network (CNN) model supporting 16 layers\n",
        "from keras.applications.vgg16 import VGG16  \n",
        "# Sequential model: https://keras.io/guides/sequential_model/\n",
        "# Sequential vs Model: https://stackoverflow.com/questions/66879748/what-is-the-difference-between-tf-keras-model-and-tf-keras-sequential\n",
        "from keras.models import Sequential\n",
        "from keras.models import Model\n",
        "# model_from_json： loads a model structure from a JSON file or JSON string,and converts the JSON representation of a model into a Keras model object.\n",
        "from keras.models import model_from_json\n",
        "#Dropout: used for regularization and preventing overfitting in a neural network. It randomly sets a fraction of input units to 0 during training, which helps to prevent the network from relying too heavily on any single input feature.\n",
        "from keras.layers import Input,Activation,Concatenate,Dense,Flatten,Dropout\n",
        "from tensorflow.keras.optimizers import Adam\n"
      ],
      "metadata": {
        "id": "5IwxYBMhWmFA"
      },
      "execution_count": 37,
      "outputs": []
    },
    {
      "cell_type": "code",
      "source": [
        "input_tensor= Input(shape=(224,224,3))\n",
        "# include_top=False: exclude the top (fully connected) layers of the network from the model\n",
        "base_model=VGG16(weights='imagenet',input_tensor=input_tensor,include_top=False)\n",
        "\n",
        "#create the top layer \n",
        "top_model=Sequential()\n",
        "top_model.add(Flatten(input_shape=base_model.output_shape[1:]))\n",
        "top_model.add(Dense(n_classes,activation='softmax'))\n",
        "\n",
        "#combine base_model and top_model\n",
        "model=Model(inputs=base_model.input,outputs=top_model(base_model.output))\n",
        "\n",
        "#By freezing the weights of the first 15 layers, we can preserve the learned low-level features such as edge detection and texture that are generally applicable to many image classification tasks. \n",
        "#This prevents overfitting and speeds up training since these lower layers are already effective in capturing important visual patterns.\n",
        "for layer in model.layers[:15]:\n",
        "  layer.trainable=False\n",
        "\n",
        "print('#layers_len=',len(model.layers))\n",
        "\n",
        "model.compile(loss='categorical_crossentropy',optimizer='adam',metrics=['accuracy'])\n",
        "\n",
        "#print a useful summary of the model\n",
        "model.summary()\n"
      ],
      "metadata": {
        "colab": {
          "base_uri": "https://localhost:8080/"
        },
        "id": "_zt0LraXu6Me",
        "outputId": "78150641-3ea8-4fb4-fdea-d78bdb2aa454"
      },
      "execution_count": 38,
      "outputs": [
        {
          "output_type": "stream",
          "name": "stdout",
          "text": [
            "#layers_len= 20\n",
            "Model: \"model_1\"\n",
            "_________________________________________________________________\n",
            " Layer (type)                Output Shape              Param #   \n",
            "=================================================================\n",
            " input_2 (InputLayer)        [(None, 224, 224, 3)]     0         \n",
            "                                                                 \n",
            " block1_conv1 (Conv2D)       (None, 224, 224, 64)      1792      \n",
            "                                                                 \n",
            " block1_conv2 (Conv2D)       (None, 224, 224, 64)      36928     \n",
            "                                                                 \n",
            " block1_pool (MaxPooling2D)  (None, 112, 112, 64)      0         \n",
            "                                                                 \n",
            " block2_conv1 (Conv2D)       (None, 112, 112, 128)     73856     \n",
            "                                                                 \n",
            " block2_conv2 (Conv2D)       (None, 112, 112, 128)     147584    \n",
            "                                                                 \n",
            " block2_pool (MaxPooling2D)  (None, 56, 56, 128)       0         \n",
            "                                                                 \n",
            " block3_conv1 (Conv2D)       (None, 56, 56, 256)       295168    \n",
            "                                                                 \n",
            " block3_conv2 (Conv2D)       (None, 56, 56, 256)       590080    \n",
            "                                                                 \n",
            " block3_conv3 (Conv2D)       (None, 56, 56, 256)       590080    \n",
            "                                                                 \n",
            " block3_pool (MaxPooling2D)  (None, 28, 28, 256)       0         \n",
            "                                                                 \n",
            " block4_conv1 (Conv2D)       (None, 28, 28, 512)       1180160   \n",
            "                                                                 \n",
            " block4_conv2 (Conv2D)       (None, 28, 28, 512)       2359808   \n",
            "                                                                 \n",
            " block4_conv3 (Conv2D)       (None, 28, 28, 512)       2359808   \n",
            "                                                                 \n",
            " block4_pool (MaxPooling2D)  (None, 14, 14, 512)       0         \n",
            "                                                                 \n",
            " block5_conv1 (Conv2D)       (None, 14, 14, 512)       2359808   \n",
            "                                                                 \n",
            " block5_conv2 (Conv2D)       (None, 14, 14, 512)       2359808   \n",
            "                                                                 \n",
            " block5_conv3 (Conv2D)       (None, 14, 14, 512)       2359808   \n",
            "                                                                 \n",
            " block5_pool (MaxPooling2D)  (None, 7, 7, 512)         0         \n",
            "                                                                 \n",
            " sequential_1 (Sequential)   (None, 2)                 50178     \n",
            "                                                                 \n",
            "=================================================================\n",
            "Total params: 14,764,866\n",
            "Trainable params: 7,129,602\n",
            "Non-trainable params: 7,635,264\n",
            "_________________________________________________________________\n"
          ]
        }
      ]
    },
    {
      "cell_type": "code",
      "source": [
        "model.fit(X_train,y_train,epochs=20,batch_size=16)\n",
        "\n",
        "score=model.evaluate(X_test,y_test,batch_size=16)"
      ],
      "metadata": {
        "id": "_l7snYw7aDDC"
      },
      "execution_count": null,
      "outputs": []
    },
    {
      "cell_type": "code",
      "source": [
        "import pickle\n",
        "pickle.dump(classes, open('./classes.sav', 'wb'))\n",
        "model.save('./cnn_test_1.h5')\n"
      ],
      "metadata": {
        "id": "e3YH4BBlganP"
      },
      "execution_count": null,
      "outputs": []
    },
    {
      "cell_type": "code",
      "source": [
        "from keras.models import load_model\n",
        "import pickle\n",
        "import cv2\n",
        "\n",
        "model=load_model('./cnn_test_1.h5')\n",
        "classes=pickle.load(open('./classes.sav','rb'))"
      ],
      "metadata": {
        "id": "J9fNnEpOnzDy"
      },
      "execution_count": null,
      "outputs": []
    },
    {
      "cell_type": "code",
      "source": [
        "!pip install pandas"
      ],
      "metadata": {
        "id": "ChRYsKpxZFOv"
      },
      "execution_count": null,
      "outputs": []
    },
    {
      "cell_type": "code",
      "source": [
        "import pandas as pd\n",
        "from matplotlib import pyplot as plt\n",
        "\n",
        "PREDICT_MODE='SINGLE_IMG'  #'SINGLE_IMG','ALL_IMGS'\n",
        "\n",
        "predict_folder='./predict_imgs/'\n",
        "\n",
        "image_files=[]\n",
        "if PREDICT_MODE=='SINGLE_IMG':\n",
        "  image_files = glob.glob(predict_folder+'*.jpg') + glob.glob(predict_folder+'*.png')\n",
        "elif PREDICT_MODE=='ALL_IMGS':\n",
        "  image_files.append('./predict_imgs/test_8.jpg')"
      ],
      "metadata": {
        "id": "BhB8hkLOZRj0"
      },
      "execution_count": null,
      "outputs": []
    },
    {
      "cell_type": "code",
      "source": [
        "predict_imgs=[]\n",
        "for file_name in image_files:\n",
        "  img=cv2.imread(file_name)\n",
        "  img_rgb = cv2.cvtColor(img, cv2.COLOR_BGR2RGB) \n",
        "  #plt.imshow(img_rgb)\n",
        "  #plt.axis('off') \n",
        "  #plt.show()\n",
        "  if img is None:\n",
        "    print('Can\\'t find this file:',file_name)\n",
        "    break\n",
        "  img=cv2.resize(img,dsize=(224,224))\n",
        "  img=img.astype('float32')\n",
        "  img/=255.0\n",
        "  predict_imgs.append(img)\n",
        "\n",
        "predict_imgs=np.nstack(predict_imgs)\n",
        "predict_results=model.predict(predict_imgs)\n"
      ],
      "metadata": {
        "id": "HvXFpbhGaOyo"
      },
      "execution_count": null,
      "outputs": []
    },
    {
      "cell_type": "code",
      "source": [
        "\n",
        "\n",
        "\n",
        "output_df = pd.DataFrame(columns=['Image', 'Prediction Result', 'Predicted Class'])\n",
        "\n",
        "\n",
        "# When there is only a single prediction image, we should add a batch dimension to the 'img' array.\n",
        "#img=img[None,...]\n",
        "\n",
        "\n",
        "for result, img_path in zip(predict_results, image_files):\n",
        "  np.set_printoptions(precision=3,suppress=True)\n",
        "  img = cv2.imread(img_path)\n",
        "  pred = result.argmax()\n",
        "  \n",
        "  df = df.append({\n",
        "      'Image': img,\n",
        "      'Prediction Result': result * 100,\n",
        "      'Predicted Class': classes[pred]\n",
        "  }, ignore_index=True)\n",
        "\n",
        "\n",
        "print(df)\n",
        "\n",
        "\n",
        "\n",
        "\n",
        "\n"
      ],
      "metadata": {
        "id": "30rH1OhxpLCa"
      },
      "execution_count": null,
      "outputs": []
    },
    {
      "cell_type": "markdown",
      "source": [],
      "metadata": {
        "id": "ybOh3k8g7D0d"
      }
    }
  ],
  "metadata": {
    "colab": {
      "provenance": [],
      "gpuType": "T4",
      "authorship_tag": "ABX9TyMU6rOQHgVqeB3S4Nsnmqep",
      "include_colab_link": true
    },
    "kernelspec": {
      "display_name": "Python 3",
      "name": "python3"
    },
    "language_info": {
      "name": "python"
    },
    "accelerator": "GPU"
  },
  "nbformat": 4,
  "nbformat_minor": 0
}