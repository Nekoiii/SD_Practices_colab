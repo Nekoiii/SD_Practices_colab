{
  "nbformat": 4,
  "nbformat_minor": 0,
  "metadata": {
    "colab": {
      "provenance": [],
      "mount_file_id": "167iyCqlynYGkYrvny_FO_Xz-vWJtGufD",
      "authorship_tag": "ABX9TyMHipEpVcesEJTiYrsaK3t4",
      "include_colab_link": true
    },
    "kernelspec": {
      "name": "python3",
      "display_name": "Python 3"
    },
    "language_info": {
      "name": "python"
    }
  },
  "cells": [
    {
      "cell_type": "markdown",
      "metadata": {
        "id": "view-in-github",
        "colab_type": "text"
      },
      "source": [
        "<a href=\"https://colab.research.google.com/github/Nekoiii/ML_Practices_colab/blob/main/Train_a_ControlNet_to_Control_SD.ipynb\" target=\"_parent\"><img src=\"https://colab.research.google.com/assets/colab-badge.svg\" alt=\"Open In Colab\"/></a>"
      ]
    },
    {
      "cell_type": "markdown",
      "source": [
        "https://github.com/lllyasviel/ControlNet/blob/main/docs/train.md\n",
        "\n",
        "*problem: Failed to activate the conda virtual environment"
      ],
      "metadata": {
        "id": "2h_Swalg0aKk"
      }
    },
    {
      "cell_type": "code",
      "source": [
        "from google.colab import drive\n",
        "drive.mount('/content/drive')"
      ],
      "metadata": {
        "colab": {
          "base_uri": "https://localhost:8080/"
        },
        "id": "K1P9Womy6GPo",
        "outputId": "bc623879-45ed-41db-c1b1-18c5cb5ebd77"
      },
      "execution_count": null,
      "outputs": [
        {
          "output_type": "stream",
          "name": "stdout",
          "text": [
            "Mounted at /content/drive\n"
          ]
        }
      ]
    },
    {
      "cell_type": "code",
      "source": [
        "!git clone https://github.com/lllyasviel/ControlNet.git"
      ],
      "metadata": {
        "colab": {
          "base_uri": "https://localhost:8080/"
        },
        "id": "MBGKZlWUM8CW",
        "outputId": "2ee96eaf-8a95-41c3-b07c-789ddd6f7c6e"
      },
      "execution_count": null,
      "outputs": [
        {
          "output_type": "stream",
          "name": "stdout",
          "text": [
            "Cloning into 'ControlNet'...\n",
            "remote: Enumerating objects: 1350, done.\u001b[K\n",
            "remote: Counting objects: 100% (435/435), done.\u001b[K\n",
            "remote: Compressing objects: 100% (64/64), done.\u001b[K\n",
            "remote: Total 1350 (delta 400), reused 371 (delta 371), pack-reused 915\u001b[K\n",
            "Receiving objects: 100% (1350/1350), 122.37 MiB | 28.04 MiB/s, done.\n",
            "Resolving deltas: 100% (612/612), done.\n"
          ]
        }
      ]
    },
    {
      "cell_type": "code",
      "source": [
        "#https://amaru-ai.com/entry/2022/10/10/073716\n",
        "\n",
        "#!pip install -q condacolab\n",
        "#import condacolab\n",
        "#condacolab.install()\n",
        "\n",
        "!wget -c https://repo.continuum.io/miniconda/Miniconda3-latest-Linux-x86_64.sh\n",
        "!chmod +x Miniconda3-latest-Linux-x86_64.sh\n",
        "!bash ./Miniconda3-latest-Linux-x86_64.sh -b -f -p /usr/local\n",
        "\n",
        "!conda --version"
      ],
      "metadata": {
        "colab": {
          "base_uri": "https://localhost:8080/"
        },
        "id": "2q1rlO-nPdST",
        "outputId": "0e082f36-6b20-47f7-ec04-acc3327e32ca"
      },
      "execution_count": null,
      "outputs": [
        {
          "output_type": "stream",
          "name": "stdout",
          "text": [
            "--2023-06-24 23:09:46--  https://repo.continuum.io/miniconda/Miniconda3-latest-Linux-x86_64.sh\n",
            "Resolving repo.continuum.io (repo.continuum.io)... 104.18.201.79, 104.18.200.79, 2606:4700::6812:c94f, ...\n",
            "Connecting to repo.continuum.io (repo.continuum.io)|104.18.201.79|:443... connected.\n",
            "HTTP request sent, awaiting response... 301 Moved Permanently\n",
            "Location: https://repo.anaconda.com/miniconda/Miniconda3-latest-Linux-x86_64.sh [following]\n",
            "--2023-06-24 23:09:46--  https://repo.anaconda.com/miniconda/Miniconda3-latest-Linux-x86_64.sh\n",
            "Resolving repo.anaconda.com (repo.anaconda.com)... 104.16.131.3, 104.16.130.3, 2606:4700::6810:8303, ...\n",
            "Connecting to repo.anaconda.com (repo.anaconda.com)|104.16.131.3|:443... connected.\n",
            "HTTP request sent, awaiting response... 200 OK\n",
            "Length: 73134376 (70M) [application/x-sh]\n",
            "Saving to: ‘Miniconda3-latest-Linux-x86_64.sh’\n",
            "\n",
            "Miniconda3-latest-L 100%[===================>]  69.75M   166MB/s    in 0.4s    \n",
            "\n",
            "2023-06-24 23:09:47 (166 MB/s) - ‘Miniconda3-latest-Linux-x86_64.sh’ saved [73134376/73134376]\n",
            "\n",
            "PREFIX=/usr/local\n",
            "Unpacking payload ...\n",
            "                                                                                 \n",
            "Installing base environment...\n",
            "\n",
            "\n",
            "Downloading and Extracting Packages\n",
            "\n",
            "Preparing transaction: - \b\bdone\n",
            "Executing transaction: | \b\bdone\n",
            "installation finished.\n",
            "WARNING:\n",
            "    You currently have a PYTHONPATH environment variable set. This may cause\n",
            "    unexpected behavior when running the Python interpreter in Miniconda3.\n",
            "    For best results, please verify that your PYTHONPATH only points to\n",
            "    directories of packages that are compatible with the Python interpreter\n",
            "    in Miniconda3: /usr/local\n",
            "conda 23.3.1\n"
          ]
        }
      ]
    },
    {
      "cell_type": "code",
      "source": [
        "!which conda"
      ],
      "metadata": {
        "colab": {
          "base_uri": "https://localhost:8080/"
        },
        "id": "2nXFog_Tdrm_",
        "outputId": "095b1620-9873-495c-fe62-5384c8a46044"
      },
      "execution_count": null,
      "outputs": [
        {
          "output_type": "stream",
          "name": "stdout",
          "text": [
            "/usr/local/bin/conda\n"
          ]
        }
      ]
    },
    {
      "cell_type": "code",
      "source": [
        "%cd ControlNet"
      ],
      "metadata": {
        "colab": {
          "base_uri": "https://localhost:8080/"
        },
        "id": "KJKwoMT1OZ9k",
        "outputId": "78e05c8b-272b-4168-e6ea-512659883783"
      },
      "execution_count": 39,
      "outputs": [
        {
          "output_type": "stream",
          "name": "stdout",
          "text": [
            "[Errno 2] No such file or directory: 'ControlNet'\n",
            "/content/ControlNet\n"
          ]
        }
      ]
    },
    {
      "cell_type": "code",
      "source": [
        "#https://github.com/dataprofessor/code/issues/10\n",
        "\n",
        "!conda env update -n base -f environment.yaml"
      ],
      "metadata": {
        "colab": {
          "base_uri": "https://localhost:8080/"
        },
        "id": "Hu4R-7P0uho8",
        "outputId": "aa6cae3f-030f-4dd2-9492-e2c46f667724"
      },
      "execution_count": 40,
      "outputs": [
        {
          "output_type": "stream",
          "name": "stdout",
          "text": [
            "Collecting package metadata (repodata.json): - \b\b\\ \b\b| \b\b/ \b\b- \b\b\\ \b\b| \b\b/ \b\b- \b\b\\ \b\b| \b\b/ \b\b- \b\b\\ \b\b| \b\b/ \b\b- \b\b\\ \b\b| \b\b/ \b\b- \b\b\\ \b\b| \b\b/ \b\b- \b\b\\ \b\b| \b\b/ \b\b- \b\b\\ \b\b| \b\b/ \b\b- \b\b\\ \b\b| \b\b/ \b\b- \b\b\\ \b\b| \b\b/ \b\b- \b\b\\ \b\b| \b\b/ \b\b- \b\b\\ \b\b| \b\b/ \b\b- \b\b\\ \b\b| \b\b/ \b\b- \b\b\\ \b\b| \b\b/ \b\b- \b\b\\ \b\b| \b\b/ \b\b- \b\b\\ \b\b| \b\b/ \b\b- \b\b\\ \b\b| \b\b/ \b\b- \b\b\\ \b\b| \b\b/ \b\b- \b\b\\ \b\b| \b\b/ \b\b- \b\b\\ \b\b| \b\b/ \b\b- \b\b\\ \b\b| \b\b/ \b\b- \b\b\\ \b\b| \b\b/ \b\b- \b\b\\ \b\b| \b\b/ \b\b- \b\b\\ \b\b| \b\b/ \b\b- \b\b\\ \b\b| \b\b/ \b\b- \b\b\\ \b\b| \b\b/ \b\b- \b\b\\ \b\b| \b\b/ \b\b- \b\b\\ \b\b| \b\b/ \b\b- \b\b\\ \b\b| \b\b/ \b\b- \b\b\\ \b\b| \b\b/ \b\b- \b\b\\ \b\b| \b\b/ \b\b- \b\b\\ \b\b| \b\b/ \b\b- \b\b\\ \b\b| \b\b/ \b\b- \b\b\\ \b\b| \b\b/ \b\b- \b\b\\ \b\b| \b\b/ \b\b- \b\b\\ \b\b| \b\b/ \b\b- \b\b\\ \b\b| \b\b/ \b\b- \b\b\\ \b\b| \b\b/ \b\b- \b\b\\ \b\b| \b\b/ \b\b- \b\b\\ \b\b| \b\b/ \b\b- \b\b\\ \b\b| \b\b/ \b\b- \b\bdone\n",
            "Solving environment: | \b\b/ \b\b- \b\b\\ \b\b| \b\b/ \b\b- \b\b\\ \b\b| \b\b/ \b\b- \b\b\\ \b\b| \b\b/ \b\b- \b\b\\ \b\b| \b\b/ \b\b- \b\b\\ \b\b| \b\b/ \b\b- \b\b\\ \b\b| \b\b/ \b\b- \b\b\\ \b\b| \b\b/ \b\b- \b\b\\ \b\b| \b\b/ \b\b- \b\b\\ \b\b| \b\b/ \b\b- \b\b\\ \b\b| \b\b/ \b\b- \b\b\\ \b\b| \b\b/ \b\b- \b\b\\ \b\b| \b\b/ \b\b- \b\b\\ \b\b| \b\b/ \b\b- \b\b\\ \b\b| \b\b/ \b\b- \b\b\\ \b\b| \b\b/ \b\b- \b\b\\ \b\b| \b\b/ \b\b- \b\b\\ \b\b| \b\b/ \b\b- \b\b\\ \b\b| \b\b/ \b\b- \b\b\\ \b\b| \b\b/ \b\b- \b\b\\ \b\b| \b\b/ \b\b- \b\b\\ \b\b| \b\b/ \b\b- \b\b\\ \b\b| \b\b/ \b\b- \b\b\\ \b\b| \b\b/ \b\b- \b\b\\ \b\b| \b\b/ \b\b- \b\b\\ \b\b| \b\b/ \b\b- \b\b\\ \b\b| \b\b/ \b\b- \b\b\\ \b\b| \b\b/ \b\b- \b\b\\ \b\b| \b\b/ \b\b- \b\b\\ \b\b| \b\b/ \b\b- \b\b\\ \b\b| \b\b/ \b\b- \b\b\\ \b\b| \b\b/ \b\b- \b\b\\ \b\b| \b\b/ \b\b- \b\b\\ \b\b| \b\b/ \b\b- \b\b\\ \b\b| \b\b/ \b\b- \b\b\\ \b\b| \b\b/ \b\b- \b\b\\ \b\b| \b\b/ \b\b- \b\b\\ \b\b| \b\b/ \b\b- \b\b\\ \b\b| \b\b/ \b\b- \b\b\\ \b\b| \b\b/ \b\b- \b\b\\ \b\b| \b\b/ \b\b- \b\b\\ \b\b| \b\b/ \b\b- \b\b\\ \b\b| \b\b/ \b\b- \b\b\\ \b\b| \b\b/ \b\b- \b\b\\ \b\b| \b\b/ \b\b- \b\b\\ \b\b| \b\b/ \b\b- \b\b\\ \b\b| \b\b/ \b\b- \b\b\\ \b\b| \b\b/ \b\b- \b\b\\ \b\b| \b\b/ \b\b- \b\b\\ \b\b| \b\b/ \b\b- \b\b\\ \b\b| \b\b/ \b\b- \b\b\\ \b\b| \b\b/ \b\b- \b\b\\ \b\b| \b\b/ \b\b- \b\b\\ \b\b| \b\b/ \b\b- \b\b\\ \b\b| \b\b/ \b\b- \b\b\\ \b\b| \b\b/ \b\b- \b\b\\ \b\b| \b\b/ \b\b- \b\b\\ \b\b| \b\b/ \b\b- \b\b\\ \b\b| \b\b/ \b\b- \b\b\\ \b\b| \b\b/ \b\b- \b\b\\ \b\b| \b\b/ \b\b- \b\b\\ \b\b| \b\b/ \b\b- \b\b\\ \b\b| \b\b/ \b\b- \b\b\\ \b\b| \b\b/ \b\b- \b\b\\ \b\b| \b\b/ \b\b- \b\b\\ \b\b| \b\b/ \b\b- \b\b\\ \b\b| \b\b/ \b\b- \b\b\\ \b\b| \b\b/ \b\b- \b\b\\ \b\b| \b\b/ \b\b- \b\b\\ \b\b| \b\b/ \b\b- \b\b\\ \b\b| \b\b/ \b\b- \b\b\\ \b\b| \b\b/ \b\b- \b\b\\ \b\b| \b\b/ \b\b- \b\b\\ \b\b| \b\b/ \b\b- \b\b\\ \b\b| \b\b/ \b\b- \b\b\\ \b\b| \b\b/ \b\b- \b\b\\ \b\b| \b\b/ \b\b- \b\b\\ \b\b| \b\b/ \b\b- \b\b\\ \b\b| \b\b/ \b\b- \b\b\\ \b\b| \b\b/ \b\b- \b\b\\ \b\b| \b\b/ \b\b- \b\b\\ \b\b| \b\b/ \b\b- \b\b\\ \b\b| \b\b/ \b\b- \b\b\\ \b\b| \b\b/ \b\bdone\n",
            "\n",
            "\n",
            "==> WARNING: A newer version of conda exists. <==\n",
            "  current version: 23.3.1\n",
            "  latest version: 23.5.0\n",
            "\n",
            "Please update conda by running\n",
            "\n",
            "    $ conda update -n base -c defaults conda\n",
            "\n",
            "Or to minimize the number of packages updated during conda update use\n",
            "\n",
            "     conda install conda=23.5.0\n",
            "\n",
            "\n",
            "\n",
            "Downloading and Extracting Packages\n",
            "boltons-23.0.0       | 426 KB    | :   0% 0/1 [00:00<?, ?it/s]\n",
            "pycosat-0.6.4        | 84 KB     | :   0% 0/1 [00:00<?, ?it/s]\u001b[A\n",
            "\n",
            "toolz-0.12.0         | 105 KB    | :   0% 0/1 [00:00<?, ?it/s]\u001b[A\u001b[A\n",
            "\n",
            "\n",
            "urllib3-1.25.8       | 170 KB    | :   0% 0/1 [00:00<?, ?it/s]\u001b[A\u001b[A\u001b[A\n",
            "\n",
            "\n",
            "\n",
            "pluggy-1.0.0         | 28 KB     | :   0% 0/1 [00:00<?, ?it/s]\u001b[A\u001b[A\u001b[A\u001b[A\n",
            "\n",
            "\n",
            "\n",
            "\n",
            "conda-23.3.1         | 960 KB    | :   0% 0/1 [00:00<?, ?it/s]\u001b[A\u001b[A\u001b[A\u001b[A\u001b[A\n",
            "\n",
            "\n",
            "\n",
            "\n",
            "\n",
            "ruamel.yaml.clib-0.2 | 143 KB    | :   0% 0/1 [00:00<?, ?it/s]\u001b[A\u001b[A\u001b[A\u001b[A\u001b[A\u001b[A\n",
            "\n",
            "\n",
            "\n",
            "\n",
            "\n",
            "\n",
            "conda-content-trust- | 70 KB     | :   0% 0/1 [00:00<?, ?it/s]\u001b[A\u001b[A\u001b[A\u001b[A\u001b[A\u001b[A\u001b[A\n",
            "\n",
            "\n",
            "\n",
            "\n",
            "\n",
            "\n",
            "\n",
            "conda-package-handli | 946 KB    | :   0% 0/1 [00:00<?, ?it/s]\u001b[A\u001b[A\u001b[A\u001b[A\u001b[A\u001b[A\u001b[A\u001b[A\n",
            "\n",
            "\n",
            "\n",
            "\n",
            "\n",
            "\n",
            "\n",
            "\n",
            "packaging-23.0       | 68 KB     | :   0% 0/1 [00:00<?, ?it/s]\u001b[A\u001b[A\u001b[A\u001b[A\u001b[A\u001b[A\u001b[A\u001b[A\u001b[A\n",
            "\n",
            "\n",
            "\n",
            "\n",
            "\n",
            "\n",
            "\n",
            "\n",
            "\n",
            "ruamel.yaml-0.17.21  | 178 KB    | :   0% 0/1 [00:00<?, ?it/s]\u001b[A\u001b[A\u001b[A\u001b[A\u001b[A\u001b[A\u001b[A\u001b[A\u001b[A\u001b[A\n",
            "\n",
            "\n",
            "\n",
            "\n",
            "\n",
            "\n",
            "\n",
            "\n",
            "\n",
            "\n",
            "tqdm-4.65.0          | 131 KB    | :   0% 0/1 [00:00<?, ?it/s]\u001b[A\u001b[A\u001b[A\u001b[A\u001b[A\u001b[A\u001b[A\u001b[A\u001b[A\u001b[A\u001b[A\n",
            "\n",
            "boltons-23.0.0       | 426 KB    | :   4% 0.037517317182079436/1 [00:00<00:03,  3.18s/it]\n",
            "\n",
            "\n",
            "\n",
            "pluggy-1.0.0         | 28 KB     | :  56% 0.5629853618308021/1 [00:00<00:00,  4.74it/s]\u001b[A\u001b[A\u001b[A\u001b[A\n",
            "\n",
            "\n",
            "urllib3-1.25.8       | 170 KB    | :   9% 0.09414685161987289/1 [00:00<00:01,  1.36s/it]\u001b[A\u001b[A\u001b[A\n",
            "pycosat-0.6.4        | 84 KB     | :  19% 0.19068679368256888/1 [00:00<00:00,  1.39it/s]\u001b[A\n",
            "\n",
            "\n",
            "\n",
            "\n",
            "conda-23.3.1         | 960 KB    | :   2% 0.01667134734280051/1 [00:00<00:08,  8.80s/it]\u001b[A\u001b[A\u001b[A\u001b[A\u001b[A\n",
            "\n",
            "\n",
            "\n",
            "\n",
            "\n",
            "ruamel.yaml.clib-0.2 | 143 KB    | :  11% 0.11166315674688367/1 [00:00<00:01,  1.46s/it]\u001b[A\u001b[A\u001b[A\u001b[A\u001b[A\u001b[A\n",
            "\n",
            "\n",
            "\n",
            "\n",
            "\n",
            "\n",
            "\n",
            "\n",
            "packaging-23.0       | 68 KB     | :  24% 0.23673563749855508/1 [00:00<00:00,  1.18it/s]\u001b[A\u001b[A\u001b[A\u001b[A\u001b[A\u001b[A\u001b[A\u001b[A\u001b[A\n",
            "\n",
            "\n",
            "\n",
            "\n",
            "\n",
            "\n",
            "\n",
            "\n",
            "\n",
            "ruamel.yaml-0.17.21  | 178 KB    | :   9% 0.08976452153712977/1 [00:00<00:02,  2.32s/it]\u001b[A\u001b[A\u001b[A\u001b[A\u001b[A\u001b[A\u001b[A\u001b[A\u001b[A\u001b[A\n",
            "\n",
            "\n",
            "\n",
            "\n",
            "\n",
            "\n",
            "\n",
            "conda-package-handli | 946 KB    | :   2% 0.01692079531042802/1 [00:00<00:12, 12.51s/it]\u001b[A\u001b[A\u001b[A\u001b[A\u001b[A\u001b[A\u001b[A\u001b[A\n",
            "\n",
            "\n",
            "\n",
            "\n",
            "\n",
            "\n",
            "conda-content-trust- | 70 KB     | :  23% 0.22753975418373723/1 [00:00<00:00,  1.05it/s]\u001b[A\u001b[A\u001b[A\u001b[A\u001b[A\u001b[A\u001b[A\n",
            "\n",
            "\n",
            "\n",
            "pluggy-1.0.0         | 28 KB     | : 100% 1.0/1 [00:00<00:00,  4.74it/s]               \u001b[A\u001b[A\u001b[A\u001b[A\n",
            "\n",
            "\n",
            "\n",
            "\n",
            "\n",
            "\n",
            "\n",
            "\n",
            "\n",
            "\n",
            "tqdm-4.65.0          | 131 KB    | :  12% 0.12209735594837094/1 [00:00<00:01,  1.90s/it]\u001b[A\u001b[A\u001b[A\u001b[A\u001b[A\u001b[A\u001b[A\u001b[A\u001b[A\u001b[A\u001b[A\n",
            "pycosat-0.6.4        | 84 KB     | : 100% 1.0/1 [00:00<00:00,  3.74it/s]                \u001b[A\n",
            "pycosat-0.6.4        | 84 KB     | : 100% 1.0/1 [00:00<00:00,  3.74it/s]\u001b[A\n",
            "\n",
            "toolz-0.12.0         | 105 KB    | : 100% 1.0/1 [00:00<00:00,  3.60it/s]                \u001b[A\u001b[A\n",
            "\n",
            "toolz-0.12.0         | 105 KB    | : 100% 1.0/1 [00:00<00:00,  3.60it/s]\u001b[A\u001b[A\n",
            "\n",
            "\n",
            "urllib3-1.25.8       | 170 KB    | : 100% 1.0/1 [00:00<00:00,  2.81it/s]                \u001b[A\u001b[A\u001b[A\n",
            "\n",
            "\n",
            "urllib3-1.25.8       | 170 KB    | : 100% 1.0/1 [00:00<00:00,  2.81it/s]\u001b[A\u001b[A\u001b[A\n",
            "\n",
            "\n",
            "\n",
            "\n",
            "\n",
            "ruamel.yaml.clib-0.2 | 143 KB    | : 100% 1.0/1 [00:00<00:00,  2.70it/s]                \u001b[A\u001b[A\u001b[A\u001b[A\u001b[A\u001b[A\n",
            "\n",
            "\n",
            "\n",
            "\n",
            "\n",
            "boltons-23.0.0       | 426 KB    | : 100% 1.0/1 [00:00<00:00,  2.43it/s]\n",
            "\n",
            "\n",
            "\n",
            "\n",
            "\n",
            "\n",
            "\n",
            "\n",
            "packaging-23.0       | 68 KB     | : 100% 1.0/1 [00:00<00:00,  2.29it/s]                \u001b[A\u001b[A\u001b[A\u001b[A\u001b[A\u001b[A\u001b[A\u001b[A\u001b[A\n",
            "\n",
            "\n",
            "\n",
            "\n",
            "\n",
            "\n",
            "\n",
            "\n",
            "packaging-23.0       | 68 KB     | : 100% 1.0/1 [00:00<00:00,  2.29it/s]\u001b[A\u001b[A\u001b[A\u001b[A\u001b[A\u001b[A\u001b[A\u001b[A\u001b[A\n",
            "\n",
            "\n",
            "\n",
            "\n",
            "\n",
            "\n",
            "conda-content-trust- | 70 KB     | : 100% 1.0/1 [00:00<00:00,  2.01it/s]                \u001b[A\u001b[A\u001b[A\u001b[A\u001b[A\u001b[A\u001b[A\n",
            "\n",
            "\n",
            "\n",
            "\n",
            "\n",
            "\n",
            "conda-content-trust- | 70 KB     | : 100% 1.0/1 [00:00<00:00,  2.01it/s]\u001b[A\u001b[A\u001b[A\u001b[A\u001b[A\u001b[A\u001b[A\n",
            "\n",
            "\n",
            "\n",
            "\n",
            "\n",
            "\n",
            "\n",
            "\n",
            "\n",
            "ruamel.yaml-0.17.21  | 178 KB    | : 100% 1.0/1 [00:00<00:00,  1.77it/s]                \u001b[A\u001b[A\u001b[A\u001b[A\u001b[A\u001b[A\u001b[A\u001b[A\u001b[A\u001b[A\n",
            "\n",
            "\n",
            "\n",
            "\n",
            "\n",
            "\n",
            "\n",
            "\n",
            "\n",
            "ruamel.yaml-0.17.21  | 178 KB    | : 100% 1.0/1 [00:00<00:00,  1.77it/s]\u001b[A\u001b[A\u001b[A\u001b[A\u001b[A\u001b[A\u001b[A\u001b[A\u001b[A\u001b[A\n",
            "\n",
            "\n",
            "\n",
            "\n",
            "\n",
            "\n",
            "\n",
            "\n",
            "\n",
            "\n",
            "tqdm-4.65.0          | 131 KB    | : 100% 1.0/1 [00:00<00:00,  1.41it/s]                \u001b[A\u001b[A\u001b[A\u001b[A\u001b[A\u001b[A\u001b[A\u001b[A\u001b[A\u001b[A\u001b[A\n",
            "\n",
            "\n",
            "\n",
            "\n",
            "\n",
            "\n",
            "\n",
            "\n",
            "\n",
            "\n",
            "tqdm-4.65.0          | 131 KB    | : 100% 1.0/1 [00:00<00:00,  1.41it/s]\u001b[A\u001b[A\u001b[A\u001b[A\u001b[A\u001b[A\u001b[A\u001b[A\u001b[A\u001b[A\u001b[A\n",
            "\n",
            "\n",
            "\n",
            "\n",
            "\n",
            "\n",
            "\n",
            "conda-package-handli | 946 KB    | : 100% 1.0/1 [00:00<00:00,  1.26it/s]                \u001b[A\u001b[A\u001b[A\u001b[A\u001b[A\u001b[A\u001b[A\u001b[A\n",
            "\n",
            "\n",
            "\n",
            "\n",
            "\n",
            "\n",
            "\n",
            "conda-package-handli | 946 KB    | : 100% 1.0/1 [00:00<00:00,  1.26it/s]\u001b[A\u001b[A\u001b[A\u001b[A\u001b[A\u001b[A\u001b[A\u001b[A\n",
            "\n",
            "\n",
            "\n",
            "\n",
            "conda-23.3.1         | 960 KB    | : 100% 1.0/1 [00:00<00:00,  1.11it/s]                \u001b[A\u001b[A\u001b[A\u001b[A\u001b[A\n",
            "\n",
            "\n",
            "\n",
            "\n",
            "                                                                        \n",
            "                                                                        \u001b[A\n",
            "\n",
            "                                                                        \u001b[A\u001b[A\n",
            "\n",
            "\n",
            "                                                                        \u001b[A\u001b[A\u001b[A\n",
            "\n",
            "\n",
            "\n",
            "                                                                        \u001b[A\u001b[A\u001b[A\u001b[A\n",
            "\n",
            "\n",
            "\n",
            "\n",
            "                                                                        \u001b[A\u001b[A\u001b[A\u001b[A\u001b[A\n",
            "\n",
            "\n",
            "\n",
            "\n",
            "\n",
            "                                                                        \u001b[A\u001b[A\u001b[A\u001b[A\u001b[A\u001b[A\n",
            "\n",
            "\n",
            "\n",
            "\n",
            "\n",
            "\n",
            "                                                                        \u001b[A\u001b[A\u001b[A\u001b[A\u001b[A\u001b[A\u001b[A\n",
            "\n",
            "\n",
            "\n",
            "\n",
            "\n",
            "\n",
            "\n",
            "                                                                        \u001b[A\u001b[A\u001b[A\u001b[A\u001b[A\u001b[A\u001b[A\u001b[A\n",
            "\n",
            "\n",
            "\n",
            "\n",
            "\n",
            "\n",
            "\n",
            "\n",
            "                                                                        \u001b[A\u001b[A\u001b[A\u001b[A\u001b[A\u001b[A\u001b[A\u001b[A\u001b[A\n",
            "\n",
            "\n",
            "\n",
            "\n",
            "\n",
            "\n",
            "\n",
            "\n",
            "\n",
            "                                                                        \u001b[A\u001b[A\u001b[A\u001b[A\u001b[A\u001b[A\u001b[A\u001b[A\u001b[A\u001b[A\n",
            "\n",
            "\n",
            "\n",
            "\n",
            "\n",
            "\n",
            "\n",
            "\n",
            "\n",
            "\n",
            "                                                                        \u001b[A\u001b[A\u001b[A\u001b[A\u001b[A\u001b[A\u001b[A\u001b[A\u001b[A\u001b[A\u001b[A\n",
            "Preparing transaction: \\ \b\b| \b\b/ \b\b- \b\b\\ \b\b| \b\b/ \b\b- \b\b\\ \b\b| \b\b/ \b\b- \b\b\\ \b\b| \b\bdone\n",
            "Verifying transaction: - \b\b\\ \b\b| \b\b/ \b\b- \b\b\\ \b\b| \b\b/ \b\b- \b\b\\ \b\b| \b\b/ \b\b- \b\b\\ \b\b| \b\b/ \b\b- \b\b\\ \b\b| \b\b/ \b\b- \b\b\\ \b\b| \b\b/ \b\b- \b\b\\ \b\b| \b\b/ \b\b- \b\b\\ \b\b| \b\b/ \b\b- \b\b\\ \b\b| \b\b/ \b\b- \b\b\\ \b\b| \b\b/ \b\b- \b\b\\ \b\b| \b\b/ \b\b- \b\b\\ \b\b| \b\b/ \b\b- \b\bdone\n",
            "Executing transaction: | \b\b/ \b\b- \b\b\\ \b\b| \b\b/ \b\b- \b\b\\ \b\b| \b\b/ \b\b- \b\b\\ \b\b| \b\b/ \b\b- \b\b\\ \b\b| \b\b/ \b\b- \b\b\\ \b\b| \b\b/ \b\b- \b\b\\ \b\b| \b\b/ \b\b- \b\b\\ \b\b| \b\b/ \b\b- \b\b\\ \b\b| \b\b/ \b\b- \b\b\\ \b\b| \b\b/ \b\b- \b\b\\ \b\b| \b\b/ \b\b- \b\b\\ \b\b| \b\b/ \b\b- \b\b\\ \b\b| \b\b/ \b\b- \b\b\\ \b\b| \b\b/ \b\b- \b\b\\ \b\b| \b\b/ \b\b- \b\b\\ \b\b| \b\b/ \b\b- \b\b\\ \b\b| \b\b/ \b\b- \b\b\\ \b\b| By downloading and using the CUDA Toolkit conda packages, you accept the terms and conditions of the CUDA End User License Agreement (EULA): https://docs.nvidia.com/cuda/eula/index.html\n",
            "\n",
            "\b\b/ \b\b- \b\b\\ \b\b| \b\b/ \b\b- \b\b\\ \b\b| \b\b/ \b\b- \b\b\\ \b\b| \b\b/ \b\b- \b\b\\ \b\b| \b\b/ \b\b- \b\b\\ \b\b| \b\b/ \b\b- \b\b\\ \b\b| \b\b/ \b\b- \b\b\\ \b\bdone\n",
            "Installing pip dependencies: / \b\b- \b\b\\ \b\b| \b\b/ \b\b- \b\b\\ \b\b| \b\b/ \b\b- \b\b\\ \b\b| \b\b/ \b\b- \b\b\\ \b\b| \b\b/ \b\b- \b\b\\ \b\b| \b\b/ \b\b- \b\b\\ \b\b| \b\b/ \b\b- \b\b\\ \b\b| \b\b/ \b\b- \b\b\\ \b\b| \b\b/ \b\b- \b\b\\ \b\b| \b\b/ \b\b- \b\b\\ \b\b| \b\b/ \b\b- \b\b\\ \b\b| \b\b/ \b\b- \b\b\\ \b\b| \b\b/ \b\b- \b\b\\ \b\b| \b\b/ \b\b- \b\b\\ \b\b| \b\b/ \b\b- \b\b\\ \b\b| \b\b/ \b\b- \b\b\\ \b\b| \b\b/ \b\b- \b\b\\ \b\b| \b\b/ \b\b- \b\b\\ \b\b| \b\b/ \b\b- \b\b\\ \b\b| \b\b/ \b\b- \b\b\\ \b\b| \b\b/ \b\b- \b\b\\ \b\b| \b\b/ \b\b- \b\b\\ \b\b| \b\b/ \b\b- \b\b\\ \b\b| \b\b/ \b\b- \b\b\\ \b\b| \b\b/ \b\b- \b\b\\ \b\b| \b\b/ \b\b- \b\b\\ \b\b| \b\b/ \b\b- \b\b\\ \b\b| \b\b/ \b\b- \b\b\\ \b\b| \b\b/ \b\b- \b\b\\ \b\b| \b\b/ \b\b- \b\b\\ \b\b| \b\b/ \b\b- \b\b\\ \b\b| \b\b/ \b\b- \b\b\\ \b\b| \b\b/ \b\b- \b\b\\ \b\b| \b\b/ \b\b- \b\b\\ \b\b| \b\b/ \b\b- \b\b\\ \b\b| \b\b/ \b\b- \b\b\\ \b\b| \b\b/ \b\b- \b\b\\ \b\b| \b\b/ \b\b- \b\b\\ \b\b| \b\b/ \b\b- \b\b\\ \b\b| \b\b/ \b\b- \b\b\\ \b\b| \b\b/ \b\b- \b\b\\ \b\b| \b\b/ \b\b- \b\b\\ \b\b| \b\b/ \b\b- \b\b\\ \b\b| \b\b/ \b\b- \b\b\\ \b\b| \b\b/ \b\b- \b\b\\ \b\b| \b\b/ \b\b- \b\b\\ \b\b| \b\b/ \b\b- \b\b\\ \b\b| \b\b/ \b\b- \b\b\\ \b\b| \b\b/ \b\b- \b\b\\ \b\b| \b\b/ \b\b- \b\b\\ \b\b| \b\b/ \b\b- \b\b\\ \b\b| \b\b/ \b\b- \b\b\\ \b\b| \b\b/ \b\b- \b\b\\ \b\b| \b\b/ \b\b- \b\b\\ \b\b| \b\b/ \b\b- \b\b\\ \b\b| \b\b/ \b\b- \b\b\\ \b\b| \b\b/ \b\b- \b\b\\ \b\b| \b\b/ \b\b- \b\b\\ \b\b| \b\b/ \b\b- \b\b\\ \b\b| \b\b/ \b\b- \b\b\\ \b\b| \b\b/ \b\b- \b\b\\ \b\b| \b\b/ \b\b- \b\b\\ \b\b| \b\b/ \b\b- \b\b\\ \b\b| \b\b/ \b\b- \b\b\\ \b\b| \b\b/ \b\b- \b\b\\ \b\b| \b\b/ \b\b- \b\b\\ \b\b| \b\b/ \b\b- \b\b\\ \b\b| \b\b/ \b\b- \b\b\\ \b\b| \b\b/ \b\b- \b\b\\ \b\b| \b\b/ \b\b- \b\b\\ \b\b| \b\b/ \b\b- \b\b\\ \b\b| \b\b/ \b\b- \b\b\\ \b\b| \b\b/ \b\b- \b\b\\ \b\b| \b\b/ \b\b- \b\b\\ \b\b| \b\b/ \b\b- \b\b\\ \b\b| \b\b/ \b\b- \b\b\\ \b\b| \b\b/ \b\b- \b\b\\ \b\b| \b\b/ \b\b- \b\b\\ \b\b| \b\b/ \b\b- \b\b\\ \b\b| \b\b/ \b\b- \b\b\\ \b\b| \b\b/ \b\b- \b\b\\ \b\b| \b\b/ \b\b- \b\b\\ \b\b| \b\b/ \b\b- \b\b\\ \b\b| \b\b/ \b\b- \b\b\\ \b\b| \b\b/ \b\b- \b\b\\ \b\b| \b\b/ \b\b- \b\b\\ \b\b| \b\b/ \b\b- \b\b\\ \b\b| \b\b/ \b\b- \b\b\\ \b\b| \b\b/ \b\b- \b\b\\ \b\b| \b\b/ \b\b- \b\b\\ \b\b| \b\b/ \b\b- \b\b\\ \b\b| \b\b/ \b\b- \b\b\\ \b\b| \b\b/ \b\b- \b\b\\ \b\b| \b\b/ \b\b- \b\b\\ \b\b| \b\b/ \b\b- \b\b\\ \b\b| \b\b/ \b\b- \b\b\\ \b\b| \b\b/ \b\b- \b\b\\ \b\b| \b\b/ \b\b- \b\b\\ \b\b| \b\b/ \b\b- \b\b\\ \b\b| \b\b/ \b\b- \b\b\\ \b\b| \b\b/ \b\b- \b\b\\ \b\b| \b\b/ \b\b- \b\b\\ \b\b| \b\b/ \b\b- \b\b\\ \b\b| \b\b/ \b\b- \b\b\\ \b\b| \b\b/ \b\b- \b\b\\ \b\b| \b\b/ \b\b- \b\b\\ \b\b| \b\b/ \b\b- \b\b\\ \b\b| \b\b/ \b\b- \b\b\\ \b\b| \b\b/ \b\b- \b\b\\ \b\b| \b\b/ \b\b- \b\b\\ \b\b| \b\b/ \b\b- \b\b\\ \b\b| \b\b/ \b\b- \b\b\\ \b\b| \b\b/ \b\b- \b\b\\ \b\b| \b\b/ \b\b- \b\b\\ \b\b| \b\b/ \b\b- \b\b\\ \b\b| \b\b/ \b\b- \b\b\\ \b\b| \b\b/ \b\b- \b\b\\ \b\b| \b\b/ \b\b- \b\b\\ \b\b| \b\b/ \b\b- \b\b\\ \b\b| \b\b/ \b\b- \b\b\\ \b\b| \b\b/ \b\b- \b\b\\ \b\b| \b\b/ \b\b- \b\b\\ \b\b| \b\b/ \b\b- \b\b\\ \b\b| \b\b/ \b\b- \b\b\\ \b\b| \b\b/ \b\b- \b\b\\ \b\b| \b\b/ \b\b- \b\b\\ \b\b| \b\b/ \b\b- \b\b\\ \b\b| \b\b/ \b\b- \b\b\\ \b\b| \b\b/ \b\b- \b\b\\ \b\b| \b\b/ \b\b- \b\b\\ \b\b| \b\b/ \b\b- \b\b\\ \b\b| \b\b/ \b\b- \b\b\\ \b\b| \b\b/ \b\b- \b\b\\ \b\b| \b\b/ \b\b- \b\b\\ \b\b| \b\b/ \b\b- \b\b\\ \b\b| \b\b/ \b\b- \b\b\\ \b\b| \b\b/ \b\b- \b\b\\ \b\b| \b\b/ \b\b- \b\b\\ \b\b| \b\b/ \b\b- \b\b\\ \b\b| \b\b/ \b\b- \b\b\\ \b\b| \b\b/ \b\b- \b\b\\ \b\b| \b\b/ \b\b- \b\b\\ \b\b| \b\b/ \b\b- \b\b\\ \b\b| \b\b/ \b\b- \b\b\\ \b\b| \b\b/ \b\b- \b\b\\ \b\b| \b\b/ \b\b- \b\b\\ \b\b| \b\b/ \b\b- \b\b\\ \b\b| \b\b/ \b\b- \b\b\\ \b\b| \b\b/ \b\b- \b\b\\ \b\b| \b\b/ \b\b- \b\b\\ \b\b| \b\b/ \b\b- \b\b\\ \b\b| \b\b/ \b\b- \b\b\\ \b\b| \b\b/ \b\b- \b\b\\ \b\b| \b\b/ \b\b- \b\b\\ \b\b| \b\b/ \b\b- \b\b\\ \b\b| \b\b/ \b\b- \b\b\\ \b\b| \b\b/ \b\b- \b\b\\ \b\b| \b\b/ \b\b- \b\b\\ \b\b| \b\b/ \b\b- \b\b\\ \b\b| \b\b/ \b\b- \b\b\\ \b\b| \b\b/ \b\b- \b\b\\ \b\b| \b\b/ \b\b- \b\b\\ \b\b| \b\b/ \b\b- \b\b\\ \b\b| \b\b/ \b\b- \b\b\\ \b\b| \b\b/ \b\b- \b\b\\ \b\b| \b\b/ \b\b- \b\b\\ \b\b| \b\b/ \b\b- \b\b\\ \b\b| \b\b/ \b\b- \b\b\\ \b\b| \b\b/ \b\b- \b\b\\ \b\b| \b\b/ \b\b- \b\b\\ \b\b| \b\b/ \b\b- \b\b\\ \b\b| \b\b/ \b\b- \b\b\\ \b\b| \b\b/ \b\b- \b\b\\ \b\b| \b\b/ \b\b- \b\b\\ \b\b| \b\b/ \b\b- \b\b\\ \b\b| \b\b/ \b\b- \b\b\\ \b\b| \b\b/ \b\b- \b\b\\ \b\b| \b\b/ \b\b- \b\b\\ \b\b| \b\b/ \b\b- \b\b\\ \b\b| \b\b/ \b\b- \b\b\\ \b\b| \b\b/ \b\b- \b\b\\ \b\b| \b\b/ \b\b- \b\b\\ \b\b| \b\b/ \b\b- \b\b\\ \b\b| \b\b/ \b\b- \b\b\\ \b\b| \b\b/ \b\b- \b\b\\ \b\b| \b\b/ \b\b- \b\b\\ \b\b| \b\b/ \b\b- \b\b\\ \b\b| \b\b/ \b\b- \b\b\\ \b\b| \b\b/ \b\b- \b\b\\ \b\b| \b\b/ \b\b- \b\b\\ \b\b| \b\b/ \b\b- \b\b\\ \b\b| \b\b/ \b\b- \b\b\\ \b\b| \b\b/ \b\b- \b\b\\ \b\b| \b\b/ \b\b- \b\b\\ \b\b| \b\b/ \b\b- \b\b\\ \b\b| \b\b/ \b\b- \b\b\\ \b\b| \b\b/ \b\b- \b\b\\ \b\b| \b\b/ \b\b- \b\b\\ \b\b| \b\b/ \b\b- \b\b\\ \b\b| \b\b/ \b\b- \b\b\\ \b\b| \b\b/ \b\b- \b\b\\ \b\b| \b\b/ \b\b- \b\b\\ \b\b| \b\b/ \b\b- \b\b\\ \b\b| \b\b/ \b\b- \b\b\\ \b\b| \b\b/ \b\b- \b\b\\ \b\b| \b\b/ \b\b- \b\b\\ \b\b| \b\b/ \b\b- \b\b\\ \b\b| \b\b/ \b\b- \b\b\\ \b\b| \b\b/ \b\b- \b\b\\ \b\b| \b\b/ \b\b- \b\b\\ \b\b| \b\b/ \b\b- \b\b\\ \b\b| \b\b/ \b\b- \b\b\\ \b\b| \b\b/ \b\b- \b\b\\ \b\b| \b\b/ \b\b- \b\b\\ \b\b| \b\b/ \b\b- \b\b\\ \b\b| \b\b/ \b\b- \b\b\\ \b\b| \b\b/ \b\b- \b\b\\ \b\b| \b\b/ \b\b- \b\b\\ \b\b| \b\b/ \b\b- \b\b\\ \b\b| \b\b/ \b\b- \b\b\\ \b\b| \b\b/ \b\b- \b\b\\ \b\b| \b\b/ \b\b- \b\b\\ \b\b| \b\b/ \b\b- \b\b\\ \b\b| \b\b/ \b\b- \b\b\\ \b\b| \b\b/ \b\b- \b\b\\ \b\b| \b\b/ \b\b- \b\b\\ \b\b| \b\b/ \b\b- \b\b\\ \b\b| \b\b/ \b\b- \b\b\\ \b\b| \b\b/ \b\b- \b\b\\ \b\b| \b\b/ \b\b- \b\b\\ \b\b| \b\b/ \b\b- \b\b\\ \b\b| \b\b/ \b\b- \b\b\\ \b\b| \b\b/ \b\b- \b\b\\ \b\b| \b\b/ \b\b- \b\b\\ \b\b| \b\b/ \b\b- \b\b\\ \b\b| \b\b/ \b\b- \b\b\\ \b\b| \b\b/ \b\b- \b\b\\ \b\b| \b\b/ \b\b- \b\b\\ \b\b| \b\b/ \b\b- \b\b\\ \b\b| \b\b/ \b\b- \b\b\\ \b\b| \b\b/ \b\b- \b\b\\ \b\b| \b\b/ \b\b- \b\b\\ \b\b| \b\b/ \b\b- \b\b\\ \b\b| \b\b/ \b\b- \b\b\\ \b\b| \b\b/ \b\b- \b\b\\ \b\b| \b\b/ \b\b- \b\b\\ \b\b| \b\b/ \b\b- \b\b\\ \b\b| \b\b/ \b\b- \b\b\\ \b\b| \b\b/ \b\b- \b\b\\ \b\b| \b\b/ \b\b- \b\b\\ \b\b| \b\b/ \b\b- \b\b\\ \b\b| \b\b/ \b\b- \b\b\\ \b\b| \b\b/ \b\b- \b\b\\ \b\b| \b\b/ \b\b- \b\b\\ \b\b| \b\b/ \b\b- \b\b\\ \b\b| \b\b/ \b\b- \b\b\\ \b\b| \b\b/ \b\b- \b\b\\ \b\b| \b\b/ \b\b- \b\b\\ \b\b| \b\b/ \b\b- \b\b\\ \b\b| \b\b/ \b\b- \b\b\\ \b\b| \b\b/ \b\b- \b\b\\ \b\b| \b\b/ \b\b- \b\b\\ \b\b| \b\b/ \b\b- \b\b\\ \b\b| \b\b/ \b\b- \b\b\\ \b\b| \b\b/ \b\b- \b\b\\ \b\b| \b\b/ \b\b- \b\b\\ \b\b| \b\b/ \b\b- \b\b\\ \b\b| \b\b/ \b\b- \b\b\\ \b\b| \b\b/ \b\b- \b\b\\ \b\b| \b\b/ \b\b- \b\b\\ \b\b| \b\b/ \b\b- \b\b\\ \b\b| \b\b/ \b\b- \b\b\\ \b\b| \b\b/ \b\b- \b\b\\ \b\b| \b\b/ \b\b- \b\b\\ \b\b| \b\b/ \b\b- \b\b\\ \b\b| \b\b/ \b\b- \b\b\\ \b\b| \b\b/ \b\b- \b\b\\ \b\b| \b\b/ \b\b- \b\b\\ \b\b| \b\b/ \b\b- \b\b\\ \b\b| \b\b/ \b\b- \b\b\\ \b\b| \b\b/ \b\b- \b\b\\ \b\b| \b\b/ \b\b- \b\b\\ \b\b| \b\b/ \b\b- \b\b\\ \b\b| \b\b/ \b\b- \b\b\\ \b\b| \b\b/ \b\b- \b\b\\ \b\b| \b\b/ \b\b- \b\b\\ \b\b| \b\b/ \b\b- \b\b\\ \b\b| \b\b/ \b\b- \b\b\\ \b\b| \b\b/ \b\b- \b\b\\ \b\b| \b\b/ \b\b- \b\b\\ \b\b| \b\b/ \b\b- \b\b\\ \b\b| \b\b/ \b\b- \b\b\\ \b\b| \b\b/ \b\b- \b\b\\ \b\b| \b\b/ \b\b- \b\b\\ \b\b| \b\b/ \b\b- \b\b\\ \b\b| \b\b/ \b\b- \b\b\\ \b\b| \b\b/ \b\b- \b\b\\ \b\b| \b\b/ \b\b- \b\b\\ \b\b| \b\b/ \b\b- \b\b\\ \b\b| \b\b/ \b\b- \b\b\\ \b\b| \b\b/ \b\b- \b\b\\ \b\b| \b\b/ \b\b- \b\b\\ \b\b| \b\b/ \b\b- \b\b\\ \b\b| \b\b/ \b\b- \b\b\\ \b\b| \b\b/ \b\b- \b\b\\ \b\b| \b\b/ \b\b- \b\b\\ \b\b| \b\b/ \b\b- \b\b\\ \b\b| \b\b/ \b\b- \b\b\\ \b\b| \b\b/ \b\b- \b\b\\ \b\b| \b\b/ \b\b- \b\b\\ \b\b| \b\b/ \b\b- \b\b\\ \b\b| \b\b/ \b\b- \b\b\\ \b\b| \b\b/ \b\b- \b\b\\ \b\b| \b\b/ \b\b- \b\b\\ \b\b| \b\b/ \b\b- \b\b\\ \b\b| \b\b/ \b\b- \b\b\\ \b\b| \b\b/ \b\b- \b\b\\ \b\b| \b\b/ \b\b- \b\b\\ \b\b| \b\b/ \b\b- \b\b\\ \b\b| \b\b/ \b\b- \b\b\\ \b\b| \b\b/ \b\b- \b\b\\ \b\b| \b\b/ \b\b- \b\b\\ \b\b| \b\b/ \b\b- \b\b\\ \b\b| \b\b/ \b\b- \b\b\\ \b\b| \b\b/ \b\b- \b\b\\ \b\b| \b\b/ \b\b- \b\b\\ \b\b| \b\b/ \b\b- \b\b\\ \b\b| \b\b/ \b\b- \b\b\\ \b\b| \b\b/ \b\b- \b\b\\ \b\b| \b\b/ \b\b- \b\b\\ \b\b| \b\b/ \b\b- \b\b\\ \b\b| \b\b/ \b\b- \b\b\\ \b\b| \b\b/ \b\b- \b\b\\ \b\b| \b\b/ \b\b- \b\b\\ \b\b| \b\b/ \b\b- \b\b\\ \b\b| \b\b/ \b\b- \b\b\\ \b\b| \b\b/ \b\b- \b\b\\ \b\b| \b\b/ \b\b- \b\b\\ \b\b| \b\b/ \b\b- \b\b\\ \b\b| \b\b/ \b\b- \b\b\\ \b\b| \b\b/ \b\b- \b\b\\ \b\b| \b\b/ \b\b- \b\b\\ \b\b| \b\b/ \b\b- \b\b\\ \b\b| \b\b/ \b\b- \b\b\\ \b\b| \b\b/ \b\b- \b\b\\ \b\b| \b\b/ \b\b- \b\b\\ \b\b| \b\b/ \b\b- \b\b\\ \b\b| \b\b/ \b\b- \b\b\\ \b\b| \b\b/ \b\b- \b\b\\ \b\b| \b\b/ \b\b- \b\b\\ \b\b| \b\b/ \b\b- \b\b\\ \b\b| \b\b/ \b\b- \b\b\\ \b\b| \b\b/ \b\b- \b\b\\ \b\b| \b\b/ \b\b- \b\b\\ \b\b| \b\b/ \b\b- \b\b\\ \b\b| \b\b/ \b\b- \b\b\\ \b\b| \b\b/ \b\b- \b\b\\ \b\b| \b\b/ \b\b- \b\b\\ \b\b| \b\b/ \b\b- \b\b\\ \b\b| \b\b/ \b\b- \b\b\\ \b\b| \b\b/ \b\b- \b\b\\ \b\b| \b\b/ \b\b- \b\b\\ \b\b| \b\b/ \b\b- \b\b\\ \b\b| \b\b/ \b\b- \b\b\\ \b\b| \b\b/ \b\b- \b\b\\ \b\b| \b\b/ \b\b- \b\b\\ \b\b| \b\b/ \b\b- \b\b\\ \b\b| \b\b/ \b\b- \b\b\\ \b\b| \b\b/ \b\b- \b\b\\ \b\b| \b\b/ \b\b- \b\b\\ \b\b| \b\b/ \b\b- \b\b\\ \b\b| \b\b/ \b\b- \b\b\\ \b\b| \b\b/ \b\b- \b\b\\ \b\b| \b\b/ \b\b- \b\b\\ \b\b| \b\b/ \b\b- \b\b\\ \b\b| \b\b/ \b\b- \b\b\\ \b\b| \b\b/ \b\b- \b\b\\ \b\b| \b\b/ \b\b- \b\b\\ \b\b| \b\b/ \b\b- \b\b\\ \b\b| \b\b/ \b\b- \b\b\\ \b\b| \b\b/ \b\b- \b\b\\ \b\b| \b\b/ \b\b- \b\b\\ \b\b| \b\b/ \b\b- \b\b\\ \b\b| \b\b/ \b\b- \b\b\\ \b\b| \b\b/ \b\b- \b\b\\ \b\b| \b\b/ \b\b- \b\b\\ \b\b| \b\b/ \b\b- \b\b\\ \b\b| \b\b/ \b\b- \b\b\\ \b\b| \b\b/ \b\b- \b\b\\ \b\b| \b\b/ \b\b- \b\b\\ \b\b| \b\b/ \b\b- \b\b\\ \b\b| \b\b/ \b\b- \b\b\\ \b\b| \b\b/ \b\b- \b\b\\ \b\b| \b\b/ \b\b- \b\b\\ \b\b| \b\b/ \b\b- \b\b\\ \b\b| \b\b/ \b\b- \b\b\\ \b\b| \b\b/ \b\b- \b\b\\ \b\b| \b\b/ \b\b- \b\b\\ \b\b| \b\b/ \b\b- \b\b\\ \b\b| \b\b/ \b\b- \b\b\\ \b\b| \b\b/ \b\b- \b\b\\ \b\b| \b\b/ \b\b- \b\b\\ \b\b| \b\b/ \b\b- \b\b\\ \b\b| \b\b/ \b\b- \b\b\\ \b\b| \b\b/ \b\b- \b\b\\ \b\b| \b\b/ \b\b- \b\b\\ \b\b| \b\b/ \b\b- \b\b\\ \b\b| \b\b/ \b\b- \b\b\\ \b\b| \b\b/ \b\b- \b\b\\ \b\b| \b\b/ \b\b- \b\b\\ \b\b| \b\b/ \b\b- \b\b\\ \b\b| \b\b/ \b\b- \b\b\\ \b\b| \b\b/ \b\b- \b\b\\ \b\b| \b\b/ \b\b- \b\b\\ \b\b| \b\b/ \b\b- \b\b\\ \b\b| \b\b/ \b\b- Ran pip subprocess with arguments:\n",
            "['/usr/local/bin/python', '-m', 'pip', 'install', '-U', '-r', '/content/ControlNet/condaenv.4t22zt66.requirements.txt', '--exists-action=b']\n",
            "Pip subprocess output:\n",
            "Looking in indexes: https://pypi.org/simple, https://us-python.pkg.dev/colab-wheels/public/simple/\n",
            "Collecting addict==2.4.0\n",
            "  Using cached addict-2.4.0-py3-none-any.whl (3.8 kB)\n",
            "Collecting albumentations==1.3.0\n",
            "  Using cached albumentations-1.3.0-py3-none-any.whl (123 kB)\n",
            "Requirement already satisfied: numpy>=1.11.1 in /usr/local/lib/python3.8/site-packages (from albumentations==1.3.0->-r /content/ControlNet/condaenv.4t22zt66.requirements.txt (line 2)) (1.23.1)\n",
            "Collecting basicsr==1.4.2\n",
            "  Using cached basicsr-1.4.2-py3-none-any.whl\n",
            "Requirement already satisfied: tqdm in /usr/local/lib/python3.8/site-packages (from basicsr==1.4.2->-r /content/ControlNet/condaenv.4t22zt66.requirements.txt (line 23)) (4.65.0)\n",
            "Requirement already satisfied: torch>=1.7 in /usr/local/lib/python3.8/site-packages (from basicsr==1.4.2->-r /content/ControlNet/condaenv.4t22zt66.requirements.txt (line 23)) (1.12.1)\n",
            "Requirement already satisfied: torchvision in /usr/local/lib/python3.8/site-packages (from basicsr==1.4.2->-r /content/ControlNet/condaenv.4t22zt66.requirements.txt (line 23)) (0.13.1)\n",
            "Requirement already satisfied: Pillow in /usr/local/lib/python3.8/site-packages (from basicsr==1.4.2->-r /content/ControlNet/condaenv.4t22zt66.requirements.txt (line 23)) (9.4.0)\n",
            "Requirement already satisfied: requests in /usr/local/lib/python3.8/site-packages (from basicsr==1.4.2->-r /content/ControlNet/condaenv.4t22zt66.requirements.txt (line 23)) (2.29.0)\n",
            "Collecting einops==0.3.0\n",
            "  Using cached einops-0.3.0-py2.py3-none-any.whl (25 kB)\n",
            "Collecting gradio==3.16.2\n",
            "  Using cached gradio-3.16.2-py3-none-any.whl (14.2 MB)\n",
            "Requirement already satisfied: typing-extensions in /usr/local/lib/python3.8/site-packages (from gradio==3.16.2->-r /content/ControlNet/condaenv.4t22zt66.requirements.txt (line 1)) (4.6.3)\n",
            "Collecting imageio==2.9.0\n",
            "  Using cached imageio-2.9.0-py3-none-any.whl (3.3 MB)\n",
            "Collecting imageio-ffmpeg==0.4.2\n",
            "  Using cached imageio_ffmpeg-0.4.2-py3-none-manylinux2010_x86_64.whl (26.9 MB)\n",
            "Collecting kornia==0.6\n",
            "  Using cached kornia-0.6.0-py2.py3-none-any.whl (367 kB)\n",
            "Requirement already satisfied: packaging in /usr/local/lib/python3.8/site-packages (from kornia==0.6->-r /content/ControlNet/condaenv.4t22zt66.requirements.txt (line 13)) (23.0)\n",
            "Collecting omegaconf==2.1.1\n",
            "  Using cached omegaconf-2.1.1-py3-none-any.whl (74 kB)\n",
            "Collecting open_clip_torch==2.0.2\n",
            "  Using cached open_clip_torch-2.0.2-py3-none-any.whl (1.4 MB)\n",
            "Collecting opencv-contrib-python==4.3.0.36\n",
            "  Using cached opencv_contrib_python-4.3.0.36-cp38-cp38-manylinux2014_x86_64.whl (49.9 MB)\n",
            "Collecting prettytable==3.6.0\n",
            "  Using cached prettytable-3.6.0-py3-none-any.whl (27 kB)\n",
            "Collecting pytorch-lightning==1.5.0\n",
            "  Using cached pytorch_lightning-1.5.0-py3-none-any.whl (1.0 MB)\n",
            "Collecting safetensors==0.2.7\n",
            "  Using cached safetensors-0.2.7-cp38-cp38-manylinux_2_17_x86_64.manylinux2014_x86_64.whl (1.2 MB)\n",
            "Collecting streamlit==1.12.1\n",
            "  Using cached streamlit-1.12.1-py2.py3-none-any.whl (9.1 MB)\n",
            "Collecting streamlit-drawable-canvas==0.8.0\n",
            "  Using cached streamlit_drawable_canvas-0.8.0-py3-none-any.whl (1.3 MB)\n",
            "Collecting timm==0.6.12\n",
            "  Using cached timm-0.6.12-py3-none-any.whl (549 kB)\n",
            "Collecting torchmetrics==0.6.0\n",
            "  Using cached torchmetrics-0.6.0-py3-none-any.whl (329 kB)\n",
            "Collecting transformers==4.19.2\n",
            "  Using cached transformers-4.19.2-py3-none-any.whl (4.2 MB)\n",
            "Collecting webdataset==0.2.5\n",
            "  Using cached webdataset-0.2.5-py3-none-any.whl (46 kB)\n",
            "Collecting yapf==0.32.0\n",
            "  Using cached yapf-0.32.0-py2.py3-none-any.whl (190 kB)\n",
            "Collecting antlr4-python3-runtime==4.8\n",
            "  Using cached antlr4_python3_runtime-4.8-py3-none-any.whl\n",
            "Collecting pyDeprecate==0.3.1\n",
            "  Using cached pyDeprecate-0.3.1-py3-none-any.whl (10 kB)\n",
            "Collecting invisible-watermark>=0.1.5\n",
            "  Using cached invisible_watermark-0.1.5-py3-none-any.whl (1.6 MB)\n",
            "Collecting test-tube>=0.7.5\n",
            "  Using cached test_tube-0.7.5-py3-none-any.whl\n",
            "Collecting altair>=4.2.0\n",
            "  Using cached altair-5.0.1-py3-none-any.whl (471 kB)\n",
            "Requirement already satisfied: toolz in /usr/local/lib/python3.8/site-packages (from altair>=4.2.0->gradio==3.16.2->-r /content/ControlNet/condaenv.4t22zt66.requirements.txt (line 1)) (0.12.0)\n",
            "Collecting blinker>=1.0.0\n",
            "  Using cached blinker-1.6.2-py3-none-any.whl (13 kB)\n",
            "Collecting cachetools>=4.0\n",
            "  Using cached cachetools-5.3.1-py3-none-any.whl (9.3 kB)\n",
            "Collecting click>=7.0\n",
            "  Using cached click-8.1.3-py3-none-any.whl (96 kB)\n",
            "Collecting fsspec\n",
            "  Using cached fsspec-2023.6.0-py3-none-any.whl (163 kB)\n",
            "Collecting aiohttp\n",
            "  Using cached aiohttp-3.8.4-cp38-cp38-manylinux_2_17_x86_64.manylinux2014_x86_64.whl (1.0 MB)\n",
            "Requirement already satisfied: charset-normalizer<4.0,>=2.0 in /usr/local/lib/python3.8/site-packages (from aiohttp->gradio==3.16.2->-r /content/ControlNet/condaenv.4t22zt66.requirements.txt (line 1)) (2.0.4)\n",
            "Collecting aiosignal>=1.1.2\n",
            "  Using cached aiosignal-1.3.1-py3-none-any.whl (7.6 kB)\n",
            "Collecting async-timeout<5.0,>=4.0.0a3\n",
            "  Using cached async_timeout-4.0.2-py3-none-any.whl (5.8 kB)\n",
            "Collecting attrs>=17.3.0\n",
            "  Using cached attrs-23.1.0-py3-none-any.whl (61 kB)\n",
            "Collecting frozenlist>=1.1.1\n",
            "  Using cached frozenlist-1.3.3-cp38-cp38-manylinux_2_5_x86_64.manylinux1_x86_64.manylinux_2_17_x86_64.manylinux2014_x86_64.whl (161 kB)\n",
            "Collecting future\n",
            "  Using cached future-0.18.3-py3-none-any.whl\n",
            "Collecting gitpython!=3.1.19\n",
            "  Using cached GitPython-3.1.31-py3-none-any.whl (184 kB)\n",
            "Collecting gitdb<5,>=4.0.1\n",
            "  Using cached gitdb-4.0.10-py3-none-any.whl (62 kB)\n",
            "Collecting huggingface-hub\n",
            "  Using cached huggingface_hub-0.15.1-py3-none-any.whl (236 kB)\n",
            "Collecting importlib-metadata>=1.4\n",
            "  Using cached importlib_metadata-6.7.0-py3-none-any.whl (22 kB)\n",
            "Collecting jsonschema>=3.0\n",
            "  Using cached jsonschema-4.17.3-py3-none-any.whl (90 kB)\n",
            "Collecting importlib-resources>=1.4.0\n",
            "  Using cached importlib_resources-5.12.0-py3-none-any.whl (36 kB)\n",
            "Collecting multidict<7.0,>=4.5\n",
            "  Using cached multidict-6.0.4-cp38-cp38-manylinux_2_17_x86_64.manylinux2014_x86_64.whl (121 kB)\n",
            "Collecting opencv-python\n",
            "  Using cached opencv_python-4.7.0.72-cp37-abi3-manylinux_2_17_x86_64.manylinux2014_x86_64.whl (61.8 MB)\n",
            "Collecting opencv-python-headless>=4.1.1\n",
            "  Using cached opencv_python_headless-4.7.0.72-cp37-abi3-manylinux_2_17_x86_64.manylinux2014_x86_64.whl (49.2 MB)\n",
            "Collecting pandas\n",
            "  Using cached pandas-2.0.2-cp38-cp38-manylinux_2_17_x86_64.manylinux2014_x86_64.whl (12.3 MB)\n",
            "Collecting pkgutil-resolve-name>=1.3.10\n",
            "  Using cached pkgutil_resolve_name-1.3.10-py3-none-any.whl (4.7 kB)\n",
            "Collecting protobuf<4,>=3.12\n",
            "  Using cached protobuf-3.20.3-cp38-cp38-manylinux_2_5_x86_64.manylinux1_x86_64.whl (1.0 MB)\n",
            "Collecting pyarrow>=4.0\n",
            "  Using cached pyarrow-12.0.1-cp38-cp38-manylinux_2_17_x86_64.manylinux2014_x86_64.whl (39.0 MB)\n",
            "Collecting pydeck>=0.1.dev5\n",
            "  Using cached pydeck-0.8.1b0-py2.py3-none-any.whl (4.8 MB)\n",
            "Collecting jinja2\n",
            "  Using cached Jinja2-3.1.2-py3-none-any.whl (133 kB)\n",
            "Collecting markupsafe\n",
            "  Using cached MarkupSafe-2.1.3-cp38-cp38-manylinux_2_17_x86_64.manylinux2014_x86_64.whl (25 kB)\n",
            "Collecting pympler>=0.9\n",
            "  Using cached Pympler-1.0.1-py3-none-any.whl (164 kB)\n",
            "Collecting pyrsistent!=0.17.0,!=0.17.1,!=0.17.2,>=0.14.0\n",
            "  Using cached pyrsistent-0.19.3-py3-none-any.whl (57 kB)\n",
            "Collecting python-dateutil\n",
            "  Using cached python_dateutil-2.8.2-py2.py3-none-any.whl (247 kB)\n",
            "Requirement already satisfied: six>=1.5 in /usr/local/lib/python3.8/site-packages (from python-dateutil->streamlit==1.12.1->-r /content/ControlNet/condaenv.4t22zt66.requirements.txt (line 9)) (1.16.0)\n",
            "Collecting pytz>=2020.1\n",
            "  Using cached pytz-2023.3-py2.py3-none-any.whl (502 kB)\n",
            "Collecting PyWavelets>=1.1.1\n",
            "  Using cached PyWavelets-1.4.1-cp38-cp38-manylinux_2_17_x86_64.manylinux2014_x86_64.whl (6.9 MB)\n",
            "Collecting PyYAML\n",
            "  Using cached PyYAML-6.0-cp38-cp38-manylinux_2_5_x86_64.manylinux1_x86_64.manylinux_2_12_x86_64.manylinux2010_x86_64.whl (701 kB)\n",
            "Collecting qudida>=0.0.4\n",
            "  Using cached qudida-0.0.4-py3-none-any.whl (3.5 kB)\n",
            "Collecting regex\n",
            "  Using cached regex-2023.6.3-cp38-cp38-manylinux_2_17_x86_64.manylinux2014_x86_64.whl (772 kB)\n",
            "Requirement already satisfied: certifi>=2017.4.17 in /usr/local/lib/python3.8/site-packages (from requests->basicsr==1.4.2->-r /content/ControlNet/condaenv.4t22zt66.requirements.txt (line 23)) (2023.5.7)\n",
            "Requirement already satisfied: idna<4,>=2.5 in /usr/local/lib/python3.8/site-packages (from requests->basicsr==1.4.2->-r /content/ControlNet/condaenv.4t22zt66.requirements.txt (line 23)) (3.4)\n",
            "Requirement already satisfied: urllib3<1.27,>=1.21.1 in /usr/local/lib/python3.8/site-packages (from requests->basicsr==1.4.2->-r /content/ControlNet/condaenv.4t22zt66.requirements.txt (line 23)) (1.25.8)\n",
            "Collecting rich>=10.11.0\n",
            "  Using cached rich-13.4.2-py3-none-any.whl (239 kB)\n",
            "Collecting markdown-it-py[linkify,plugins]\n",
            "  Using cached markdown_it_py-3.0.0-py3-none-any.whl (87 kB)\n",
            "Collecting mdurl~=0.1\n",
            "  Using cached mdurl-0.1.2-py3-none-any.whl (10.0 kB)\n",
            "Collecting pygments<3.0.0,>=2.13.0\n",
            "  Using cached Pygments-2.15.1-py3-none-any.whl (1.1 MB)\n",
            "Collecting scikit-image>=0.16.1\n",
            "  Using cached scikit_image-0.21.0-cp38-cp38-manylinux_2_17_x86_64.manylinux2014_x86_64.whl (13.9 MB)\n",
            "  Using cached scikit_image-0.20.0-cp38-cp38-manylinux_2_17_x86_64.manylinux2014_x86_64.whl (13.4 MB)\n",
            "Collecting lazy_loader>=0.2\n",
            "  Using cached lazy_loader-0.2-py3-none-any.whl (8.6 kB)\n",
            "Collecting networkx>=2.8\n",
            "  Using cached networkx-3.1-py3-none-any.whl (2.1 MB)\n",
            "Collecting scikit-learn>=0.19.1\n",
            "  Using cached scikit_learn-1.2.2-cp38-cp38-manylinux_2_17_x86_64.manylinux2014_x86_64.whl (9.8 MB)\n",
            "Collecting joblib>=1.1.1\n",
            "  Using cached joblib-1.2.0-py3-none-any.whl (297 kB)\n",
            "Collecting scipy\n",
            "  Using cached scipy-1.9.1-cp38-cp38-manylinux_2_17_x86_64.manylinux2014_x86_64.whl (43.4 MB)\n",
            "Collecting smmap<6,>=3.0.1\n",
            "  Using cached smmap-5.0.0-py3-none-any.whl (24 kB)\n",
            "Collecting tensorboard>=2.2.0\n",
            "  Using cached tensorboard-2.13.0-py3-none-any.whl (5.6 MB)\n",
            "Requirement already satisfied: setuptools>=41.0.0 in /usr/local/lib/python3.8/site-packages (from tensorboard>=2.2.0->pytorch-lightning==1.5.0->-r /content/ControlNet/condaenv.4t22zt66.requirements.txt (line 6)) (67.8.0)\n",
            "Requirement already satisfied: wheel>=0.26 in /usr/local/lib/python3.8/site-packages (from tensorboard>=2.2.0->pytorch-lightning==1.5.0->-r /content/ControlNet/condaenv.4t22zt66.requirements.txt (line 6)) (0.38.4)\n",
            "Collecting absl-py>=0.4\n",
            "  Using cached absl_py-1.4.0-py3-none-any.whl (126 kB)\n",
            "Collecting google-auth<3,>=1.6.3\n",
            "  Using cached google_auth-2.20.0-py2.py3-none-any.whl (181 kB)\n",
            "Collecting google-auth-oauthlib<1.1,>=0.5\n",
            "  Using cached google_auth_oauthlib-1.0.0-py2.py3-none-any.whl (18 kB)\n",
            "Collecting grpcio>=1.48.2\n",
            "  Using cached grpcio-1.56.0-cp38-cp38-manylinux_2_17_x86_64.manylinux2014_x86_64.whl (5.2 MB)\n",
            "Collecting markdown>=2.6.8\n",
            "  Using cached Markdown-3.4.3-py3-none-any.whl (93 kB)\n",
            "Collecting pyasn1-modules>=0.2.1\n",
            "  Using cached pyasn1_modules-0.3.0-py2.py3-none-any.whl (181 kB)\n",
            "Collecting pyasn1<0.6.0,>=0.4.6\n",
            "  Using cached pyasn1-0.5.0-py2.py3-none-any.whl (83 kB)\n",
            "Collecting requests-oauthlib>=0.7.0\n",
            "  Using cached requests_oauthlib-1.3.1-py2.py3-none-any.whl (23 kB)\n",
            "Collecting oauthlib>=3.0.0\n",
            "  Using cached oauthlib-3.2.2-py3-none-any.whl (151 kB)\n",
            "Collecting rsa<5,>=3.1.4\n",
            "  Using cached rsa-4.9-py3-none-any.whl (34 kB)\n",
            "Collecting tensorboard-data-server<0.8.0,>=0.7.0\n",
            "  Using cached tensorboard_data_server-0.7.1-py3-none-manylinux2014_x86_64.whl (6.6 MB)\n",
            "Collecting threadpoolctl>=2.0.0\n",
            "  Using cached threadpoolctl-3.1.0-py3-none-any.whl (14 kB)\n",
            "Collecting tifffile>=2022.8.12\n",
            "  Using cached tifffile-2023.4.12-py3-none-any.whl (219 kB)\n",
            "Collecting tokenizers!=0.11.3,<0.13,>=0.11.1\n",
            "  Using cached tokenizers-0.12.1-cp38-cp38-manylinux_2_12_x86_64.manylinux2010_x86_64.whl (6.6 MB)\n",
            "Collecting tornado>=5.0\n",
            "  Using cached tornado-6.3.2-cp38-abi3-manylinux_2_5_x86_64.manylinux1_x86_64.manylinux_2_17_x86_64.manylinux2014_x86_64.whl (426 kB)\n",
            "Collecting tzdata>=2022.1\n",
            "  Using cached tzdata-2023.3-py2.py3-none-any.whl (341 kB)\n",
            "Collecting tzlocal>=1.1\n",
            "  Using cached tzlocal-5.0.1-py3-none-any.whl (20 kB)\n",
            "Collecting validators>=0.2\n",
            "  Using cached validators-0.20.0-py3-none-any.whl\n",
            "Collecting decorator>=3.4.0\n",
            "  Using cached decorator-5.1.1-py3-none-any.whl (9.1 kB)\n",
            "Collecting websockets>=10.0\n",
            "  Using cached websockets-11.0.3-cp38-cp38-manylinux_2_5_x86_64.manylinux1_x86_64.manylinux_2_17_x86_64.manylinux2014_x86_64.whl (130 kB)\n",
            "Collecting werkzeug>=1.0.1\n",
            "  Using cached Werkzeug-2.3.6-py3-none-any.whl (242 kB)\n",
            "Collecting yarl<2.0,>=1.0\n",
            "  Using cached yarl-1.9.2-cp38-cp38-manylinux_2_17_x86_64.manylinux2014_x86_64.whl (266 kB)\n",
            "Collecting zipp>=0.5\n",
            "  Using cached zipp-3.15.0-py3-none-any.whl (6.8 kB)\n",
            "Collecting aiofiles\n",
            "  Using cached aiofiles-23.1.0-py3-none-any.whl (14 kB)\n",
            "Collecting backports.zoneinfo\n",
            "  Using cached backports.zoneinfo-0.2.1-cp38-cp38-manylinux1_x86_64.whl (74 kB)\n",
            "Collecting braceexpand\n",
            "  Using cached braceexpand-0.1.7-py2.py3-none-any.whl (5.9 kB)\n",
            "Collecting fastapi\n",
            "  Using cached fastapi-0.98.0-py3-none-any.whl (56 kB)\n",
            "Collecting pydantic\n",
            "  Using cached pydantic-1.10.9-cp38-cp38-manylinux_2_17_x86_64.manylinux2014_x86_64.whl (3.2 MB)\n",
            "Collecting starlette<0.28.0,>=0.27.0\n",
            "  Using cached starlette-0.27.0-py3-none-any.whl (66 kB)\n",
            "Collecting anyio<5,>=3.4.0\n",
            "  Using cached anyio-3.7.0-py3-none-any.whl (80 kB)\n",
            "Collecting sniffio>=1.1\n",
            "  Using cached sniffio-1.3.0-py3-none-any.whl (10 kB)\n",
            "Collecting exceptiongroup\n",
            "  Using cached exceptiongroup-1.1.1-py3-none-any.whl (14 kB)\n",
            "Collecting ffmpy\n",
            "  Using cached ffmpy-0.3.0-py3-none-any.whl\n",
            "Collecting filelock\n",
            "  Using cached filelock-3.12.2-py3-none-any.whl (10 kB)\n",
            "Collecting ftfy\n",
            "  Using cached ftfy-6.1.1-py3-none-any.whl (53 kB)\n",
            "Collecting wcwidth\n",
            "  Using cached wcwidth-0.2.6-py2.py3-none-any.whl (29 kB)\n",
            "Collecting httpx\n",
            "  Using cached httpx-0.24.1-py3-none-any.whl (75 kB)\n",
            "Collecting httpcore<0.18.0,>=0.15.0\n",
            "  Using cached httpcore-0.17.2-py3-none-any.whl (72 kB)\n",
            "Collecting h11<0.15,>=0.13\n",
            "  Using cached h11-0.14.0-py3-none-any.whl (58 kB)\n",
            "Collecting lmdb\n",
            "  Using cached lmdb-1.4.1-cp38-cp38-manylinux_2_17_x86_64.manylinux2014_x86_64.whl (298 kB)\n",
            "Collecting linkify-it-py<3,>=1\n",
            "  Using cached linkify_it_py-2.0.2-py3-none-any.whl (19 kB)\n",
            "Collecting matplotlib\n",
            "  Using cached matplotlib-3.7.1-cp38-cp38-manylinux_2_12_x86_64.manylinux2010_x86_64.whl (9.2 MB)\n",
            "Collecting contourpy>=1.0.1\n",
            "  Using cached contourpy-1.1.0-cp38-cp38-manylinux_2_17_x86_64.manylinux2014_x86_64.whl (300 kB)\n",
            "Collecting cycler>=0.10\n",
            "  Using cached cycler-0.11.0-py3-none-any.whl (6.4 kB)\n",
            "Collecting fonttools>=4.22.0\n",
            "  Using cached fonttools-4.40.0-cp38-cp38-manylinux_2_17_x86_64.manylinux2014_x86_64.whl (4.4 MB)\n",
            "Collecting kiwisolver>=1.0.1\n",
            "  Using cached kiwisolver-1.4.4-cp38-cp38-manylinux_2_5_x86_64.manylinux1_x86_64.whl (1.2 MB)\n",
            "Collecting pyparsing>=2.3.1\n",
            "  Using cached pyparsing-3.1.0-py3-none-any.whl (102 kB)\n",
            "Collecting mdit-py-plugins\n",
            "  Using cached mdit_py_plugins-0.4.0-py3-none-any.whl (54 kB)\n",
            "Collecting onnx\n",
            "  Using cached onnx-1.14.0-cp38-cp38-manylinux_2_17_x86_64.manylinux2014_x86_64.whl (14.6 MB)\n",
            "Collecting onnxruntime\n",
            "  Using cached onnxruntime-1.15.1-cp38-cp38-manylinux_2_17_x86_64.manylinux2014_x86_64.whl (5.9 MB)\n",
            "Collecting coloredlogs\n",
            "  Using cached coloredlogs-15.0.1-py2.py3-none-any.whl (46 kB)\n",
            "Collecting humanfriendly>=9.1\n",
            "  Using cached humanfriendly-10.0-py2.py3-none-any.whl (86 kB)\n",
            "Collecting flatbuffers\n",
            "  Using cached flatbuffers-23.5.26-py2.py3-none-any.whl (26 kB)\n",
            "Collecting orjson\n",
            "  Using cached orjson-3.9.1-cp38-cp38-manylinux_2_17_x86_64.manylinux2014_x86_64.whl (136 kB)\n",
            "Collecting pycryptodome\n",
            "  Using cached pycryptodome-3.18.0-cp35-abi3-manylinux_2_17_x86_64.manylinux2014_x86_64.whl (2.1 MB)\n",
            "Collecting pydub\n",
            "  Using cached pydub-0.25.1-py2.py3-none-any.whl (32 kB)\n",
            "Collecting python-multipart\n",
            "  Using cached python_multipart-0.0.6-py3-none-any.whl (45 kB)\n",
            "Collecting semver\n",
            "  Using cached semver-3.0.1-py3-none-any.whl (17 kB)\n",
            "Collecting sympy\n",
            "  Using cached sympy-1.12-py3-none-any.whl (5.7 MB)\n",
            "Collecting mpmath>=0.19\n",
            "  Using cached mpmath-1.3.0-py3-none-any.whl (536 kB)\n",
            "Collecting tb-nightly\n",
            "  Using cached tb_nightly-2.14.0a20230624-py3-none-any.whl (5.6 MB)\n",
            "Collecting toml\n",
            "  Using cached toml-0.10.2-py2.py3-none-any.whl (16 kB)\n",
            "Collecting uc-micro-py\n",
            "  Using cached uc_micro_py-1.0.2-py3-none-any.whl (6.2 kB)\n",
            "Collecting uvicorn\n",
            "  Using cached uvicorn-0.22.0-py3-none-any.whl (58 kB)\n",
            "Collecting watchdog\n",
            "  Using cached watchdog-3.0.0-py3-none-manylinux2014_x86_64.whl (82 kB)\n",
            "Installing collected packages: zipp, pyasn1, tzdata, sniffio, smmap, rsa, pytz, python-dateutil, pyrsistent, pyasn1-modules, pkgutil-resolve-name, oauthlib, multidict, mdurl, markupsafe, importlib-resources, frozenlist, exceptiongroup, cachetools, attrs, yarl, uc-micro-py, threadpoolctl, scipy, requests-oauthlib, pygments, pandas, mpmath, markdown-it-py, jsonschema, joblib, jinja2, importlib-metadata, humanfriendly, h11, google-auth, gitdb, decorator, backports.zoneinfo, async-timeout, anyio, aiosignal, werkzeug, wcwidth, watchdog, validators, tzlocal, tornado, toml, tifffile, tensorboard-data-server, sympy, starlette, semver, scikit-learn, rich, PyYAML, PyWavelets, pyparsing, pympler, pydeck, pydantic, pyarrow, protobuf, opencv-python-headless, networkx, mdit-py-plugins, markdown, linkify-it-py, lazy-loader, kiwisolver, imageio, httpcore, grpcio, google-auth-oauthlib, gitpython, fsspec, fonttools, flatbuffers, filelock, cycler, contourpy, coloredlogs, click, blinker, altair, aiohttp, absl-py, yapf, websockets, uvicorn, torchmetrics, tokenizers, tensorboard, tb-nightly, streamlit, scikit-image, regex, qudida, python-multipart, pydub, pyDeprecate, pycryptodome, orjson, opencv-python, onnxruntime, onnx, matplotlib, lmdb, huggingface-hub, httpx, future, ftfy, ffmpy, fastapi, braceexpand, antlr4-python3-runtime, aiofiles, addict, webdataset, transformers, timm, test-tube, streamlit-drawable-canvas, safetensors, pytorch-lightning, prettytable, opencv-contrib-python, open-clip-torch, omegaconf, kornia, invisible-watermark, imageio-ffmpeg, gradio, einops, basicsr, albumentations\n",
            "Successfully installed PyWavelets-1.4.1 PyYAML-6.0 absl-py-1.4.0 addict-2.4.0 aiofiles-23.1.0 aiohttp-3.8.4 aiosignal-1.3.1 albumentations-1.3.0 altair-5.0.1 antlr4-python3-runtime-4.8 anyio-3.7.0 async-timeout-4.0.2 attrs-23.1.0 backports.zoneinfo-0.2.1 basicsr-1.4.2 blinker-1.6.2 braceexpand-0.1.7 cachetools-5.3.1 click-8.1.3 coloredlogs-15.0.1 contourpy-1.1.0 cycler-0.11.0 decorator-5.1.1 einops-0.3.0 exceptiongroup-1.1.1 fastapi-0.98.0 ffmpy-0.3.0 filelock-3.12.2 flatbuffers-23.5.26 fonttools-4.40.0 frozenlist-1.3.3 fsspec-2023.6.0 ftfy-6.1.1 future-0.18.3 gitdb-4.0.10 gitpython-3.1.31 google-auth-2.20.0 google-auth-oauthlib-1.0.0 gradio-3.16.2 grpcio-1.56.0 h11-0.14.0 httpcore-0.17.2 httpx-0.24.1 huggingface-hub-0.15.1 humanfriendly-10.0 imageio-2.9.0 imageio-ffmpeg-0.4.2 importlib-metadata-6.7.0 importlib-resources-5.12.0 invisible-watermark-0.1.5 jinja2-3.1.2 joblib-1.2.0 jsonschema-4.17.3 kiwisolver-1.4.4 kornia-0.6.0 lazy-loader-0.2 linkify-it-py-2.0.2 lmdb-1.4.1 markdown-3.4.3 markdown-it-py-3.0.0 markupsafe-2.1.3 matplotlib-3.7.1 mdit-py-plugins-0.4.0 mdurl-0.1.2 mpmath-1.3.0 multidict-6.0.4 networkx-3.1 oauthlib-3.2.2 omegaconf-2.1.1 onnx-1.14.0 onnxruntime-1.15.1 open-clip-torch-2.0.2 opencv-contrib-python-4.3.0.36 opencv-python-4.7.0.72 opencv-python-headless-4.7.0.72 orjson-3.9.1 pandas-2.0.2 pkgutil-resolve-name-1.3.10 prettytable-3.6.0 protobuf-3.20.3 pyDeprecate-0.3.1 pyarrow-12.0.1 pyasn1-0.5.0 pyasn1-modules-0.3.0 pycryptodome-3.18.0 pydantic-1.10.9 pydeck-0.8.1b0 pydub-0.25.1 pygments-2.15.1 pympler-1.0.1 pyparsing-3.1.0 pyrsistent-0.19.3 python-dateutil-2.8.2 python-multipart-0.0.6 pytorch-lightning-1.5.0 pytz-2023.3 qudida-0.0.4 regex-2023.6.3 requests-oauthlib-1.3.1 rich-13.4.2 rsa-4.9 safetensors-0.2.7 scikit-image-0.20.0 scikit-learn-1.2.2 scipy-1.9.1 semver-3.0.1 smmap-5.0.0 sniffio-1.3.0 starlette-0.27.0 streamlit-1.12.1 streamlit-drawable-canvas-0.8.0 sympy-1.12 tb-nightly-2.14.0a20230624 tensorboard-2.13.0 tensorboard-data-server-0.7.1 test-tube-0.7.5 threadpoolctl-3.1.0 tifffile-2023.4.12 timm-0.6.12 tokenizers-0.12.1 toml-0.10.2 torchmetrics-0.6.0 tornado-6.3.2 transformers-4.19.2 tzdata-2023.3 tzlocal-5.0.1 uc-micro-py-1.0.2 uvicorn-0.22.0 validators-0.20.0 watchdog-3.0.0 wcwidth-0.2.6 webdataset-0.2.5 websockets-11.0.3 werkzeug-2.3.6 yapf-0.32.0 yarl-1.9.2 zipp-3.15.0\n",
            "\n",
            "\b\b\\ \b\bdone\n",
            "#\n",
            "# To activate this environment, use\n",
            "#\n",
            "#     $ conda activate base\n",
            "#\n",
            "# To deactivate an active environment, use\n",
            "#\n",
            "#     $ conda deactivate\n",
            "\n"
          ]
        }
      ]
    },
    {
      "cell_type": "code",
      "source": [
        "!conda env create -f environment.yaml"
      ],
      "metadata": {
        "id": "YeeRMCf6UGo6",
        "colab": {
          "base_uri": "https://localhost:8080/"
        },
        "outputId": "ea161d36-bcd6-42bf-8384-a5935c0105a4"
      },
      "execution_count": null,
      "outputs": [
        {
          "output_type": "stream",
          "name": "stdout",
          "text": [
            "\n",
            "CondaValueError: prefix already exists: /usr/local/envs/control\n",
            "\n"
          ]
        }
      ]
    },
    {
      "cell_type": "code",
      "source": [
        "!conda init"
      ],
      "metadata": {
        "id": "tElKBd-1Yrcr"
      },
      "execution_count": null,
      "outputs": []
    },
    {
      "cell_type": "code",
      "source": [
        "!echo $SHELL"
      ],
      "metadata": {
        "colab": {
          "base_uri": "https://localhost:8080/"
        },
        "id": "N5lbRDxvcW0F",
        "outputId": "565a6cc9-8f51-4ea5-a236-2166d8196496"
      },
      "execution_count": null,
      "outputs": [
        {
          "output_type": "stream",
          "name": "stdout",
          "text": [
            "/bin/bash\n"
          ]
        }
      ]
    },
    {
      "cell_type": "code",
      "source": [
        "!conda init bash"
      ],
      "metadata": {
        "id": "bEuciDv6ceSC"
      },
      "execution_count": null,
      "outputs": []
    },
    {
      "cell_type": "markdown",
      "source": [
        "'# 'the environment name 'control' is setting inside the 'environment.yaml'\n",
        "'''【bug solution】\n",
        "https://japan-challenge.net/conda-activateのエラーをconda-initで解決する/\n",
        "'''"
      ],
      "metadata": {
        "id": "s3hcFg_whWV9"
      }
    },
    {
      "cell_type": "code",
      "source": [
        "!source activate control && conda env list\n",
        "!conda env list"
      ],
      "metadata": {
        "colab": {
          "base_uri": "https://localhost:8080/"
        },
        "id": "xC9T1nz0sYVb",
        "outputId": "9e6fbb82-d7e9-4e46-9b25-c937cc55456d"
      },
      "execution_count": 43,
      "outputs": [
        {
          "output_type": "stream",
          "name": "stdout",
          "text": [
            "# conda environments:\n",
            "#\n",
            "base                  *  /usr/local\n",
            "control                  /usr/local/envs/control\n",
            "\n",
            "# conda environments:\n",
            "#\n",
            "base                     /usr/local\n",
            "control                  /usr/local/envs/control\n",
            "\n"
          ]
        }
      ]
    },
    {
      "cell_type": "code",
      "source": [
        "!conda info"
      ],
      "metadata": {
        "id": "5MTkKgxKtsAS",
        "outputId": "b6526b7b-ac87-464c-c162-fa5dd24d87e0",
        "colab": {
          "base_uri": "https://localhost:8080/"
        }
      },
      "execution_count": 41,
      "outputs": [
        {
          "output_type": "stream",
          "name": "stdout",
          "text": [
            "\n",
            "     active environment : None\n",
            "       user config file : /root/.condarc\n",
            " populated config files : \n",
            "          conda version : 23.3.1\n",
            "    conda-build version : not installed\n",
            "         python version : 3.8.5.final.0\n",
            "       virtual packages : __archspec=1=x86_64\n",
            "                          __glibc=2.31=0\n",
            "                          __linux=5.15.107=0\n",
            "                          __unix=0=0\n",
            "       base environment : /usr/local  (writable)\n",
            "      conda av data dir : /usr/local/etc/conda\n",
            "  conda av metadata url : None\n",
            "           channel URLs : https://repo.anaconda.com/pkgs/main/linux-64\n",
            "                          https://repo.anaconda.com/pkgs/main/noarch\n",
            "                          https://repo.anaconda.com/pkgs/r/linux-64\n",
            "                          https://repo.anaconda.com/pkgs/r/noarch\n",
            "          package cache : /usr/local/pkgs\n",
            "                          /root/.conda/pkgs\n",
            "       envs directories : /usr/local/envs\n",
            "                          /root/.conda/envs\n",
            "               platform : linux-64\n",
            "             user-agent : conda/23.3.1 requests/2.29.0 CPython/3.8.5 Linux/5.15.107+ ubuntu/20.04.6 glibc/2.31\n",
            "                UID:GID : 0:0\n",
            "             netrc file : None\n",
            "           offline mode : False\n",
            "\n"
          ]
        }
      ]
    },
    {
      "cell_type": "code",
      "source": [
        "# https://stackoverflow.com/questions/53031430/conda-environment-in-google-colab-google-colaboratory\n",
        "!conda activate control && conda env list"
      ],
      "metadata": {
        "id": "djTI9_ISU5Qs",
        "colab": {
          "base_uri": "https://localhost:8080/"
        },
        "outputId": "47200e50-a696-473b-c72b-9508243ebe1b"
      },
      "execution_count": null,
      "outputs": [
        {
          "output_type": "stream",
          "name": "stdout",
          "text": [
            "\n",
            "CommandNotFoundError: Your shell has not been properly configured to use 'conda activate'.\n",
            "To initialize your shell, run\n",
            "\n",
            "    $ conda init <SHELL_NAME>\n",
            "\n",
            "Currently supported shells are:\n",
            "  - bash\n",
            "  - fish\n",
            "  - tcsh\n",
            "  - xonsh\n",
            "  - zsh\n",
            "  - powershell\n",
            "\n",
            "See 'conda init --help' for more information and options.\n",
            "\n",
            "IMPORTANT: You may need to close and restart your shell after running 'conda init'.\n",
            "\n",
            "\n"
          ]
        }
      ]
    },
    {
      "cell_type": "code",
      "source": [
        "!conda env list"
      ],
      "metadata": {
        "id": "tKA-Csx6kKnO",
        "colab": {
          "base_uri": "https://localhost:8080/"
        },
        "outputId": "e6726b95-7c27-4913-c085-80e93c5e26d8"
      },
      "execution_count": null,
      "outputs": [
        {
          "output_type": "stream",
          "name": "stdout",
          "text": [
            "# conda environments:\n",
            "#\n",
            "base                     /usr/local\n",
            "control                  /usr/local/envs/control\n",
            "\n"
          ]
        }
      ]
    },
    {
      "cell_type": "code",
      "source": [
        "!pip install -r environment.yaml"
      ],
      "metadata": {
        "id": "QMHn5RyiqVZy",
        "outputId": "a1fb0a05-6dc2-4dea-82a4-fd2ad404027c",
        "colab": {
          "base_uri": "https://localhost:8080/"
        }
      },
      "execution_count": null,
      "outputs": [
        {
          "output_type": "stream",
          "name": "stdout",
          "text": [
            "\u001b[31mERROR: Invalid requirement: 'name: control' (from line 1 of environment.yaml)\u001b[0m\u001b[31m\n",
            "\u001b[0m"
          ]
        }
      ]
    },
    {
      "cell_type": "code",
      "source": [
        "%%script false --no-raise-error\n",
        "!unzip '/content/drive/MyDrive/datasets/imgs/fill50k.zip' -d '/content/drive/MyDrive/datasets/imgs/'"
      ],
      "metadata": {
        "id": "hNRDL9YR4_D6"
      },
      "execution_count": null,
      "outputs": []
    },
    {
      "cell_type": "code",
      "execution_count": null,
      "metadata": {
        "id": "ufQF8STj0S_6"
      },
      "outputs": [],
      "source": [
        "import json\n",
        "import cv2\n",
        "import numpy as np\n",
        "\n",
        "from torch.utils.data import Dataset\n",
        "\n",
        "dataset_folder='/content/drive/MyDrive/datasets/imgs/fill50k/'\n",
        "prompt_path=dataset_folder+'prompt.json'\n",
        "\n",
        "class MyDataset(Dataset):\n",
        "    def __init__(self):\n",
        "        self.data = []\n",
        "        with open(prompt_path, 'rt') as f:\n",
        "            for line in f:\n",
        "                self.data.append(json.loads(line))\n",
        "\n",
        "    def __len__(self):\n",
        "        return len(self.data)\n",
        "\n",
        "    def __getitem__(self, idx):\n",
        "        item = self.data[idx]\n",
        "\n",
        "        source_filename = item['source']\n",
        "        target_filename = item['target']\n",
        "        prompt = item['prompt']\n",
        "\n",
        "        source = cv2.imread(dataset_folder+ source_filename)\n",
        "        target = cv2.imread(dataset_folder+ target_filename)\n",
        "\n",
        "        # Do not forget that OpenCV read images in BGR order.\n",
        "        source = cv2.cvtColor(source, cv2.COLOR_BGR2RGB)\n",
        "        target = cv2.cvtColor(target, cv2.COLOR_BGR2RGB)\n",
        "\n",
        "        # Normalize source images to [0, 1].\n",
        "        source = source.astype(np.float32) / 255.0\n",
        "\n",
        "        # Normalize target images to [-1, 1].\n",
        "        target = (target.astype(np.float32) / 127.5) - 1.0\n",
        "\n",
        "        return dict(jpg=target, txt=prompt, hint=source)\n"
      ]
    },
    {
      "cell_type": "code",
      "source": [
        "dataset = MyDataset()\n",
        "print(len(dataset))\n",
        "\n",
        "item = dataset[1234]\n",
        "jpg = item['jpg']\n",
        "txt = item['txt']\n",
        "hint = item['hint']\n",
        "print(txt)\n",
        "print(jpg.shape)\n",
        "print(hint.shape)\n"
      ],
      "metadata": {
        "colab": {
          "base_uri": "https://localhost:8080/"
        },
        "id": "vnysNQD37FH0",
        "outputId": "957d928b-105b-4982-dd44-16d3e8ca910c"
      },
      "execution_count": null,
      "outputs": [
        {
          "output_type": "stream",
          "name": "stdout",
          "text": [
            "50000\n",
            "burly wood circle with orange background\n",
            "(512, 512, 3)\n",
            "(512, 512, 3)\n"
          ]
        }
      ]
    },
    {
      "cell_type": "code",
      "source": [
        "from share import *\n",
        "from cldm.model import create_model"
      ],
      "metadata": {
        "colab": {
          "base_uri": "https://localhost:8080/",
          "height": 474
        },
        "id": "12aMSFicOeXf",
        "outputId": "0540e704-30bb-4362-958b-e36889299879"
      },
      "execution_count": 44,
      "outputs": [
        {
          "output_type": "error",
          "ename": "ModuleNotFoundError",
          "evalue": "ignored",
          "traceback": [
            "\u001b[0;31m---------------------------------------------------------------------------\u001b[0m",
            "\u001b[0;31mModuleNotFoundError\u001b[0m                       Traceback (most recent call last)",
            "\u001b[0;32m<ipython-input-44-9309583c458f>\u001b[0m in \u001b[0;36m<cell line: 1>\u001b[0;34m()\u001b[0m\n\u001b[0;32m----> 1\u001b[0;31m \u001b[0;32mfrom\u001b[0m \u001b[0mshare\u001b[0m \u001b[0;32mimport\u001b[0m \u001b[0;34m*\u001b[0m\u001b[0;34m\u001b[0m\u001b[0;34m\u001b[0m\u001b[0m\n\u001b[0m\u001b[1;32m      2\u001b[0m \u001b[0;32mfrom\u001b[0m \u001b[0mcldm\u001b[0m\u001b[0;34m.\u001b[0m\u001b[0mmodel\u001b[0m \u001b[0;32mimport\u001b[0m \u001b[0mcreate_model\u001b[0m\u001b[0;34m\u001b[0m\u001b[0;34m\u001b[0m\u001b[0m\n",
            "\u001b[0;32m/content/ControlNet/share.py\u001b[0m in \u001b[0;36m<module>\u001b[0;34m\u001b[0m\n\u001b[1;32m      1\u001b[0m \u001b[0;32mimport\u001b[0m \u001b[0mconfig\u001b[0m\u001b[0;34m\u001b[0m\u001b[0;34m\u001b[0m\u001b[0m\n\u001b[0;32m----> 2\u001b[0;31m \u001b[0;32mfrom\u001b[0m \u001b[0mcldm\u001b[0m\u001b[0;34m.\u001b[0m\u001b[0mhack\u001b[0m \u001b[0;32mimport\u001b[0m \u001b[0mdisable_verbosity\u001b[0m\u001b[0;34m,\u001b[0m \u001b[0menable_sliced_attention\u001b[0m\u001b[0;34m\u001b[0m\u001b[0;34m\u001b[0m\u001b[0m\n\u001b[0m\u001b[1;32m      3\u001b[0m \u001b[0;34m\u001b[0m\u001b[0m\n\u001b[1;32m      4\u001b[0m \u001b[0;34m\u001b[0m\u001b[0m\n\u001b[1;32m      5\u001b[0m \u001b[0mdisable_verbosity\u001b[0m\u001b[0;34m(\u001b[0m\u001b[0;34m)\u001b[0m\u001b[0;34m\u001b[0m\u001b[0;34m\u001b[0m\u001b[0m\n",
            "\u001b[0;32m/content/ControlNet/cldm/hack.py\u001b[0m in \u001b[0;36m<module>\u001b[0;34m\u001b[0m\n\u001b[1;32m      1\u001b[0m \u001b[0;32mimport\u001b[0m \u001b[0mtorch\u001b[0m\u001b[0;34m\u001b[0m\u001b[0;34m\u001b[0m\u001b[0m\n\u001b[0;32m----> 2\u001b[0;31m \u001b[0;32mimport\u001b[0m \u001b[0meinops\u001b[0m\u001b[0;34m\u001b[0m\u001b[0;34m\u001b[0m\u001b[0m\n\u001b[0m\u001b[1;32m      3\u001b[0m \u001b[0;34m\u001b[0m\u001b[0m\n\u001b[1;32m      4\u001b[0m \u001b[0;32mimport\u001b[0m \u001b[0mldm\u001b[0m\u001b[0;34m.\u001b[0m\u001b[0mmodules\u001b[0m\u001b[0;34m.\u001b[0m\u001b[0mencoders\u001b[0m\u001b[0;34m.\u001b[0m\u001b[0mmodules\u001b[0m\u001b[0;34m\u001b[0m\u001b[0;34m\u001b[0m\u001b[0m\n\u001b[1;32m      5\u001b[0m \u001b[0;32mimport\u001b[0m \u001b[0mldm\u001b[0m\u001b[0;34m.\u001b[0m\u001b[0mmodules\u001b[0m\u001b[0;34m.\u001b[0m\u001b[0mattention\u001b[0m\u001b[0;34m\u001b[0m\u001b[0;34m\u001b[0m\u001b[0m\n",
            "\u001b[0;31mModuleNotFoundError\u001b[0m: No module named 'einops'",
            "",
            "\u001b[0;31m---------------------------------------------------------------------------\u001b[0;32m\nNOTE: If your import is failing due to a missing package, you can\nmanually install dependencies using either !pip or !apt.\n\nTo view examples of installing some common dependencies, click the\n\"Open Examples\" button below.\n\u001b[0;31m---------------------------------------------------------------------------\u001b[0m\n"
          ],
          "errorDetails": {
            "actions": [
              {
                "action": "open_url",
                "actionText": "Open Examples",
                "url": "/notebooks/snippets/importing_libraries.ipynb"
              }
            ]
          }
        }
      ]
    },
    {
      "cell_type": "code",
      "source": [
        "import sys\n",
        "import os\n",
        "import torch\n",
        "from share import *\n",
        "from cldm.model import create_model\n",
        "\n",
        "config_path='/content/drive/MyDrive/StableDifussion/models/cldm_v21.yaml'\n",
        "input_path='/content/drive/MyDrive/StableDifussion/models/v2-1_512-nonema-pruned.ckpt '\n",
        "output_path='/content/drive/MyDrive/my_models/controlnet_sd/control_sd21_ini.ckpt'\n",
        "\n",
        "def get_node_name(name, parent_name):\n",
        "    if len(name) <= len(parent_name):\n",
        "        return False, ''\n",
        "    p = name[:len(parent_name)]\n",
        "    if p != parent_name:\n",
        "        return False, ''\n",
        "    return True, name[len(parent_name):]\n",
        "\n",
        "\n",
        "def tool_add_control_sd21(input_path,output_path):\n",
        "\n",
        "  assert os.path.exists(input_path), 'Input model does not exist.'\n",
        "  assert not os.path.exists(output_path), 'Output filename already exists.'\n",
        "  assert os.path.exists(os.path.dirname(output_path)), 'Output path is not valid.'\n",
        "\n",
        "\n",
        "  model = create_model(config_path = config_path)\n",
        "\n",
        "  pretrained_weights = torch.load(input_path)\n",
        "  if 'state_dict' in pretrained_weights:\n",
        "      pretrained_weights = pretrained_weights['state_dict']\n",
        "\n",
        "  scratch_dict = model.state_dict()\n",
        "\n",
        "  target_dict = {}\n",
        "  for k in scratch_dict.keys():\n",
        "      is_control, name = get_node_name(k, 'control_')\n",
        "      if is_control:\n",
        "          copy_k = 'model.diffusion_' + name\n",
        "      else:\n",
        "          copy_k = k\n",
        "      if copy_k in pretrained_weights:\n",
        "          target_dict[k] = pretrained_weights[copy_k].clone()\n",
        "      else:\n",
        "          target_dict[k] = scratch_dict[k].clone()\n",
        "          print(f'These weights are newly added: {k}')\n",
        "\n",
        "  model.load_state_dict(target_dict, strict=True)\n",
        "  torch.save(model.state_dict(), output_path)\n",
        "  print('Done.')"
      ],
      "metadata": {
        "id": "IxvLBiWG7FFs"
      },
      "execution_count": null,
      "outputs": []
    },
    {
      "cell_type": "code",
      "source": [
        "from share import *\n",
        "\n",
        "import pytorch_lightning as pl\n",
        "from torch.utils.data import DataLoader\n",
        "from tutorial_dataset import MyDataset\n",
        "from cldm.logger import ImageLogger\n",
        "from cldm.model import create_model, load_state_dict\n",
        "\n",
        "\n",
        "# Configs\n",
        "resume_path = './models/control_sd21_ini.ckpt'\n",
        "batch_size = 4\n",
        "logger_freq = 300\n",
        "learning_rate = 1e-5\n",
        "sd_locked = True\n",
        "only_mid_control = False\n",
        "\n",
        "\n",
        "# First use cpu to load models. Pytorch Lightning will automatically move it to GPUs.\n",
        "model = create_model('./models/cldm_v21.yaml').cpu()\n",
        "model.load_state_dict(load_state_dict(resume_path, location='cpu'))\n",
        "model.learning_rate = learning_rate\n",
        "model.sd_locked = sd_locked\n",
        "model.only_mid_control = only_mid_control\n",
        "\n",
        "\n",
        "# Misc\n",
        "dataset = MyDataset()\n",
        "dataloader = DataLoader(dataset, num_workers=0, batch_size=batch_size, shuffle=True)\n",
        "logger = ImageLogger(batch_frequency=logger_freq)\n",
        "trainer = pl.Trainer(gpus=1, precision=32, callbacks=[logger])\n",
        "\n",
        "\n",
        "# Train!\n",
        "trainer.fit(model, dataloader)"
      ],
      "metadata": {
        "id": "UXLFI6Si7FD1"
      },
      "execution_count": null,
      "outputs": []
    },
    {
      "cell_type": "code",
      "source": [],
      "metadata": {
        "id": "iLmlc3487FCa"
      },
      "execution_count": null,
      "outputs": []
    },
    {
      "cell_type": "code",
      "source": [],
      "metadata": {
        "id": "SUViZpau7E_9"
      },
      "execution_count": null,
      "outputs": []
    }
  ]
}