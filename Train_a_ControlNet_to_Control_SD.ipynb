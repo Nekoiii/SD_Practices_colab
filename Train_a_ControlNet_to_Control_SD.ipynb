{
  "nbformat": 4,
  "nbformat_minor": 0,
  "metadata": {
    "colab": {
      "provenance": [],
      "authorship_tag": "ABX9TyPLtz3hKWXeLGgUSkIOjbQH",
      "include_colab_link": true
    },
    "kernelspec": {
      "name": "python3",
      "display_name": "Python 3"
    },
    "language_info": {
      "name": "python"
    }
  },
  "cells": [
    {
      "cell_type": "markdown",
      "metadata": {
        "id": "view-in-github",
        "colab_type": "text"
      },
      "source": [
        "<a href=\"https://colab.research.google.com/github/Nekoiii/ML_Practices_colab/blob/main/Train_a_ControlNet_to_Control_SD.ipynb\" target=\"_parent\"><img src=\"https://colab.research.google.com/assets/colab-badge.svg\" alt=\"Open In Colab\"/></a>"
      ]
    },
    {
      "cell_type": "markdown",
      "source": [
        "https://github.com/lllyasviel/ControlNet/blob/main/docs/train.md"
      ],
      "metadata": {
        "id": "2h_Swalg0aKk"
      }
    },
    {
      "cell_type": "code",
      "source": [
        "from google.colab import drive\n",
        "drive.mount('/content/drive')"
      ],
      "metadata": {
        "colab": {
          "base_uri": "https://localhost:8080/"
        },
        "id": "K1P9Womy6GPo",
        "outputId": "8f3ccae2-fa03-4399-ef1c-e8aa1b69260f"
      },
      "execution_count": 1,
      "outputs": [
        {
          "output_type": "stream",
          "name": "stdout",
          "text": [
            "Mounted at /content/drive\n"
          ]
        }
      ]
    },
    {
      "cell_type": "code",
      "source": [
        "%%script false --no-raise-error\n",
        "!unzip '/content/drive/MyDrive/datasets/imgs/fill50k.zip' -d '/content/drive/MyDrive/datasets/imgs/'"
      ],
      "metadata": {
        "id": "hNRDL9YR4_D6"
      },
      "execution_count": null,
      "outputs": []
    },
    {
      "cell_type": "code",
      "execution_count": 5,
      "metadata": {
        "id": "ufQF8STj0S_6"
      },
      "outputs": [],
      "source": [
        "import json\n",
        "import cv2\n",
        "import numpy as np\n",
        "\n",
        "from torch.utils.data import Dataset\n",
        "\n",
        "dataset_folder='/content/drive/MyDrive/datasets/imgs/fill50k/'\n",
        "prompt_path=dataset_folder+'prompt.json'\n",
        "\n",
        "class MyDataset(Dataset):\n",
        "    def __init__(self):\n",
        "        self.data = []\n",
        "        with open(prompt_path, 'rt') as f:\n",
        "            for line in f:\n",
        "                self.data.append(json.loads(line))\n",
        "\n",
        "    def __len__(self):\n",
        "        return len(self.data)\n",
        "\n",
        "    def __getitem__(self, idx):\n",
        "        item = self.data[idx]\n",
        "\n",
        "        source_filename = item['source']\n",
        "        target_filename = item['target']\n",
        "        prompt = item['prompt']\n",
        "\n",
        "        source = cv2.imread(dataset_folder+ source_filename)\n",
        "        target = cv2.imread(dataset_folder+ target_filename)\n",
        "\n",
        "        # Do not forget that OpenCV read images in BGR order.\n",
        "        source = cv2.cvtColor(source, cv2.COLOR_BGR2RGB)\n",
        "        target = cv2.cvtColor(target, cv2.COLOR_BGR2RGB)\n",
        "\n",
        "        # Normalize source images to [0, 1].\n",
        "        source = source.astype(np.float32) / 255.0\n",
        "\n",
        "        # Normalize target images to [-1, 1].\n",
        "        target = (target.astype(np.float32) / 127.5) - 1.0\n",
        "\n",
        "        return dict(jpg=target, txt=prompt, hint=source)\n"
      ]
    },
    {
      "cell_type": "code",
      "source": [
        "dataset = MyDataset()\n",
        "print(len(dataset))\n",
        "\n",
        "item = dataset[1234]\n",
        "jpg = item['jpg']\n",
        "txt = item['txt']\n",
        "hint = item['hint']\n",
        "print(txt)\n",
        "print(jpg.shape)\n",
        "print(hint.shape)\n"
      ],
      "metadata": {
        "colab": {
          "base_uri": "https://localhost:8080/"
        },
        "id": "vnysNQD37FH0",
        "outputId": "6da9c438-e336-4aa7-d2bd-977df8e4431b"
      },
      "execution_count": 6,
      "outputs": [
        {
          "output_type": "stream",
          "name": "stdout",
          "text": [
            "50000\n",
            "burly wood circle with orange background\n",
            "(512, 512, 3)\n",
            "(512, 512, 3)\n"
          ]
        }
      ]
    },
    {
      "cell_type": "code",
      "source": [
        "%%writefile config.py\n",
        "save_memory = False"
      ],
      "metadata": {
        "colab": {
          "base_uri": "https://localhost:8080/"
        },
        "id": "tEEW4sHOLYC8",
        "outputId": "f3c9fdc0-998f-4336-bf6e-adecc5a5fd4e"
      },
      "execution_count": 8,
      "outputs": [
        {
          "output_type": "stream",
          "name": "stdout",
          "text": [
            "Writing config.py\n"
          ]
        }
      ]
    },
    {
      "cell_type": "code",
      "source": [
        "%%writefile cldm/hack.py"
      ],
      "metadata": {
        "id": "BvwsbKJTLl0O"
      },
      "execution_count": null,
      "outputs": []
    },
    {
      "cell_type": "code",
      "source": [
        "%%writefile share.py\n",
        "\n",
        "import config\n",
        "from cldm.hack import disable_verbosity, enable_sliced_attention\n",
        "\n",
        "\n",
        "disable_verbosity()\n",
        "\n",
        "if config.save_memory:\n",
        "    enable_sliced_attention()\n"
      ],
      "metadata": {
        "colab": {
          "base_uri": "https://localhost:8080/"
        },
        "id": "aHSnmYWELMXJ",
        "outputId": "d7672cd6-7572-4f54-f85f-b6d0cca5c8da"
      },
      "execution_count": 7,
      "outputs": [
        {
          "output_type": "stream",
          "name": "stdout",
          "text": [
            "Writing share.py\n"
          ]
        }
      ]
    },
    {
      "cell_type": "code",
      "source": [
        "import sys\n",
        "import os\n",
        "import torch\n",
        "from share import *\n",
        "from cldm.model import create_model\n",
        "\n",
        "config_path='/content/drive/MyDrive/StableDifussion/models/cldm_v21.yaml'\n",
        "input_path='/content/drive/MyDrive/StableDifussion/models/v2-1_512-nonema-pruned.ckpt '\n",
        "output_path='/content/drive/MyDrive/my_models/controlnet_sd/control_sd21_ini.ckpt'\n",
        "\n",
        "def get_node_name(name, parent_name):\n",
        "    if len(name) <= len(parent_name):\n",
        "        return False, ''\n",
        "    p = name[:len(parent_name)]\n",
        "    if p != parent_name:\n",
        "        return False, ''\n",
        "    return True, name[len(parent_name):]\n",
        "\n",
        "\n",
        "def tool_add_control_sd21(input_path,output_path):\n",
        "\n",
        "  assert os.path.exists(input_path), 'Input model does not exist.'\n",
        "  assert not os.path.exists(output_path), 'Output filename already exists.'\n",
        "  assert os.path.exists(os.path.dirname(output_path)), 'Output path is not valid.'\n",
        "\n",
        "\n",
        "  model = create_model(config_path = config_path)\n",
        "\n",
        "  pretrained_weights = torch.load(input_path)\n",
        "  if 'state_dict' in pretrained_weights:\n",
        "      pretrained_weights = pretrained_weights['state_dict']\n",
        "\n",
        "  scratch_dict = model.state_dict()\n",
        "\n",
        "  target_dict = {}\n",
        "  for k in scratch_dict.keys():\n",
        "      is_control, name = get_node_name(k, 'control_')\n",
        "      if is_control:\n",
        "          copy_k = 'model.diffusion_' + name\n",
        "      else:\n",
        "          copy_k = k\n",
        "      if copy_k in pretrained_weights:\n",
        "          target_dict[k] = pretrained_weights[copy_k].clone()\n",
        "      else:\n",
        "          target_dict[k] = scratch_dict[k].clone()\n",
        "          print(f'These weights are newly added: {k}')\n",
        "\n",
        "  model.load_state_dict(target_dict, strict=True)\n",
        "  torch.save(model.state_dict(), output_path)\n",
        "  print('Done.')"
      ],
      "metadata": {
        "id": "IxvLBiWG7FFs"
      },
      "execution_count": null,
      "outputs": []
    },
    {
      "cell_type": "code",
      "source": [
        "from share import *\n",
        "\n",
        "import pytorch_lightning as pl\n",
        "from torch.utils.data import DataLoader\n",
        "from tutorial_dataset import MyDataset\n",
        "from cldm.logger import ImageLogger\n",
        "from cldm.model import create_model, load_state_dict\n",
        "\n",
        "\n",
        "# Configs\n",
        "resume_path = './models/control_sd21_ini.ckpt'\n",
        "batch_size = 4\n",
        "logger_freq = 300\n",
        "learning_rate = 1e-5\n",
        "sd_locked = True\n",
        "only_mid_control = False\n",
        "\n",
        "\n",
        "# First use cpu to load models. Pytorch Lightning will automatically move it to GPUs.\n",
        "model = create_model('./models/cldm_v21.yaml').cpu()\n",
        "model.load_state_dict(load_state_dict(resume_path, location='cpu'))\n",
        "model.learning_rate = learning_rate\n",
        "model.sd_locked = sd_locked\n",
        "model.only_mid_control = only_mid_control\n",
        "\n",
        "\n",
        "# Misc\n",
        "dataset = MyDataset()\n",
        "dataloader = DataLoader(dataset, num_workers=0, batch_size=batch_size, shuffle=True)\n",
        "logger = ImageLogger(batch_frequency=logger_freq)\n",
        "trainer = pl.Trainer(gpus=1, precision=32, callbacks=[logger])\n",
        "\n",
        "\n",
        "# Train!\n",
        "trainer.fit(model, dataloader)"
      ],
      "metadata": {
        "id": "UXLFI6Si7FD1"
      },
      "execution_count": null,
      "outputs": []
    },
    {
      "cell_type": "code",
      "source": [],
      "metadata": {
        "id": "iLmlc3487FCa"
      },
      "execution_count": null,
      "outputs": []
    },
    {
      "cell_type": "code",
      "source": [],
      "metadata": {
        "id": "SUViZpau7E_9"
      },
      "execution_count": null,
      "outputs": []
    }
  ]
}