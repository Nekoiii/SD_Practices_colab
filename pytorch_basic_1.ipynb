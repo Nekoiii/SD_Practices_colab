{
  "nbformat": 4,
  "nbformat_minor": 0,
  "metadata": {
    "colab": {
      "provenance": [],
      "authorship_tag": "ABX9TyOVq1mKsy/8nVjUQQPxsYoY",
      "include_colab_link": true
    },
    "kernelspec": {
      "name": "python3",
      "display_name": "Python 3"
    },
    "language_info": {
      "name": "python"
    }
  },
  "cells": [
    {
      "cell_type": "markdown",
      "metadata": {
        "id": "view-in-github",
        "colab_type": "text"
      },
      "source": [
        "<a href=\"https://colab.research.google.com/github/Nekoiii/ML_Practices_colab/blob/main/pytorch_basic_1.ipynb\" target=\"_parent\"><img src=\"https://colab.research.google.com/assets/colab-badge.svg\" alt=\"Open In Colab\"/></a>"
      ]
    },
    {
      "cell_type": "code",
      "execution_count": 1,
      "metadata": {
        "id": "3Rd0dtrqd4pj"
      },
      "outputs": [],
      "source": [
        "import torch"
      ]
    },
    {
      "cell_type": "code",
      "source": [
        "# Creates tensor variable\n",
        "x = torch.tensor([3.0])\n",
        "print(x,x.dtype)\n",
        "\n",
        "x = torch.tensor([8] )\n",
        "print(x,x.dtype)\n",
        "\n",
        "x = torch.tensor([8] , dtype = torch.float)\n",
        "print(x,x.dtype)"
      ],
      "metadata": {
        "colab": {
          "base_uri": "https://localhost:8080/"
        },
        "id": "DsxFY4MJesMn",
        "outputId": "7e968637-349c-48f2-ba4e-858f4f8bc90d"
      },
      "execution_count": 7,
      "outputs": [
        {
          "output_type": "stream",
          "name": "stdout",
          "text": [
            "tensor([3.]) torch.float32\n",
            "tensor([8]) torch.int64\n",
            "tensor([8.]) torch.float32\n"
          ]
        }
      ]
    },
    {
      "cell_type": "code",
      "source": [
        "# numpy.ndarray and torch.tensor can be converted interchangeably.\n",
        "import torch\n",
        "import numpy as np\n",
        "\n",
        "t = torch.tensor([[3.0, 2.0], [5.0, 6.0]])\n",
        "t_to_arr = t.numpy()\n",
        "print(t,t.dtype,'\\n',t_to_arr,t_to_arr.dtype)\n",
        "\n",
        "arr = np.array([[3.0,2.0],[5.0,6.0]])\n",
        "arr_to_t = torch.from_numpy(arr)\n",
        "print(arr,arr.dtype,'\\n',arr_to_t,arr_to_t.dtype)"
      ],
      "metadata": {
        "id": "D0bq-TTLfn7n"
      },
      "execution_count": null,
      "outputs": []
    },
    {
      "cell_type": "code",
      "source": [
        "# Change data type\n",
        "# (PyTorch defaults to float32, while NumPy defaults to float64)\n",
        "\n",
        "x=torch.tensor([[3.0, 2.0], [5.0, 6.0]])\n",
        "x_modified=x.to(torch.float32)\n",
        "print(x.dtype,x_modified.dtype)\n",
        "\n",
        "x=np.array([[3.0, 2.0], [5.0, 6.0]])\n",
        "x_modified=x.astype(np.float64)\n",
        "print(x.dtype,x_modified.dtype)"
      ],
      "metadata": {
        "colab": {
          "base_uri": "https://localhost:8080/"
        },
        "id": "_qVV1twOkkqE",
        "outputId": "02fb7d90-2e1b-4862-8910-704c832bf6d7"
      },
      "execution_count": 22,
      "outputs": [
        {
          "output_type": "stream",
          "name": "stdout",
          "text": [
            "torch.float32 torch.float32\n",
            "float64 float32\n"
          ]
        }
      ]
    }
  ]
}