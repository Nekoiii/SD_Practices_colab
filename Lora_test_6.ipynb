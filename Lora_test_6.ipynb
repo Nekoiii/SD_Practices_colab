{
  "nbformat": 4,
  "nbformat_minor": 0,
  "metadata": {
    "colab": {
      "provenance": [],
      "authorship_tag": "ABX9TyNlQAeWq+VRV1Tgr/VbHiAX",
      "include_colab_link": true
    },
    "kernelspec": {
      "name": "python3",
      "display_name": "Python 3"
    },
    "language_info": {
      "name": "python"
    }
  },
  "cells": [
    {
      "cell_type": "markdown",
      "metadata": {
        "id": "view-in-github",
        "colab_type": "text"
      },
      "source": [
        "<a href=\"https://colab.research.google.com/github/Nekoiii/ML_Practices_colab/blob/main/Lora_test_6.ipynb\" target=\"_parent\"><img src=\"https://colab.research.google.com/assets/colab-badge.svg\" alt=\"Open In Colab\"/></a>"
      ]
    },
    {
      "cell_type": "code",
      "execution_count": null,
      "metadata": {
        "id": "rV9YQqDXRImk"
      },
      "outputs": [],
      "source": [
        "# write dataset config\n",
        "import toml\n",
        "instance_data_dir='/content/drive/MyDrive/datasets/imgs/with_txt_resized_canbright_imgs_1_partial/'\n",
        "\n",
        "dataset_config={\n",
        "    'general': {\n",
        "        'enable_bucket': True\n",
        "    },\n",
        "    'datasets': [\n",
        "        {\n",
        "            'resolution': 512,\n",
        "            'batch_size': 4,\n",
        "            'subsets': [\n",
        "                {\n",
        "                    'image_dir': instance_data_dir,\n",
        "                    'caption_extension': '.txt',\n",
        "                    'num_repeats': 1\n",
        "                }\n",
        "            ]\n",
        "        }\n",
        "    ]\n",
        "}\n",
        "dataset_config_path='/content/drive/MyDrive/ML_Practices/Lora_test_1/lora/dataset_config.toml'\n",
        "with open(dataset_config_path, 'w') as file:\n",
        "    toml.dump(dataset_config, file)"
      ]
    }
  ]
}